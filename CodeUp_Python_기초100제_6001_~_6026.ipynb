{
  "nbformat": 4,
  "nbformat_minor": 0,
  "metadata": {
    "colab": {
      "name": "CodeUp_Python_기초100제_6001 ~ 6026.ipynb",
      "provenance": [],
      "authorship_tag": "ABX9TyOzcoaS+KpO1BOzCd08WQlB",
      "include_colab_link": true
    },
    "kernelspec": {
      "name": "python3",
      "display_name": "Python 3"
    },
    "language_info": {
      "name": "python"
    }
  },
  "cells": [
    {
      "cell_type": "markdown",
      "metadata": {
        "id": "view-in-github",
        "colab_type": "text"
      },
      "source": [
        "<a href=\"https://colab.research.google.com/github/jelly12paw/TIL/blob/main/CodeUp_Python_%EA%B8%B0%EC%B4%88100%EC%A0%9C_6001_~_6026.ipynb\" target=\"_parent\"><img src=\"https://colab.research.google.com/assets/colab-badge.svg\" alt=\"Open In Colab\"/></a>"
      ]
    },
    {
      "cell_type": "markdown",
      "source": [
        "# CodeUP Python 기초 100제\n",
        "## 6001번 ~ 6026번 문제풀이"
      ],
      "metadata": {
        "id": "o2EtkV8HM_ej"
      }
    },
    {
      "cell_type": "code",
      "execution_count": 1,
      "metadata": {
        "colab": {
          "base_uri": "https://localhost:8080/"
        },
        "id": "JuJ01HH9Mmuv",
        "outputId": "c160a85d-73c3-43de-97ef-fb6edde753f3"
      },
      "outputs": [
        {
          "output_type": "stream",
          "name": "stdout",
          "text": [
            "Hello\n"
          ]
        }
      ],
      "source": [
        "# 6001번\n",
        "# Hello 출력하기\n",
        "\n",
        "print('Hello')"
      ]
    },
    {
      "cell_type": "code",
      "source": [
        "# 6002번\n",
        "# Hello World 출력하기\n",
        "\n",
        "print('Hello World')"
      ],
      "metadata": {
        "colab": {
          "base_uri": "https://localhost:8080/"
        },
        "id": "HJ0Kz2XbNvas",
        "outputId": "93dc1196-bc0c-4c79-e29e-3c975902fa08"
      },
      "execution_count": 2,
      "outputs": [
        {
          "output_type": "stream",
          "name": "stdout",
          "text": [
            "Hello World\n"
          ]
        }
      ]
    },
    {
      "cell_type": "code",
      "source": [
        "# 6003번\n",
        "# Hello\n",
        "# World 줄 바꿈으로 출력\n",
        "\n",
        "print('Hello\\nWorld')"
      ],
      "metadata": {
        "colab": {
          "base_uri": "https://localhost:8080/"
        },
        "id": "rbqw6jlUOEwT",
        "outputId": "e19cd7e8-f118-4d29-e332-df55a0a0ea74"
      },
      "execution_count": 6,
      "outputs": [
        {
          "output_type": "stream",
          "name": "stdout",
          "text": [
            "Hello\n",
            "World\n"
          ]
        }
      ]
    },
    {
      "cell_type": "code",
      "source": [
        "# 6004번\n",
        "# 'Hello' 출력하기\n",
        "\n",
        "print('\\'Hello\\'')"
      ],
      "metadata": {
        "colab": {
          "base_uri": "https://localhost:8080/"
        },
        "id": "daAPuUarOez1",
        "outputId": "3ba5f228-c4f3-4ed2-9a2d-2f73e993b443"
      },
      "execution_count": 7,
      "outputs": [
        {
          "output_type": "stream",
          "name": "stdout",
          "text": [
            "'Hello'\n"
          ]
        }
      ]
    },
    {
      "cell_type": "code",
      "source": [
        "# 6005번\n",
        "# \"Hello World\" 출력하기\n",
        "\n",
        "print('\\\"Hello World\\\"')"
      ],
      "metadata": {
        "colab": {
          "base_uri": "https://localhost:8080/"
        },
        "id": "4pzSxv-8O8s3",
        "outputId": "74d83032-b0d5-44ce-f879-245103765e84"
      },
      "execution_count": 8,
      "outputs": [
        {
          "output_type": "stream",
          "name": "stdout",
          "text": [
            "\"Hello World\"\n"
          ]
        }
      ]
    },
    {
      "cell_type": "code",
      "source": [
        "# 6006번\n",
        "# \"!@#$%^&*()' 출력하기\n",
        "\n",
        "print('\\\"!@#$%^&*()\\'')"
      ],
      "metadata": {
        "colab": {
          "base_uri": "https://localhost:8080/"
        },
        "id": "F1CPoyGkPHNX",
        "outputId": "6cceaaf1-9d2a-4a39-b096-c18668a980fd"
      },
      "execution_count": 9,
      "outputs": [
        {
          "output_type": "stream",
          "name": "stdout",
          "text": [
            "\"!@#$%^&*()'\n"
          ]
        }
      ]
    },
    {
      "cell_type": "code",
      "source": [
        "# 6007번\n",
        "# \"C:\\Download\\'hello'.py\" 출력하기\n",
        "\n",
        "print('\\\"C:\\\\Download\\\\\\'hello\\'.py\\\"')"
      ],
      "metadata": {
        "colab": {
          "base_uri": "https://localhost:8080/"
        },
        "id": "9sfCepFdQUwB",
        "outputId": "a060a29b-26e5-457a-de76-05b5848b1c0c"
      },
      "execution_count": 10,
      "outputs": [
        {
          "output_type": "stream",
          "name": "stdout",
          "text": [
            "\"C:\\Download\\'hello'.py\"\n"
          ]
        }
      ]
    },
    {
      "cell_type": "code",
      "source": [
        "# 6008번\n",
        "# print(\"Hello\\nWorld\") 출력하기\n",
        "\n",
        "print('print(\\\"Hello\\\\nWorld\\\")')"
      ],
      "metadata": {
        "colab": {
          "base_uri": "https://localhost:8080/"
        },
        "id": "V-4UV4RIQj4_",
        "outputId": "7499d9c6-b3ec-4da3-eed1-a8cc8292fd35"
      },
      "execution_count": 12,
      "outputs": [
        {
          "output_type": "stream",
          "name": "stdout",
          "text": [
            "print(\"Hello\\nWorld\")\n"
          ]
        }
      ]
    },
    {
      "cell_type": "code",
      "source": [
        "# 6009번\n",
        "# 변수에 문자 1개를 저장한 후 변수에 저장되어 있는 문자를 그대로 출력하기\n",
        "\n",
        "c = input()\n",
        "\n",
        "print(c)"
      ],
      "metadata": {
        "colab": {
          "base_uri": "https://localhost:8080/"
        },
        "id": "0F22taGZQ-Rm",
        "outputId": "7595a509-cc28-48a1-eb64-f295fba31a04"
      },
      "execution_count": 13,
      "outputs": [
        {
          "output_type": "stream",
          "name": "stdout",
          "text": [
            "안녕\n",
            "안녕\n"
          ]
        }
      ]
    },
    {
      "cell_type": "code",
      "source": [
        "# 6010번\n",
        "# 변수에 정수값을 저장한 후 정수로 변환하여 출력하기\n",
        "\n",
        "a = int(input())\n",
        "\n",
        "print(a)"
      ],
      "metadata": {
        "colab": {
          "base_uri": "https://localhost:8080/"
        },
        "id": "SjvDo1wgRSDM",
        "outputId": "340641cf-2f69-4cc1-eb23-7502ff2f62e4"
      },
      "execution_count": 14,
      "outputs": [
        {
          "output_type": "stream",
          "name": "stdout",
          "text": [
            "15\n",
            "15\n"
          ]
        }
      ]
    },
    {
      "cell_type": "code",
      "source": [
        "# 6011번\n",
        "# 변수에 실수값을 저장한 후 변수에 저장되어 있는 값을 그대로 출력하기\n",
        "\n",
        "a = float(input())\n",
        "\n",
        "print(a)"
      ],
      "metadata": {
        "colab": {
          "base_uri": "https://localhost:8080/"
        },
        "id": "sZDbGXhgRl0D",
        "outputId": "5273bc51-cad8-46ae-8baf-c46c6b8c06aa"
      },
      "execution_count": 15,
      "outputs": [
        {
          "output_type": "stream",
          "name": "stdout",
          "text": [
            "1.414213\n",
            "1.414213\n"
          ]
        }
      ]
    },
    {
      "cell_type": "code",
      "source": [
        "# 6012번\n",
        "# 줄을 바꿔 정수(integer) 2개를 입력받아 줄을 바꿔 출력하기\n",
        "\n",
        "a = int(input())\n",
        "b = int(input())\n",
        "\n",
        "print(a)\n",
        "print(b)"
      ],
      "metadata": {
        "colab": {
          "base_uri": "https://localhost:8080/"
        },
        "id": "ankGPae9R0k1",
        "outputId": "a017ace4-35ca-4207-c12c-069d4abe77db"
      },
      "execution_count": 16,
      "outputs": [
        {
          "output_type": "stream",
          "name": "stdout",
          "text": [
            "1\n",
            "2\n",
            "1\n",
            "2\n"
          ]
        }
      ]
    },
    {
      "cell_type": "code",
      "source": [
        "# 6013번\n",
        "# 줄을 바꿔 문자(character) 2개를 입력받고, 순서를 바꿔 한 줄씩 출력하기\n",
        "\n",
        "a = input()\n",
        "b = input()\n",
        "\n",
        "print(b)\n",
        "print(a)"
      ],
      "metadata": {
        "colab": {
          "base_uri": "https://localhost:8080/"
        },
        "id": "M8GCKsu8SIDR",
        "outputId": "ef558074-b9eb-4ff5-9c1f-182fd266f107"
      },
      "execution_count": 17,
      "outputs": [
        {
          "output_type": "stream",
          "name": "stdout",
          "text": [
            "a\n",
            "b\n",
            "b\n",
            "a\n"
          ]
        }
      ]
    },
    {
      "cell_type": "code",
      "source": [
        "# 6014번\n",
        "# 실수(real number) 1개를 입력받아 줄을 바꿔 3번 출력하기\n",
        "\n",
        "a = float(input())\n",
        "\n",
        "print(a)\n",
        "print(a)\n",
        "print(a)"
      ],
      "metadata": {
        "colab": {
          "base_uri": "https://localhost:8080/"
        },
        "id": "IWYX3oFDSX2p",
        "outputId": "482198d8-a9b3-487a-bbe7-8fbcb956aea3"
      },
      "execution_count": 18,
      "outputs": [
        {
          "output_type": "stream",
          "name": "stdout",
          "text": [
            "0.1\n",
            "0.1\n",
            "0.1\n",
            "0.1\n"
          ]
        }
      ]
    },
    {
      "cell_type": "code",
      "source": [
        "# 6015번\n",
        "# 공백을 두고 입력된정수(integer) 2개를 입력받아 줄을 바꿔 출력하기\n",
        "\n",
        "a, b = input().split()\n",
        "\n",
        "print(int(a))\n",
        "print(int(b))"
      ],
      "metadata": {
        "colab": {
          "base_uri": "https://localhost:8080/"
        },
        "id": "7iJ6EY7JSl46",
        "outputId": "e35dfe55-a892-45a0-c662-992f02fab39f"
      },
      "execution_count": 20,
      "outputs": [
        {
          "output_type": "stream",
          "name": "stdout",
          "text": [
            "1 2\n",
            "1\n",
            "2\n"
          ]
        }
      ]
    },
    {
      "cell_type": "code",
      "source": [
        "# 6016번\n",
        "# 공백을 두고 문자(character) 2개를 입력받아 순서를 바꿔 출력하기\n",
        "\n",
        "a, b = input().split()\n",
        "\n",
        "print(b, a)"
      ],
      "metadata": {
        "colab": {
          "base_uri": "https://localhost:8080/"
        },
        "id": "gh8lFmJJSyNJ",
        "outputId": "5bf4df63-7c88-4366-f099-f062a0dd265d"
      },
      "execution_count": 21,
      "outputs": [
        {
          "output_type": "stream",
          "name": "stdout",
          "text": [
            "a b\n",
            "b a\n"
          ]
        }
      ]
    },
    {
      "cell_type": "code",
      "source": [
        "# 6017번\n",
        "# 정수(integer), 실수, 문자(character), 문자열(string) 등 1개만 입력받아 한 줄로 3번 출력하기\n",
        "\n",
        "a = input()\n",
        "\n",
        "print(a, a, a)"
      ],
      "metadata": {
        "colab": {
          "base_uri": "https://localhost:8080/"
        },
        "id": "6ZIDyAXtTC8o",
        "outputId": "05e492dc-191c-4756-c8e1-27a1429f51f4"
      },
      "execution_count": 22,
      "outputs": [
        {
          "output_type": "stream",
          "name": "stdout",
          "text": [
            "computer science\n",
            "computer science computer science computer science\n"
          ]
        }
      ]
    },
    {
      "cell_type": "code",
      "source": [
        "# 6018번\n",
        "# 24시간 시:분 형식으로 시간이 입력될 때, 그대로 출력하는 연습하기\n",
        "\n",
        "a = input()\n",
        "\n",
        "print(a)"
      ],
      "metadata": {
        "colab": {
          "base_uri": "https://localhost:8080/"
        },
        "id": "n3bIL2AtTPc7",
        "outputId": "b55d8082-ce5a-43e1-b96c-054a839677a9"
      },
      "execution_count": 23,
      "outputs": [
        {
          "output_type": "stream",
          "name": "stdout",
          "text": [
            "3:16\n",
            "3:16\n"
          ]
        }
      ]
    },
    {
      "cell_type": "code",
      "source": [
        "# 6019번\n",
        "# \"연도.월.일\"을 입력받아 \"일-월-연도\" 순서로 바꿔 출력하기\n",
        "\n",
        "y, m, d = input().split('.')\n",
        "\n",
        "print(d, m, y, sep='-')"
      ],
      "metadata": {
        "colab": {
          "base_uri": "https://localhost:8080/"
        },
        "id": "1JDO_osOTfS0",
        "outputId": "1deaebb0-fdd0-4686-ad7f-e32e12b4a141"
      },
      "execution_count": 25,
      "outputs": [
        {
          "output_type": "stream",
          "name": "stdout",
          "text": [
            "2020.3.4\n",
            "4-3-2020\n"
          ]
        }
      ]
    },
    {
      "cell_type": "code",
      "source": [
        "# 6020번\n",
        "# 110011-0000000 형태의 주민번호를 입력받아 '-'를 제외한 주민번호 13자리를 모두 붙여 출력하기\n",
        "\n",
        "a, b= input().split('-')\n",
        "\n",
        "print(a, b, sep='')"
      ],
      "metadata": {
        "colab": {
          "base_uri": "https://localhost:8080/"
        },
        "id": "oYJBAGnHTrbt",
        "outputId": "a835c5a3-434f-44e6-8b94-6fd124d6a1d0"
      },
      "execution_count": 26,
      "outputs": [
        {
          "output_type": "stream",
          "name": "stdout",
          "text": [
            "000907-1121112\n",
            "0009071121112\n"
          ]
        }
      ]
    },
    {
      "cell_type": "code",
      "source": [
        "# 6021번\n",
        "# 알파벳과 숫자로 이루어진 단어 1개를 입력하여 입력받은 단어의 각 문자를 한 줄에 한 문자씩 분리해 출력하기\n",
        "\n",
        "a = input()\n",
        "\n",
        "for i in a :\n",
        "    print(i)"
      ],
      "metadata": {
        "colab": {
          "base_uri": "https://localhost:8080/"
        },
        "id": "ys-ewzJJUL4S",
        "outputId": "a538a6ee-bf3b-4ec8-8875-b69991066a37"
      },
      "execution_count": 27,
      "outputs": [
        {
          "output_type": "stream",
          "name": "stdout",
          "text": [
            "Hello\n",
            "H\n",
            "e\n",
            "l\n",
            "l\n",
            "o\n"
          ]
        }
      ]
    },
    {
      "cell_type": "code",
      "source": [
        "# 6022번\n",
        "# 6자리의 연월일(YYMMDD)을 입력받아 나누어 출력하기\n",
        "\n",
        "a = input()\n",
        "\n",
        "print(a[0:2]+' '+a[2:4]+' '+a[4:6])"
      ],
      "metadata": {
        "colab": {
          "base_uri": "https://localhost:8080/"
        },
        "id": "qqqVFcWeUgYy",
        "outputId": "1b311246-a4d9-4ecc-fa1d-80696393f5e2"
      },
      "execution_count": 28,
      "outputs": [
        {
          "output_type": "stream",
          "name": "stdout",
          "text": [
            "200304\n",
            "20 03 04\n"
          ]
        }
      ]
    },
    {
      "cell_type": "code",
      "source": [
        "# 6023번\n",
        "# 시:분:초 형식으로 시간이 입력될 때 분만 출력하기\n",
        "\n",
        "a, b, c = input().split(':')\n",
        "\n",
        "print(b)"
      ],
      "metadata": {
        "colab": {
          "base_uri": "https://localhost:8080/"
        },
        "id": "09Bef0ZjVJdr",
        "outputId": "f1d42969-1a8e-4c75-9ef5-096f1a24da6e"
      },
      "execution_count": 29,
      "outputs": [
        {
          "output_type": "stream",
          "name": "stdout",
          "text": [
            "17:23:57\n",
            "23\n"
          ]
        }
      ]
    },
    {
      "cell_type": "code",
      "source": [
        "# 6024번\n",
        "# 알파벳 문자와 숫자로 이루어진 단어 2개를 입력받아 순서대로 붙여 출력하기\n",
        "\n",
        "a, b = input().split()\n",
        "\n",
        "print(a, b, sep='')"
      ],
      "metadata": {
        "colab": {
          "base_uri": "https://localhost:8080/"
        },
        "id": "AwyRhBiVVk5Z",
        "outputId": "b50f6d47-5636-4f88-85db-9c2d8a722dd0"
      },
      "execution_count": 30,
      "outputs": [
        {
          "output_type": "stream",
          "name": "stdout",
          "text": [
            "hello world\n",
            "helloworld\n"
          ]
        }
      ]
    },
    {
      "cell_type": "code",
      "source": [
        "# 6025번\n",
        "# 정수 2개를 입력받아 합을 출력하기\n",
        "\n",
        "a, b = input().split()\n",
        "\n",
        "print(int(a)+int(b))"
      ],
      "metadata": {
        "colab": {
          "base_uri": "https://localhost:8080/"
        },
        "id": "kt0s5KNaVx-t",
        "outputId": "d0f60a8a-422d-4a9a-ce06-1d3ca7eabfd0"
      },
      "execution_count": 31,
      "outputs": [
        {
          "output_type": "stream",
          "name": "stdout",
          "text": [
            "123 -123\n",
            "0\n"
          ]
        }
      ]
    },
    {
      "cell_type": "code",
      "source": [
        "# 6026번\n",
        "# 실수 2개를 입력받아 합을 출력하기\n",
        "\n",
        "a = float(input())\n",
        "b = float(input())\n",
        "\n",
        "print(a + b)"
      ],
      "metadata": {
        "colab": {
          "base_uri": "https://localhost:8080/"
        },
        "id": "fCy9qd8pWDqq",
        "outputId": "a644b509-d465-42a7-94a8-2a9b720661fd"
      },
      "execution_count": 32,
      "outputs": [
        {
          "output_type": "stream",
          "name": "stdout",
          "text": [
            "0.1\n",
            "0.9\n",
            "1.0\n"
          ]
        }
      ]
    }
  ]
}