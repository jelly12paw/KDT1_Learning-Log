{
  "nbformat": 4,
  "nbformat_minor": 0,
  "metadata": {
    "colab": {
      "name": "Python 05 실습 문제.ipynb",
      "provenance": [],
      "authorship_tag": "ABX9TyMHELlXSu0eOoS3vYQflYQ1",
      "include_colab_link": true
    },
    "kernelspec": {
      "name": "python3",
      "display_name": "Python 3"
    },
    "language_info": {
      "name": "python"
    }
  },
  "cells": [
    {
      "cell_type": "markdown",
      "metadata": {
        "id": "view-in-github",
        "colab_type": "text"
      },
      "source": [
        "<a href=\"https://colab.research.google.com/github/jelly12paw/TIL/blob/main/Python/Python_05_%EC%8B%A4%EC%8A%B5_%EB%AC%B8%EC%A0%9C.ipynb\" target=\"_parent\"><img src=\"https://colab.research.google.com/assets/colab-badge.svg\" alt=\"Open In Colab\"/></a>"
      ]
    },
    {
      "cell_type": "markdown",
      "source": [
        "## 오류 코드 수정하기"
      ],
      "metadata": {
        "id": "k7fGPDGFigAB"
      }
    },
    {
      "cell_type": "markdown",
      "source": [
        "### 예제 03 오류 원인 \n",
        "- input()은 str을 출력하기 때문에 int로 타입 변환이 필요하다."
      ],
      "metadata": {
        "id": "G4OzB_K9kkY8"
      }
    },
    {
      "cell_type": "code",
      "execution_count": 1,
      "metadata": {
        "colab": {
          "base_uri": "https://localhost:8080/"
        },
        "id": "Z1RYFAPOh4pu",
        "outputId": "2f779960-e581-4edb-ae60-f3577ee957bd"
      },
      "outputs": [
        {
          "output_type": "stream",
          "name": "stdout",
          "text": [
            "10 20\n",
            "30\n"
          ]
        }
      ],
      "source": [
        "# 예제 03\n",
        "\n",
        "# numbers = input().split()\n",
        "# print(sum(numbers))\n",
        "\n",
        "numbers = map(int, input().split())\n",
        "print(sum(numbers))"
      ]
    },
    {
      "cell_type": "markdown",
      "source": [
        "### 예제 04 오류 원인\n",
        "- `I'm Tuotur 6`은 str 타입이므로 map()에 설정된 int를 삭제한다."
      ],
      "metadata": {
        "id": "EOsqA_tfk65o"
      }
    },
    {
      "cell_type": "code",
      "source": [
        "# 예제 04\n",
        "\n",
        "# words = list(map(int, input().split()))\n",
        "# print(words)\n",
        "\n",
        "words = list(input().split())\n",
        "print(words)"
      ],
      "metadata": {
        "colab": {
          "base_uri": "https://localhost:8080/"
        },
        "id": "75k7mer6iqX9",
        "outputId": "69c22721-192a-4d5e-e169-749d8d74883a"
      },
      "execution_count": 2,
      "outputs": [
        {
          "output_type": "stream",
          "name": "stdout",
          "text": [
            "I'm Tuotur 6\n",
            "[\"I'm\", 'Tuotur', '6']\n"
          ]
        }
      ]
    },
    {
      "cell_type": "markdown",
      "source": [
        "### 예제 05 오류 원인\n",
        "- len()은 str 타입일 때 사용할 수 있다. int를 str로 변환하여 출력한다."
      ],
      "metadata": {
        "id": "TuR42NiKlWss"
      }
    },
    {
      "cell_type": "code",
      "source": [
        "# 예제 05\n",
        "\n",
        "# number = 22020718\n",
        "# print(len(number))\n",
        "\n",
        "number = 22020718\n",
        "\n",
        "number = str(number)\n",
        "\n",
        "print(len(number))"
      ],
      "metadata": {
        "colab": {
          "base_uri": "https://localhost:8080/"
        },
        "id": "RdV8BQlBjDXN",
        "outputId": "48383116-c7ea-4463-f699-c620b048042f"
      },
      "execution_count": 12,
      "outputs": [
        {
          "output_type": "stream",
          "name": "stdout",
          "text": [
            "8\n"
          ]
        }
      ]
    },
    {
      "cell_type": "markdown",
      "source": [
        "### 예제 06 오류 원인\n",
        "- list를 만들 때 사용하는 기호는 대괄호`[]`이다."
      ],
      "metadata": {
        "id": "H4tAhwFBltwP"
      }
    },
    {
      "cell_type": "code",
      "source": [
        "# 예제 06\n",
        "\n",
        "# N = 10\n",
        "# answer = ()\n",
        "# for number in range(N + 1):\n",
        "#     answer.append(number * 2)\n",
        "\n",
        "# print(answer)\n",
        "\n",
        "N = 10\n",
        "answer = []\n",
        "for number in range(N + 1):\n",
        "    answer.append(number * 2)\n",
        "\n",
        "print(answer)"
      ],
      "metadata": {
        "colab": {
          "base_uri": "https://localhost:8080/"
        },
        "id": "mT52-nlHjT-H",
        "outputId": "cd866704-afc4-4853-d8cb-97e26401e85d"
      },
      "execution_count": 13,
      "outputs": [
        {
          "output_type": "stream",
          "name": "stdout",
          "text": [
            "[0, 2, 4, 6, 8, 10, 12, 14, 16, 18, 20]\n"
          ]
        }
      ]
    },
    {
      "cell_type": "markdown",
      "source": [
        "### 예제 07 오류 원인\n",
        "- for문을 사용할 때 들여쓰기가 알맞는 위치인지 확인한다.\n",
        "- 나눗셈 기호`/`와 몫 기호`//`를 확인한다."
      ],
      "metadata": {
        "id": "6byjzO3DmHBa"
      }
    },
    {
      "cell_type": "code",
      "source": [
        "# 예제 07\n",
        "\n",
        "# number_list = [1, 2, 3, 4, 5, 6, 7, 8, 9, 10]\n",
        "\n",
        "# total = 0\n",
        "# count = 0\n",
        "\n",
        "# for number in number_list:\n",
        "#     total += number\n",
        "# count += 1\n",
        "\n",
        "# print(total // count)\n",
        "\n",
        "number_list = [1, 2, 3, 4, 5, 6, 7, 8, 9, 10]\n",
        "\n",
        "total = 0\n",
        "count = 0\n",
        "\n",
        "for number in number_list:\n",
        "    total += number\n",
        "    count += 1\n",
        "\n",
        "print(total / count)"
      ],
      "metadata": {
        "colab": {
          "base_uri": "https://localhost:8080/"
        },
        "id": "9AykolETmCYX",
        "outputId": "29c05b87-928b-495b-f8d4-f91acc032a10"
      },
      "execution_count": 15,
      "outputs": [
        {
          "output_type": "stream",
          "name": "stdout",
          "text": [
            "5.5\n"
          ]
        }
      ]
    },
    {
      "cell_type": "markdown",
      "source": [
        "### 예제 08 오류 원인\n",
        "- 모음 `a, e, i, o, u`가 포함된 개수를 구하기 위해서는\n",
        "- `or`사용 시 각각 하나씩 지정하거나 list에 `['a', 'e', 'i', 'o', 'u']`를 저장한다."
      ],
      "metadata": {
        "id": "IezP5A_Wm_oG"
      }
    },
    {
      "cell_type": "code",
      "source": [
        "# 예제 08\n",
        "\n",
        "# word = \"HappyHacking\"\n",
        "\n",
        "# count = 0\n",
        "\n",
        "# for char in word:\n",
        "#     if char == \"a\" or \"e\" or \"i\" or \"o\" or \"u\":\n",
        "#         count += 1\n",
        "\n",
        "# print(count)\n",
        "\n",
        "word = \"HappyHacking\"\n",
        "\n",
        "count = 0\n",
        "\n",
        "for char in word:\n",
        "    if char == \"a\" or char == \"e\" or char == \"i\" or char == \"o\" or char == \"u\":\n",
        "        count += 1\n",
        "\n",
        "print(count)"
      ],
      "metadata": {
        "colab": {
          "base_uri": "https://localhost:8080/"
        },
        "id": "wI9CGCGpmeMp",
        "outputId": "701ad7ff-b165-4f19-8d5c-fc591af1f511"
      },
      "execution_count": 18,
      "outputs": [
        {
          "output_type": "stream",
          "name": "stdout",
          "text": [
            "3\n"
          ]
        }
      ]
    },
    {
      "cell_type": "markdown",
      "source": [
        "### 예제 09 오류 원인\n",
        "- 딕셔너리에서 value값을 저장할 때 어떤 key값에 저장할 것인지 확인한다."
      ],
      "metadata": {
        "id": "MRAjGlJLotbl"
      }
    },
    {
      "cell_type": "code",
      "source": [
        "# 예제 09\n",
        "\n",
        "from pprint import pprint\n",
        "\n",
        "# fruits = [\n",
        "#     \"Soursop\",\n",
        "#     \"Grapefruit\",\n",
        "#     \"Apricot\",\n",
        "#     \"Juniper berry\",\n",
        "#     \"Feijoa\",\n",
        "#     \"Blackcurrant\",\n",
        "#     \"Cantaloupe\",\n",
        "#     \"Salal berry\",\n",
        "# ]\n",
        "\n",
        "# fruit_count = {}\n",
        "\n",
        "# for fruit in fruits:\n",
        "#     if fruit not in fruit_count:\n",
        "#         fruit_count = {fruit: 1}\n",
        "#     else:\n",
        "#         fruit_count[fruit] += 1\n",
        "\n",
        "# pprint(fruit_count)\n",
        "\n",
        "fruits = [\n",
        "    \"Soursop\",\n",
        "    \"Grapefruit\",\n",
        "    \"Apricot\",\n",
        "    \"Juniper berry\",\n",
        "    \"Feijoa\",\n",
        "    \"Blackcurrant\",\n",
        "    \"Cantaloupe\",\n",
        "    \"Salal berry\",\n",
        "]\n",
        "\n",
        "fruit_count = {}\n",
        "\n",
        "for fruit in fruits:\n",
        "    if fruit not in fruit_count:\n",
        "        fruit_count[fruit] = 1\n",
        "    else:\n",
        "        fruit_count[fruit] += 1\n",
        "\n",
        "pprint(fruit_count)"
      ],
      "metadata": {
        "colab": {
          "base_uri": "https://localhost:8080/"
        },
        "id": "nxNIjuWPoCfO",
        "outputId": "b5169985-e43e-4883-ee1c-68fc2a69fdb3"
      },
      "execution_count": 19,
      "outputs": [
        {
          "output_type": "stream",
          "name": "stdout",
          "text": [
            "{'Apricot': 1,\n",
            " 'Blackcurrant': 1,\n",
            " 'Cantaloupe': 1,\n",
            " 'Feijoa': 1,\n",
            " 'Grapefruit': 1,\n",
            " 'Juniper berry': 1,\n",
            " 'Salal berry': 1,\n",
            " 'Soursop': 1}\n"
          ]
        }
      ]
    },
    {
      "cell_type": "markdown",
      "source": [
        "### 예제 10 오류 원인\n",
        "- 변수명이 함수명과 같으면 오류가 발생한다.\n",
        "- `del 변수명`을 사용해서 중복 사용된 변수명를 삭제 후 이름을 변경한다."
      ],
      "metadata": {
        "id": "k9tvK1gapxrd"
      }
    },
    {
      "cell_type": "code",
      "source": [
        "# 예제 10\n",
        "\n",
        "# number_list = [1, 23, 9, 6, 91, 59, 29]\n",
        "# max = max(number_list)\n",
        "\n",
        "# number_list2 = [2, 5, 100, 20, 50, 10, 91, 82]\n",
        "# max2 = max(number_list2)\n",
        "\n",
        "# if max > max2:\n",
        "#     print(\"첫 번째 리스트의 최댓값이 더 큽니다.\")\n",
        "\n",
        "# elif max < max2:\n",
        "#     print(\"두 번째 리스트의 최댓값이 더 큽니다.\")\n",
        "\n",
        "# else:\n",
        "#     print(\"첫 번째 리스트의 최댓값과 두 번째 리스트의 최댓값은 같습니다.\")\n",
        "\n",
        "del max\n",
        "\n",
        "number_list1 = [1, 23, 9, 6, 91, 59, 29]\n",
        "max1 = max(number_list1)\n",
        "\n",
        "number_list2 = [2, 5, 100, 20, 50, 10, 91, 82]\n",
        "max2 = max(number_list2)\n",
        "\n",
        "if max1 > max2:\n",
        "    print(\"첫 번째 리스트의 최댓값이 더 큽니다.\")\n",
        "\n",
        "elif max1 < max2:\n",
        "    print(\"두 번째 리스트의 최댓값이 더 큽니다.\")\n",
        "\n",
        "else:\n",
        "    print(\"첫 번째 리스트의 최댓값과 두 번째 리스트의 최댓값은 같습니다.\")"
      ],
      "metadata": {
        "colab": {
          "base_uri": "https://localhost:8080/"
        },
        "id": "Naex5mtfpI0_",
        "outputId": "d0fed993-1c46-429c-91ab-5f73f9fdf5e6"
      },
      "execution_count": 27,
      "outputs": [
        {
          "output_type": "stream",
          "name": "stdout",
          "text": [
            "두 번째 리스트의 최댓값이 더 큽니다.\n"
          ]
        }
      ]
    },
    {
      "cell_type": "markdown",
      "source": [
        "### 예제 11 오류 원인\n",
        "- `def` 함수 선언 후 `return` 값을 입력한다."
      ],
      "metadata": {
        "id": "DYId6CqmuIKL"
      }
    },
    {
      "cell_type": "code",
      "source": [
        "# 예제 11\n",
        "\n",
        "# from pprint import pprint\n",
        "\n",
        "# def movie_info(movie, genres):\n",
        "#     genres_names = []\n",
        "#     genre_ids = movie[\"genre_ids\"]\n",
        "#     for genre_id in genre_ids:\n",
        "#         for genre in genres:\n",
        "#             if genre_id == genre[\"id\"]:\n",
        "#                 genre_name = genre[\"name\"]\n",
        "#                 genres_names.append(genre_name)\n",
        "\n",
        "#     new_movie_info = {\n",
        "#         \"genre_names\": genres_names,\n",
        "#         \"id\": movie[\"id\"],\n",
        "#         \"overview\": movie[\"overview\"],\n",
        "#         \"title\": movie[\"title\"],\n",
        "#         \"vote_average\": movie[\"vote_average\"],\n",
        "#     }\n",
        "\n",
        "\n",
        "\n",
        "# if __name__ == \"__main__\":\n",
        "#     movie = {\n",
        "#         \"adult\": False,\n",
        "#         \"backdrop_path\": \"/tXHpvlr5F7gV5DwgS7M5HBrUi2C.jpg\",\n",
        "#         \"genre_ids\": [18, 80],\n",
        "#         \"id\": 278,\n",
        "#         \"original_language\": \"en\",\n",
        "#         \"original_title\": \"The Shawshank Redemption\",\n",
        "#         \"overview\": \"촉망받는 은행 간부 앤디 듀프레인은 아내와 그녀의 정부를 살해했다는 누명을 쓴다. 주변의 증언과 살해 현장의 그럴듯한 증거들로 그는 종신형을 선고받고 악질범들만 수용한다는 지옥같은 교도소 쇼생크로 향한다. 인간 말종 쓰레기들만 모인 그곳에서 그는 이루 말할 수 없는 억압과 짐승보다 못한 취급을 당한다. 그러던 어느 날, 간수의 세금을 면제받게 해 준 덕분에 그는 일약 교도소의 비공식 회계사로 일하게 된다. 그 와중에 교도소 소장은 죄수들을 이리저리 부리면서 검은 돈을 긁어 모으고 앤디는 이 돈을 세탁하여 불려주면서 그의 돈을 관리하는데...\",\n",
        "#         \"popularity\": 67.931,\n",
        "#         \"poster_path\": \"/3hO6DIGRBaJQj2NLEYBMwpcz88D.jpg\",\n",
        "#         \"release_date\": \"1995-01-28\",\n",
        "#         \"title\": \"쇼생크 탈출\",\n",
        "#         \"video\": False,\n",
        "#         \"vote_average\": 8.7,\n",
        "#         \"vote_count\": 18040,\n",
        "#     }\n",
        "\n",
        "#     genres_list = [\n",
        "#         {\"id\": 28, \"name\": \"Action\"},\n",
        "#         {\"id\": 12, \"name\": \"Adventure\"},\n",
        "#         {\"id\": 16, \"name\": \"Animation\"},\n",
        "#         {\"id\": 35, \"name\": \"Comedy\"},\n",
        "#         {\"id\": 80, \"name\": \"Crime\"},\n",
        "#         {\"id\": 99, \"name\": \"Documentary\"},\n",
        "#         {\"id\": 18, \"name\": \"Drama\"},\n",
        "#         {\"id\": 10751, \"name\": \"Family\"},\n",
        "#         {\"id\": 14, \"name\": \"Fantasy\"},\n",
        "#         {\"id\": 36, \"name\": \"History\"},\n",
        "#         {\"id\": 27, \"name\": \"Horror\"},\n",
        "#         {\"id\": 10402, \"name\": \"Music\"},\n",
        "#         {\"id\": 9648, \"name\": \"Mystery\"},\n",
        "#         {\"id\": 10749, \"name\": \"Romance\"},\n",
        "#         {\"id\": 878, \"name\": \"Science Fiction\"},\n",
        "#         {\"id\": 10770, \"name\": \"TV Movie\"},\n",
        "#         {\"id\": 53, \"name\": \"Thriller\"},\n",
        "#         {\"id\": 10752, \"name\": \"War\"},\n",
        "#         {\"id\": 37, \"name\": \"Western\"},\n",
        "#     ]\n",
        "\n",
        "#     pprint(movie_info(movie, genres_list))"
      ],
      "metadata": {
        "id": "t6mepC7UrEPs"
      },
      "execution_count": null,
      "outputs": []
    },
    {
      "cell_type": "code",
      "source": [
        "from pprint import pprint\n",
        "\n",
        "\n",
        "def movie_info(movie, genres):\n",
        "    genres_names = []\n",
        "    genre_ids = movie[\"genre_ids\"]\n",
        "    for genre_id in genre_ids:\n",
        "        for genre in genres:\n",
        "            if genre_id == genre[\"id\"]:\n",
        "                genre_name = genre[\"name\"]\n",
        "                genres_names.append(genre_name)\n",
        "\n",
        "    new_movie_info = {\n",
        "        \"genre_names\": genres_names,\n",
        "        \"id\": movie[\"id\"],\n",
        "        \"overview\": movie[\"overview\"],\n",
        "        \"title\": movie[\"title\"],\n",
        "        \"vote_average\": movie[\"vote_average\"],\n",
        "    }\n",
        "\n",
        "    return new_movie_info\n",
        "\n",
        "\n",
        "if __name__ == \"__main__\":\n",
        "    movie = {\n",
        "        \"adult\": False,\n",
        "        \"backdrop_path\": \"/tXHpvlr5F7gV5DwgS7M5HBrUi2C.jpg\",\n",
        "        \"genre_ids\": [18, 80],\n",
        "        \"id\": 278,\n",
        "        \"original_language\": \"en\",\n",
        "        \"original_title\": \"The Shawshank Redemption\",\n",
        "        \"overview\": \"촉망받는 은행 간부 앤디 듀프레인은 아내와 그녀의 정부를 살해했다는 누명을 쓴다. 주변의 증언과 살해 현장의 그럴듯한 증거들로 그는 종신형을 선고받고 악질범들만 수용한다는 지옥같은 교도소 쇼생크로 향한다. 인간 말종 쓰레기들만 모인 그곳에서 그는 이루 말할 수 없는 억압과 짐승보다 못한 취급을 당한다. 그러던 어느 날, 간수의 세금을 면제받게 해 준 덕분에 그는 일약 교도소의 비공식 회계사로 일하게 된다. 그 와중에 교도소 소장은 죄수들을 이리저리 부리면서 검은 돈을 긁어 모으고 앤디는 이 돈을 세탁하여 불려주면서 그의 돈을 관리하는데...\",\n",
        "        \"popularity\": 67.931,\n",
        "        \"poster_path\": \"/3hO6DIGRBaJQj2NLEYBMwpcz88D.jpg\",\n",
        "        \"release_date\": \"1995-01-28\",\n",
        "        \"title\": \"쇼생크 탈출\",\n",
        "        \"video\": False,\n",
        "        \"vote_average\": 8.7,\n",
        "        \"vote_count\": 18040,\n",
        "    }\n",
        "\n",
        "    genres_list = [\n",
        "        {\"id\": 28, \"name\": \"Action\"},\n",
        "        {\"id\": 12, \"name\": \"Adventure\"},\n",
        "        {\"id\": 16, \"name\": \"Animation\"},\n",
        "        {\"id\": 35, \"name\": \"Comedy\"},\n",
        "        {\"id\": 80, \"name\": \"Crime\"},\n",
        "        {\"id\": 99, \"name\": \"Documentary\"},\n",
        "        {\"id\": 18, \"name\": \"Drama\"},\n",
        "        {\"id\": 10751, \"name\": \"Family\"},\n",
        "        {\"id\": 14, \"name\": \"Fantasy\"},\n",
        "        {\"id\": 36, \"name\": \"History\"},\n",
        "        {\"id\": 27, \"name\": \"Horror\"},\n",
        "        {\"id\": 10402, \"name\": \"Music\"},\n",
        "        {\"id\": 9648, \"name\": \"Mystery\"},\n",
        "        {\"id\": 10749, \"name\": \"Romance\"},\n",
        "        {\"id\": 878, \"name\": \"Science Fiction\"},\n",
        "        {\"id\": 10770, \"name\": \"TV Movie\"},\n",
        "        {\"id\": 53, \"name\": \"Thriller\"},\n",
        "        {\"id\": 10752, \"name\": \"War\"},\n",
        "        {\"id\": 37, \"name\": \"Western\"},\n",
        "    ]\n",
        "\n",
        "    pprint(movie_info(movie, genres_list))"
      ],
      "metadata": {
        "colab": {
          "base_uri": "https://localhost:8080/"
        },
        "id": "Fc1srd2Wu7k1",
        "outputId": "767ec94b-4380-4583-f1da-13c25343fa68"
      },
      "execution_count": 33,
      "outputs": [
        {
          "output_type": "stream",
          "name": "stdout",
          "text": [
            "{'genre_names': ['Drama', 'Crime'],\n",
            " 'id': 278,\n",
            " 'overview': '촉망받는 은행 간부 앤디 듀프레인은 아내와 그녀의 정부를 살해했다는 누명을 쓴다. 주변의 증언과 살해 현장의 '\n",
            "             '그럴듯한 증거들로 그는 종신형을 선고받고 악질범들만 수용한다는 지옥같은 교도소 쇼생크로 향한다. 인간 말종 '\n",
            "             '쓰레기들만 모인 그곳에서 그는 이루 말할 수 없는 억압과 짐승보다 못한 취급을 당한다. 그러던 어느 날, 간수의 '\n",
            "             '세금을 면제받게 해 준 덕분에 그는 일약 교도소의 비공식 회계사로 일하게 된다. 그 와중에 교도소 소장은 죄수들을 '\n",
            "             '이리저리 부리면서 검은 돈을 긁어 모으고 앤디는 이 돈을 세탁하여 불려주면서 그의 돈을 관리하는데...',\n",
            " 'title': '쇼생크 탈출',\n",
            " 'vote_average': 8.7}\n"
          ]
        }
      ]
    },
    {
      "cell_type": "markdown",
      "source": [
        "## 문제"
      ],
      "metadata": {
        "id": "nwqt7Uqxzk84"
      }
    },
    {
      "cell_type": "code",
      "source": [
        "# 19\n",
        "\n",
        "number = int(input())\n",
        "\n",
        "num_len = 1\n",
        "len_num = 0\n",
        "\n",
        "while number <= 0 :\n",
        "  \n",
        "  print('양의 정수를 입력해주세요!')\n",
        "  break\n",
        "\n",
        "while number > 0 :\n",
        "  if (number // num_len) > 0 :\n",
        "    \n",
        "    num_len *= 10\n",
        "    len_num += 1\n",
        "\n",
        "  else :\n",
        "    break\n",
        "\n",
        "print(len_num)"
      ],
      "metadata": {
        "colab": {
          "base_uri": "https://localhost:8080/"
        },
        "id": "zWaXpgwSzMcT",
        "outputId": "14813d0a-6899-419e-d581-1bae79213c34"
      },
      "execution_count": 92,
      "outputs": [
        {
          "output_type": "stream",
          "name": "stdout",
          "text": [
            "123\n",
            "3\n"
          ]
        }
      ]
    },
    {
      "cell_type": "markdown",
      "source": [
        "## 정답 풀이"
      ],
      "metadata": {
        "id": "0mxcyJtH-5iA"
      }
    },
    {
      "cell_type": "code",
      "source": [
        "# 19\n",
        "\n",
        "number = 123\n",
        "\n",
        "cnt = 0\n",
        "\n",
        "while number :\n",
        "  number //= 10\n",
        "  cnt += 1\n",
        "\n",
        "print(cnt)"
      ],
      "metadata": {
        "colab": {
          "base_uri": "https://localhost:8080/"
        },
        "id": "9Im8O8GY-6tr",
        "outputId": "7a9d3b31-cb05-4aac-ae52-951fb66d55ca"
      },
      "execution_count": 3,
      "outputs": [
        {
          "output_type": "stream",
          "name": "stdout",
          "text": [
            "3\n"
          ]
        }
      ]
    }
  ]
}