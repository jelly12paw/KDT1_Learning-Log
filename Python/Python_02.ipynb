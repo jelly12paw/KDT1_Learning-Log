{
  "nbformat": 4,
  "nbformat_minor": 0,
  "metadata": {
    "colab": {
      "name": "Python_02.ipynb",
      "provenance": [],
      "authorship_tag": "ABX9TyNBQqpVvb1nKAHeSe7fP+oj",
      "include_colab_link": true
    },
    "kernelspec": {
      "name": "python3",
      "display_name": "Python 3"
    },
    "language_info": {
      "name": "python"
    }
  },
  "cells": [
    {
      "cell_type": "markdown",
      "metadata": {
        "id": "view-in-github",
        "colab_type": "text"
      },
      "source": [
        "<a href=\"https://colab.research.google.com/github/jelly12paw/TIL/blob/main/Python/Python_02.ipynb\" target=\"_parent\"><img src=\"https://colab.research.google.com/assets/colab-badge.svg\" alt=\"Open In Colab\"/></a>"
      ]
    },
    {
      "cell_type": "markdown",
      "source": [
        "# Python 기초"
      ],
      "metadata": {
        "id": "VMapSwYfF_yl"
      }
    },
    {
      "cell_type": "markdown",
      "source": [
        "### 조건문"
      ],
      "metadata": {
        "id": "ShJuBce1GC2R"
      }
    },
    {
      "cell_type": "code",
      "execution_count": 2,
      "metadata": {
        "colab": {
          "base_uri": "https://localhost:8080/"
        },
        "id": "HEwz18k-F4iv",
        "outputId": "3d20b342-5e21-4afc-8154-ea7405112de8"
      },
      "outputs": [
        {
          "output_type": "stream",
          "name": "stdout",
          "text": [
            "음수\n"
          ]
        }
      ],
      "source": [
        "a = -1\n",
        "\n",
        "if a > 0 : # a가 0보다 크면\n",
        "  print('양수')\n",
        "\n",
        "elif a == 0 : # a가 0이면\n",
        "  print('0')\n",
        "\n",
        "else : # a가 위의 조건 중 그 무엇도 해당되지 않으면\n",
        "  print('음수')"
      ]
    },
    {
      "cell_type": "code",
      "source": [
        "# 홀수인지 짝수인지 알아보기\n",
        "\n",
        "num = int(input())\n",
        "\n",
        "if num % 2 == 1 :\n",
        "  print('홀수')\n",
        "\n",
        "else :\n",
        "  print('짝수')"
      ],
      "metadata": {
        "colab": {
          "base_uri": "https://localhost:8080/"
        },
        "id": "n7HaZWvoGhTf",
        "outputId": "614e25b3-f577-4ea3-c351-93b8af1b50ef"
      },
      "execution_count": 3,
      "outputs": [
        {
          "output_type": "stream",
          "name": "stdout",
          "text": [
            "11\n",
            "홀수\n"
          ]
        }
      ]
    },
    {
      "cell_type": "code",
      "source": [
        "# 미세먼지 농도에 따라 '좋음', '보통', '나쁨', '매우 나쁨' 표시하기\n",
        "\n",
        "dust = int(input())\n",
        "\n",
        "if dust > 150 :\n",
        "  print('미세먼지 농도가 \\'매우 나쁨\\'입니다.')\n",
        "\n",
        "elif dust > 80 :\n",
        "  print('미세먼지 농도가 \\'나쁨\\'입니다.')\n",
        "\n",
        "elif dust > 30 :\n",
        "  print('미세먼지 농도가 \\'보통\\'입니다.')\n",
        "\n",
        "else :\n",
        "    print('미세먼지 농도가 \\'좋음\\'입니다.')"
      ],
      "metadata": {
        "colab": {
          "base_uri": "https://localhost:8080/"
        },
        "id": "2gqX9saGHQDm",
        "outputId": "bf437aae-90c2-409b-c4dd-e238aa81302d"
      },
      "execution_count": 4,
      "outputs": [
        {
          "output_type": "stream",
          "name": "stdout",
          "text": [
            "29\n",
            "미세먼지 농도가 '좋음'입니다.\n"
          ]
        }
      ]
    },
    {
      "cell_type": "code",
      "source": [
        "# 조건문 표현방법 1\n",
        "\n",
        "m = -22\n",
        "\n",
        "value = num if num >= 0 else -m # 절댓값 표기\n",
        "\n",
        "print(value)"
      ],
      "metadata": {
        "colab": {
          "base_uri": "https://localhost:8080/"
        },
        "id": "6bYIuKWCH9gG",
        "outputId": "67904771-0f57-4d19-9d26-0e69723f95b2"
      },
      "execution_count": 8,
      "outputs": [
        {
          "output_type": "stream",
          "name": "stdout",
          "text": [
            "22\n"
          ]
        }
      ]
    },
    {
      "cell_type": "code",
      "source": [
        "# 조건문 표현방법 2\n",
        "\n",
        "num = -123\n",
        "\n",
        "if num >= 0 :\n",
        "    value = num\n",
        "\n",
        "else :\n",
        "    value = -num\n",
        "\n",
        "print(num, value)"
      ],
      "metadata": {
        "colab": {
          "base_uri": "https://localhost:8080/"
        },
        "id": "byn96BnKKrJ5",
        "outputId": "6941269e-886b-409e-8cd6-34dd0efe9bbd"
      },
      "execution_count": 11,
      "outputs": [
        {
          "output_type": "stream",
          "name": "stdout",
          "text": [
            "-123 123\n"
          ]
        }
      ]
    },
    {
      "cell_type": "markdown",
      "source": [
        "### 반복문"
      ],
      "metadata": {
        "id": "zHYvIOkAMIR7"
      }
    },
    {
      "cell_type": "markdown",
      "source": [
        "#### while문"
      ],
      "metadata": {
        "id": "Eh9uNkDmOD72"
      }
    },
    {
      "cell_type": "code",
      "source": [
        "# while문\n",
        "\n",
        "a = 0\n",
        "\n",
        "while a < 5 : # 0부터 4까지 1씩 증가\n",
        "  print(a)\n",
        "\n",
        "  a += 1 # 1씩 증가\n",
        "\n",
        "print('종료')"
      ],
      "metadata": {
        "colab": {
          "base_uri": "https://localhost:8080/"
        },
        "id": "khPJTZv9LUT1",
        "outputId": "4de8e7cc-7b9d-4602-e3fe-1fd06719f0fe"
      },
      "execution_count": 12,
      "outputs": [
        {
          "output_type": "stream",
          "name": "stdout",
          "text": [
            "0\n",
            "1\n",
            "2\n",
            "3\n",
            "4\n",
            "종료\n"
          ]
        }
      ]
    },
    {
      "cell_type": "code",
      "source": [
        "# 1부터 입력한 정수값까지의 합계를 구하기\n",
        "\n",
        "a = 0\n",
        "sum = 0\n",
        "num = int(input())\n",
        "\n",
        "while a <= num : \n",
        "  sum += a # a의 수를 더하기\n",
        "  a += 1 # 1씩 증가\n",
        "\n",
        "print(sum)"
      ],
      "metadata": {
        "colab": {
          "base_uri": "https://localhost:8080/"
        },
        "id": "_3sY5GGmMZEp",
        "outputId": "30de8553-8435-4ae3-c50c-00c73f0a4822"
      },
      "execution_count": 14,
      "outputs": [
        {
          "output_type": "stream",
          "name": "stdout",
          "text": [
            "10\n",
            "55\n"
          ]
        }
      ]
    },
    {
      "cell_type": "code",
      "source": [
        "# 작업 상황을 확인할 수 있게 증가할 때마다 표시\n",
        "\n",
        "a = 0\n",
        "sum = 0\n",
        "num = int(input())\n",
        "\n",
        "while a <= num : \n",
        "  print(f'a : {a}, sum : {sum}')\n",
        "  sum += a # a의 수를 더하기\n",
        "  a += 1 # 1씩 증가\n",
        "\n",
        "print(sum)"
      ],
      "metadata": {
        "colab": {
          "base_uri": "https://localhost:8080/"
        },
        "id": "6uX-xcTpM9WD",
        "outputId": "d6194b4f-77df-4ee7-abd5-aeca9aeae1b1"
      },
      "execution_count": 15,
      "outputs": [
        {
          "output_type": "stream",
          "name": "stdout",
          "text": [
            "4\n",
            "a : 0, sum : 0\n",
            "a : 1, sum : 0\n",
            "a : 2, sum : 1\n",
            "a : 3, sum : 3\n",
            "a : 4, sum : 6\n",
            "10\n"
          ]
        }
      ]
    },
    {
      "cell_type": "markdown",
      "source": [
        "#### for문"
      ],
      "metadata": {
        "id": "S_tzDG-OOGyG"
      }
    },
    {
      "cell_type": "code",
      "source": [
        "colors = ['red', 'orange', 'green', 'blue', 'navy']\n",
        "\n",
        "for i in colors :\n",
        "  print(i)"
      ],
      "metadata": {
        "colab": {
          "base_uri": "https://localhost:8080/"
        },
        "id": "pMXGsYbaNyaI",
        "outputId": "ca1ed403-233b-48b0-9d64-531303766570"
      },
      "execution_count": 16,
      "outputs": [
        {
          "output_type": "stream",
          "name": "stdout",
          "text": [
            "red\n",
            "orange\n",
            "green\n",
            "blue\n",
            "navy\n"
          ]
        }
      ]
    },
    {
      "cell_type": "code",
      "source": [
        "word = 'Hello'\n",
        "\n",
        "for i in word :\n",
        "  print(i)"
      ],
      "metadata": {
        "colab": {
          "base_uri": "https://localhost:8080/"
        },
        "id": "hz3U2_5sOhrN",
        "outputId": "75dec25f-64ac-450c-e1d4-7682ffc12002"
      },
      "execution_count": 17,
      "outputs": [
        {
          "output_type": "stream",
          "name": "stdout",
          "text": [
            "H\n",
            "e\n",
            "l\n",
            "l\n",
            "o\n"
          ]
        }
      ]
    },
    {
      "cell_type": "code",
      "source": [
        "# 위와 같은 결과값을 얻지만 알고리즘 활용 시, 이 방법을 더 많이 사용한다.\n",
        "\n",
        "for i in range(len(word)) :\n",
        "  print(word[i])"
      ],
      "metadata": {
        "colab": {
          "base_uri": "https://localhost:8080/"
        },
        "id": "l8ajyHg8Ov-6",
        "outputId": "245d42b1-dca1-43f7-ff0d-7e6b1c2b0932"
      },
      "execution_count": 22,
      "outputs": [
        {
          "output_type": "stream",
          "name": "stdout",
          "text": [
            "H\n",
            "e\n",
            "l\n",
            "l\n",
            "o\n"
          ]
        }
      ]
    },
    {
      "cell_type": "code",
      "source": [
        "math = {'john' : 80, 'eric' : 90}\n",
        "\n",
        "for i in math :\n",
        "  print(i) # 딕셔너리에 저장된 키만 출력"
      ],
      "metadata": {
        "colab": {
          "base_uri": "https://localhost:8080/"
        },
        "id": "RVgKN9REO5Rh",
        "outputId": "89dc63cb-ef58-4f36-efde-14f58a13bd58"
      },
      "execution_count": 23,
      "outputs": [
        {
          "output_type": "stream",
          "name": "stdout",
          "text": [
            "john\n",
            "eric\n"
          ]
        }
      ]
    },
    {
      "cell_type": "code",
      "source": [
        "for i in math :\n",
        "  print(i, math[i]) # 딕셔너리의 값도 함께 표시"
      ],
      "metadata": {
        "colab": {
          "base_uri": "https://localhost:8080/"
        },
        "id": "Gdz7TM5gPsjI",
        "outputId": "5b973c0d-9599-4dfc-fc19-80a246bd0ce9"
      },
      "execution_count": 24,
      "outputs": [
        {
          "output_type": "stream",
          "name": "stdout",
          "text": [
            "john 80\n",
            "eric 90\n"
          ]
        }
      ]
    },
    {
      "cell_type": "markdown",
      "source": [
        "#### break"
      ],
      "metadata": {
        "id": "6v63dmr4QuEX"
      }
    },
    {
      "cell_type": "code",
      "source": [
        "n = 0\n",
        "\n",
        "while True :\n",
        "  if n == 3 :\n",
        "    break\n",
        "  \n",
        "  print(n)\n",
        "  n += 1\n",
        "  \n",
        "print('종료')"
      ],
      "metadata": {
        "colab": {
          "base_uri": "https://localhost:8080/"
        },
        "id": "RoN4GRJ8Qg6M",
        "outputId": "2c5b4bb4-6036-4fa7-fa37-58e1a285dd75"
      },
      "execution_count": 27,
      "outputs": [
        {
          "output_type": "stream",
          "name": "stdout",
          "text": [
            "0\n",
            "1\n",
            "2\n",
            "종료\n"
          ]
        }
      ]
    },
    {
      "cell_type": "code",
      "source": [
        "for i in range(10) :\n",
        "  if i > 1 :\n",
        "    print('0과 1만 필요해!')\n",
        "    break\n",
        "  \n",
        "  print(i)\n",
        "\n",
        "print('종료')"
      ],
      "metadata": {
        "colab": {
          "base_uri": "https://localhost:8080/"
        },
        "id": "nayv-5HjQ5vu",
        "outputId": "d2869423-7736-4b8f-e360-d6d19654afdf"
      },
      "execution_count": 28,
      "outputs": [
        {
          "output_type": "stream",
          "name": "stdout",
          "text": [
            "0\n",
            "1\n",
            "0과 1만 필요해!\n",
            "종료\n"
          ]
        }
      ]
    },
    {
      "cell_type": "code",
      "source": [
        "for i in 'apple' :\n",
        "  if i == 'b' :\n",
        "    print('b!')\n",
        "    break\n",
        "\n",
        "else :\n",
        "  print('b가 없습니다.')"
      ],
      "metadata": {
        "colab": {
          "base_uri": "https://localhost:8080/"
        },
        "id": "sXVRKTwHR8hs",
        "outputId": "623cbc17-552e-4e0d-ac85-7e417ce971e7"
      },
      "execution_count": 30,
      "outputs": [
        {
          "output_type": "stream",
          "name": "stdout",
          "text": [
            "b가 없습니다.\n"
          ]
        }
      ]
    },
    {
      "cell_type": "code",
      "source": [
        "for i in 'banana' :\n",
        "  if i == 'b' :\n",
        "    print('b!')\n",
        "    break\n",
        "\n",
        "  else :\n",
        "    print('b가 없습니다.')"
      ],
      "metadata": {
        "colab": {
          "base_uri": "https://localhost:8080/"
        },
        "id": "nHLK4s-ySNms",
        "outputId": "d40626b8-9c27-4b45-a97a-2eaa7ea977ac"
      },
      "execution_count": 32,
      "outputs": [
        {
          "output_type": "stream",
          "name": "stdout",
          "text": [
            "b!\n"
          ]
        }
      ]
    },
    {
      "cell_type": "markdown",
      "source": [
        "#### continue"
      ],
      "metadata": {
        "id": "2kHjoeY3RauV"
      }
    },
    {
      "cell_type": "code",
      "source": [
        "# continue 이후의 코드 블록은 수행하지 않고, 다음 반복을 수행\n",
        "\n",
        "for i in range(10) :\n",
        "  if i % 2 == 0 :\n",
        "    continue # 짝수는 제외\n",
        "  \n",
        "  print(i) # 홀수만 출력"
      ],
      "metadata": {
        "colab": {
          "base_uri": "https://localhost:8080/"
        },
        "id": "QA4Boi81RRc8",
        "outputId": "479b1caf-eaf6-4b42-e77a-e2e5f5848dc5"
      },
      "execution_count": 29,
      "outputs": [
        {
          "output_type": "stream",
          "name": "stdout",
          "text": [
            "1\n",
            "3\n",
            "5\n",
            "7\n",
            "9\n"
          ]
        }
      ]
    }
  ]
}