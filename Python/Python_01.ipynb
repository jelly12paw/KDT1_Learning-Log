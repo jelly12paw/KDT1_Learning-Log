{
  "nbformat": 4,
  "nbformat_minor": 0,
  "metadata": {
    "colab": {
      "name": "Python_01.ipynb",
      "provenance": [],
      "authorship_tag": "ABX9TyNsvg4O4F2hL5uKH2yqHaBR",
      "include_colab_link": true
    },
    "kernelspec": {
      "name": "python3",
      "display_name": "Python 3"
    },
    "language_info": {
      "name": "python"
    }
  },
  "cells": [
    {
      "cell_type": "markdown",
      "metadata": {
        "id": "view-in-github",
        "colab_type": "text"
      },
      "source": [
        "<a href=\"https://colab.research.google.com/github/jelly12paw/TIL/blob/main/Python/Python_01.ipynb\" target=\"_parent\"><img src=\"https://colab.research.google.com/assets/colab-badge.svg\" alt=\"Open In Colab\"/></a>"
      ]
    },
    {
      "cell_type": "markdown",
      "source": [
        "# Python 기초"
      ],
      "metadata": {
        "id": "TnQOWuLuJCvF"
      }
    },
    {
      "cell_type": "markdown",
      "source": [
        "### 변수"
      ],
      "metadata": {
        "id": "nmEnyG5JRbFQ"
      }
    },
    {
      "cell_type": "code",
      "execution_count": 1,
      "metadata": {
        "colab": {
          "base_uri": "https://localhost:8080/"
        },
        "id": "d5vuePEcIzLS",
        "outputId": "6cb54a4f-e8f9-4ced-ff70-02065a1f5587"
      },
      "outputs": [
        {
          "output_type": "stream",
          "name": "stdout",
          "text": [
            "5 3\n"
          ]
        }
      ],
      "source": [
        "a = 5 # a라는 변수에 5라는 값을 지정\n",
        "b = 3 # b라는 변수에 3이라는 값을 지정\n",
        "\n",
        "print(a, b)"
      ]
    },
    {
      "cell_type": "code",
      "source": [
        "print('Hello') # 문자열 출력\n",
        "\n",
        "Hello = 'Hello Python!' # Hello라는 변수 이름\n",
        "\n",
        "print(Hello)"
      ],
      "metadata": {
        "colab": {
          "base_uri": "https://localhost:8080/"
        },
        "id": "hMee2XayRmyU",
        "outputId": "aa972618-90ca-4ef2-defd-7a1f66aba8f3"
      },
      "execution_count": 2,
      "outputs": [
        {
          "output_type": "stream",
          "name": "stdout",
          "text": [
            "Hello\n",
            "Hello Python!\n"
          ]
        }
      ]
    },
    {
      "cell_type": "code",
      "source": [
        "aa = a + 1 # 값을 지정한 변수는 연산 가능\n",
        "\n",
        "print(aa)"
      ],
      "metadata": {
        "colab": {
          "base_uri": "https://localhost:8080/"
        },
        "id": "WUooNtqDRy8D",
        "outputId": "e66c60fb-8616-4940-fbb0-9dcb2c46ab28"
      },
      "execution_count": 3,
      "outputs": [
        {
          "output_type": "stream",
          "name": "stdout",
          "text": [
            "6\n"
          ]
        }
      ]
    },
    {
      "cell_type": "markdown",
      "source": [
        "### Input() : 입력 함수"
      ],
      "metadata": {
        "id": "6b2OljVQSlQD"
      }
    },
    {
      "cell_type": "code",
      "source": [
        "name = input('이름을 입력해주세요 : ')\n",
        "\n",
        "print(name)"
      ],
      "metadata": {
        "colab": {
          "base_uri": "https://localhost:8080/"
        },
        "id": "p2mW0x2FSTi_",
        "outputId": "c6aa1792-7c63-40a1-e4f3-c149a7da4016"
      },
      "execution_count": 4,
      "outputs": [
        {
          "output_type": "stream",
          "name": "stdout",
          "text": [
            "이름을 입력해주세요 : 파이썬\n",
            "파이썬\n"
          ]
        }
      ]
    },
    {
      "cell_type": "markdown",
      "source": [
        "### Type : int / str / float"
      ],
      "metadata": {
        "id": "eiYKLnc8S_qz"
      }
    },
    {
      "cell_type": "code",
      "source": [
        "a = 5 # int(정수)\n",
        "b = '5' # str(문자열)\n",
        "\n",
        "print(a, type(a))\n",
        "print(b, type(b))"
      ],
      "metadata": {
        "colab": {
          "base_uri": "https://localhost:8080/"
        },
        "id": "ZT0kO2zDS5Kp",
        "outputId": "5565c9bf-09a3-4a9d-d7fa-e1f0c19d1d17"
      },
      "execution_count": 5,
      "outputs": [
        {
          "output_type": "stream",
          "name": "stdout",
          "text": [
            "5 <class 'int'>\n",
            "5 <class 'str'>\n"
          ]
        }
      ]
    },
    {
      "cell_type": "code",
      "source": [
        "c = 0.1 # float(실수)\n",
        "\n",
        "print(c, type(c))"
      ],
      "metadata": {
        "colab": {
          "base_uri": "https://localhost:8080/"
        },
        "id": "b0IXZtm6TV-u",
        "outputId": "5c219e08-a807-4ab4-9245-18b68d733271"
      },
      "execution_count": 6,
      "outputs": [
        {
          "output_type": "stream",
          "name": "stdout",
          "text": [
            "0.1 <class 'float'>\n"
          ]
        }
      ]
    },
    {
      "cell_type": "markdown",
      "source": [
        "### len / indexing / slicing"
      ],
      "metadata": {
        "id": "Cn3If1poT5vP"
      }
    },
    {
      "cell_type": "code",
      "source": [
        "a = 'Hello Python!'\n",
        "\n",
        "print(len(a)) # 변수의 길이를 나타냄"
      ],
      "metadata": {
        "colab": {
          "base_uri": "https://localhost:8080/"
        },
        "id": "DMrbfqUVTtxk",
        "outputId": "e7962847-8228-4b71-9687-76dbfd83657f"
      },
      "execution_count": 8,
      "outputs": [
        {
          "output_type": "stream",
          "name": "stdout",
          "text": [
            "13\n"
          ]
        }
      ]
    },
    {
      "cell_type": "code",
      "source": [
        "print(a[0]) # 첫번째 값\n",
        "print(a[7]) # 8번째 값\n",
        "print(a[-1]) # 마지막 값"
      ],
      "metadata": {
        "colab": {
          "base_uri": "https://localhost:8080/"
        },
        "id": "V6BKjq4fTj-R",
        "outputId": "a47230b8-48b0-4b17-9a07-5efc2d9dbfd9"
      },
      "execution_count": 10,
      "outputs": [
        {
          "output_type": "stream",
          "name": "stdout",
          "text": [
            "H\n",
            "y\n",
            "!\n"
          ]
        }
      ]
    },
    {
      "cell_type": "code",
      "source": [
        "print(a[1:3]) # 2, 3번째 값\n",
        "print(a[0:8:2]) # 1 ~ 7번째 값에서 2배수에 해당하는 값"
      ],
      "metadata": {
        "colab": {
          "base_uri": "https://localhost:8080/"
        },
        "id": "Dg8ZNDOJUgtq",
        "outputId": "35ec9a60-0de5-4c4c-89d4-1fa2b3feac76"
      },
      "execution_count": 11,
      "outputs": [
        {
          "output_type": "stream",
          "name": "stdout",
          "text": [
            "el\n",
            "HloP\n"
          ]
        }
      ]
    },
    {
      "cell_type": "markdown",
      "source": [
        "### 줄 바꿈 / 특수문자 표시(', \", \\)"
      ],
      "metadata": {
        "id": "uSpJpnaTVZ4e"
      }
    },
    {
      "cell_type": "code",
      "source": [
        "print('Hello Python')\n",
        "print('Hello\\nPython') # \\n 줄 바꿈\n",
        "print('\\n')\n",
        "print('\\'\\' : 따옴표') # \\' 따옴표 표시\n",
        "print('\\\"\\\" : 쌍따옴표') # \\\" 쌍따옴표 표시\n",
        "print('\\\\ : 백슬래시') # \\\\ 백슬래시 표시"
      ],
      "metadata": {
        "colab": {
          "base_uri": "https://localhost:8080/"
        },
        "id": "F3H9dcP8U4m7",
        "outputId": "7d57153c-f6d1-45f6-aa93-01d71399b650"
      },
      "execution_count": 13,
      "outputs": [
        {
          "output_type": "stream",
          "name": "stdout",
          "text": [
            "Hello Python\n",
            "Hello\n",
            "Python\n",
            "\n",
            "\n",
            "'' : 따옴표\n",
            "\"\" : 쌍따옴표\n",
            "\\ : 백슬래시\n"
          ]
        }
      ]
    },
    {
      "cell_type": "markdown",
      "source": [
        "### 문자열 안에 변수 삽입"
      ],
      "metadata": {
        "id": "K-XpCbYtWXcp"
      }
    },
    {
      "cell_type": "code",
      "source": [
        "math = 70\n",
        "english = 90\n",
        "\n",
        "print(f'수학 점수 : {math}점')\n",
        "print(f'영어 점수 : {english}점')"
      ],
      "metadata": {
        "colab": {
          "base_uri": "https://localhost:8080/"
        },
        "id": "keCXfqLMWAw6",
        "outputId": "f3b08f05-53c6-4617-9e9b-e2881f313fba"
      },
      "execution_count": 15,
      "outputs": [
        {
          "output_type": "stream",
          "name": "stdout",
          "text": [
            "수학 점수 : 70점\n",
            "영어 점수 : 90점\n"
          ]
        }
      ]
    },
    {
      "cell_type": "code",
      "source": [
        "pi = 3.14\n",
        "r = 2\n",
        "\n",
        "print(f'원주율 : {pi}\\n원 넓이 : {pi*2*2}') # 연산자 사용 가능"
      ],
      "metadata": {
        "colab": {
          "base_uri": "https://localhost:8080/"
        },
        "id": "4fe1DslBWt_I",
        "outputId": "b92853fd-4116-41c7-bf4a-25a207619af1"
      },
      "execution_count": 17,
      "outputs": [
        {
          "output_type": "stream",
          "name": "stdout",
          "text": [
            "원주율 : 3.14\n",
            "원 넓이 : 12.56\n"
          ]
        }
      ]
    },
    {
      "cell_type": "code",
      "source": [
        "print('수학 점수는 ' + str(math) + '점이다.') # 정수를 문자열로 변환"
      ],
      "metadata": {
        "colab": {
          "base_uri": "https://localhost:8080/"
        },
        "id": "0Pd85AViXJEO",
        "outputId": "63edbc02-6721-4296-ab31-97cc7d9dacfe"
      },
      "execution_count": 19,
      "outputs": [
        {
          "output_type": "stream",
          "name": "stdout",
          "text": [
            "수학 점수는 70점이다.\n"
          ]
        }
      ]
    },
    {
      "cell_type": "markdown",
      "source": [
        "### 리스트 / 딕셔너리"
      ],
      "metadata": {
        "id": "FUGonYiHXvUn"
      }
    },
    {
      "cell_type": "code",
      "source": [
        "stu = ['가가', '나나', '다다', '라라', '마마', '바바'] # 리스트\n",
        "\n",
        "print(stu[0])\n",
        "print(stu[4])"
      ],
      "metadata": {
        "colab": {
          "base_uri": "https://localhost:8080/"
        },
        "id": "2paNmHakXhCo",
        "outputId": "dd5b9b8b-9344-47c8-e368-5071882369e7"
      },
      "execution_count": 21,
      "outputs": [
        {
          "output_type": "stream",
          "name": "stdout",
          "text": [
            "가가\n",
            "마마\n"
          ]
        }
      ]
    },
    {
      "cell_type": "code",
      "source": [
        "stu1 = [['가가', '나나'], \n",
        "        ['다다', '라라'], \n",
        "        ['마마', '바바']] # 리스트 안에 리스트\n",
        "\n",
        "print(stu1[1])\n",
        "print(stu1[2][0])"
      ],
      "metadata": {
        "colab": {
          "base_uri": "https://localhost:8080/"
        },
        "id": "MleXDwXZYDbI",
        "outputId": "b1c65a3f-30ab-44f8-ba09-eae051412c4c"
      },
      "execution_count": 23,
      "outputs": [
        {
          "output_type": "stream",
          "name": "stdout",
          "text": [
            "['다다', '라라']\n",
            "마마\n"
          ]
        }
      ]
    },
    {
      "cell_type": "code",
      "source": [
        "# 딕셔너리 (키 - 값의 쌍)\n",
        "\n",
        "stu2 = {'1조' : ['가가', '다다'],\n",
        "        '2조' : ['나나', '마마'],\n",
        "        '3조' : ['라라', '바바']}\n",
        "\n",
        "print(stu2['1조'])\n",
        "print(stu2['3조'][1])\n"
      ],
      "metadata": {
        "colab": {
          "base_uri": "https://localhost:8080/"
        },
        "id": "xdgcBAG-YlKT",
        "outputId": "eb7382a3-fcec-45eb-cada-08148701e5ee"
      },
      "execution_count": 24,
      "outputs": [
        {
          "output_type": "stream",
          "name": "stdout",
          "text": [
            "['가가', '다다']\n",
            "바바\n"
          ]
        }
      ]
    },
    {
      "cell_type": "code",
      "source": [
        "num = [1, 100, 20, 50]\n",
        "\n",
        "print([1, 2] + [3]) # 리스트끼리 연산자\n",
        "print('\\n')\n",
        "print('리스트의 개수 :', len(num))\n",
        "print('리스트의 합 :', sum(num))\n",
        "print('리스트의 최대값 :', max(num))\n",
        "print('리스트의 최소값 :', min(num))\n",
        "print('리스트의 평균 :', sum(num)/len(num))"
      ],
      "metadata": {
        "colab": {
          "base_uri": "https://localhost:8080/"
        },
        "id": "3uOLoiA4ZKuT",
        "outputId": "395ced77-7008-439f-db69-7ad44234318b"
      },
      "execution_count": 26,
      "outputs": [
        {
          "output_type": "stream",
          "name": "stdout",
          "text": [
            "[1, 2, 3]\n",
            "\n",
            "\n",
            "리스트의 개수 : 4\n",
            "리스트의 합 : 171\n",
            "리스트의 최대값 : 100\n",
            "리스트의 최소값 : 1\n",
            "리스트의 평균 : 42.75\n"
          ]
        }
      ]
    },
    {
      "cell_type": "code",
      "source": [
        "# 리스트의 값 변경\n",
        "\n",
        "a = [1, 2]\n",
        "\n",
        "print(a[0])\n",
        "\n",
        "a[0] = 99\n",
        "print(a)"
      ],
      "metadata": {
        "colab": {
          "base_uri": "https://localhost:8080/"
        },
        "id": "T5gO9FqAaAcD",
        "outputId": "157f2c73-6efb-45b3-d02c-f392f76ba3bc"
      },
      "execution_count": 27,
      "outputs": [
        {
          "output_type": "stream",
          "name": "stdout",
          "text": [
            "1\n",
            "[99, 2]\n"
          ]
        }
      ]
    },
    {
      "cell_type": "markdown",
      "source": [
        "### range"
      ],
      "metadata": {
        "id": "DZCR-sSMac-K"
      }
    },
    {
      "cell_type": "code",
      "source": [
        "num = range(5)\n",
        "\n",
        "print(num)\n",
        "\n",
        "print(list(num))"
      ],
      "metadata": {
        "colab": {
          "base_uri": "https://localhost:8080/"
        },
        "id": "kSFd1vhuaXgf",
        "outputId": "a773e947-fe75-4647-dc42-da99ef502fc3"
      },
      "execution_count": 30,
      "outputs": [
        {
          "output_type": "stream",
          "name": "stdout",
          "text": [
            "range(0, 5)\n",
            "[0, 1, 2, 3, 4]\n"
          ]
        }
      ]
    },
    {
      "cell_type": "code",
      "source": [
        "import random # 무작위 숫자 생성\n",
        "\n",
        "lotto = range(1, 46)\n",
        "\n",
        "win_num = random.sample(lotto, 6) # 변수에 저장된 값중 무작위로 6개 추출\n",
        "\n",
        "print(win_num)"
      ],
      "metadata": {
        "colab": {
          "base_uri": "https://localhost:8080/"
        },
        "id": "UpKl1Dsmbnez",
        "outputId": "e055a19e-f5ce-4d7b-9d17-4651a121fb25"
      },
      "execution_count": 35,
      "outputs": [
        {
          "output_type": "stream",
          "name": "stdout",
          "text": [
            "[30, 25, 42, 31, 33, 11]\n"
          ]
        }
      ]
    },
    {
      "cell_type": "markdown",
      "source": [
        "### set"
      ],
      "metadata": {
        "id": "vqrAC4s9bDCN"
      }
    },
    {
      "cell_type": "code",
      "source": [
        "a = {1, 2, 3, 1, 1, 2}\n",
        "b = {'hi', 2, 5}\n",
        "\n",
        "print(a) # 중복 값을 제외한 값만 보여줌\n",
        "print(b)"
      ],
      "metadata": {
        "colab": {
          "base_uri": "https://localhost:8080/"
        },
        "id": "crYgK5UbarEa",
        "outputId": "f3c64378-9557-4306-90df-2dfc47d9b36b"
      },
      "execution_count": 31,
      "outputs": [
        {
          "output_type": "stream",
          "name": "stdout",
          "text": [
            "{1, 2, 3}\n",
            "{2, 'hi', 5}\n"
          ]
        }
      ]
    },
    {
      "cell_type": "code",
      "source": [
        "loc = ['서울', '대구', '부산', '서울', '제주', '강원', '대전']\n",
        "\n",
        "print(set(loc))\n",
        "print(len(set(loc)))"
      ],
      "metadata": {
        "colab": {
          "base_uri": "https://localhost:8080/"
        },
        "id": "w16M1b7xbT3I",
        "outputId": "8b563a43-5946-4703-e294-60b13625971e"
      },
      "execution_count": 32,
      "outputs": [
        {
          "output_type": "stream",
          "name": "stdout",
          "text": [
            "{'부산', '제주', '강원', '대전', '서울', '대구'}\n",
            "6\n"
          ]
        }
      ]
    }
  ]
}