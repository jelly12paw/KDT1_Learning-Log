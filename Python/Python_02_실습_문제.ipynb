{
  "nbformat": 4,
  "nbformat_minor": 0,
  "metadata": {
    "colab": {
      "name": "Python 02 실습 문제.ipynb",
      "provenance": [],
      "authorship_tag": "ABX9TyNdmNN/ZBwF3CoQBLfGCVQs",
      "include_colab_link": true
    },
    "kernelspec": {
      "name": "python3",
      "display_name": "Python 3"
    },
    "language_info": {
      "name": "python"
    }
  },
  "cells": [
    {
      "cell_type": "markdown",
      "metadata": {
        "id": "view-in-github",
        "colab_type": "text"
      },
      "source": [
        "<a href=\"https://colab.research.google.com/github/jelly12paw/TIL/blob/main/Python/Python_02_%EC%8B%A4%EC%8A%B5_%EB%AC%B8%EC%A0%9C.ipynb\" target=\"_parent\"><img src=\"https://colab.research.google.com/assets/colab-badge.svg\" alt=\"Open In Colab\"/></a>"
      ]
    },
    {
      "cell_type": "code",
      "execution_count": 1,
      "metadata": {
        "colab": {
          "base_uri": "https://localhost:8080/"
        },
        "id": "VTWcQC8-FIS_",
        "outputId": "ccda4f46-f9c9-4235-cf48-16614b48d3e4"
      },
      "outputs": [
        {
          "output_type": "stream",
          "name": "stdout",
          "text": [
            "267\n",
            "False\n"
          ]
        }
      ],
      "source": [
        "# 01\n",
        "\n",
        "a = int(input())\n",
        "\n",
        "if a % 3 == 0 and a % 2 == 0 :\n",
        "  print('True')\n",
        "\n",
        "else :\n",
        "  print('False')"
      ]
    },
    {
      "cell_type": "code",
      "source": [
        "# 02\n",
        "\n",
        "word = 'happy!'\n",
        "\n",
        "w = 0\n",
        "\n",
        "for i in word :\n",
        "  w += 1\n",
        "\n",
        "print(w)"
      ],
      "metadata": {
        "colab": {
          "base_uri": "https://localhost:8080/"
        },
        "id": "iL2fQm6zGFdP",
        "outputId": "53209711-7eda-45ed-f29e-7432869201f5"
      },
      "execution_count": 2,
      "outputs": [
        {
          "output_type": "stream",
          "name": "stdout",
          "text": [
            "6\n"
          ]
        }
      ]
    },
    {
      "cell_type": "code",
      "source": [
        "# 03\n",
        "\n",
        "sum = 0\n",
        "\n",
        "for i in range(1, 11) :\n",
        "  sum += i\n",
        "\n",
        "print(sum)\n",
        "\n",
        "# while문\n",
        "sum = 0\n",
        "i = 1\n",
        "\n",
        "while i < 11 :\n",
        "  sum += i\n",
        "  i += 1\n",
        "\n",
        "print(sum)"
      ],
      "metadata": {
        "colab": {
          "base_uri": "https://localhost:8080/"
        },
        "id": "Lm3SSsNrGL3s",
        "outputId": "71477645-08f3-4681-ecbb-c36ccee1532d"
      },
      "execution_count": 3,
      "outputs": [
        {
          "output_type": "stream",
          "name": "stdout",
          "text": [
            "55\n",
            "55\n"
          ]
        }
      ]
    },
    {
      "cell_type": "code",
      "source": [
        "# 04\n",
        "\n",
        "mul = 1\n",
        "\n",
        "for i in range (1, 6) :\n",
        "  mul *= i\n",
        "\n",
        "print(mul)\n",
        "\n",
        "# while문\n",
        "mul = 1\n",
        "i = 1\n",
        "\n",
        "while i < 6 :\n",
        "  mul *= i\n",
        "  i += 1\n",
        "\n",
        "print(mul)"
      ],
      "metadata": {
        "colab": {
          "base_uri": "https://localhost:8080/"
        },
        "id": "67Zp3RC2GTVz",
        "outputId": "edeef9a2-ac33-426f-b116-4268d964e51e"
      },
      "execution_count": 4,
      "outputs": [
        {
          "output_type": "stream",
          "name": "stdout",
          "text": [
            "120\n",
            "120\n"
          ]
        }
      ]
    },
    {
      "cell_type": "code",
      "source": [
        "# 05\n",
        "\n",
        "numbers = [3, 10, 20]\n",
        "\n",
        "len = 0\n",
        "sum = 0\n",
        "\n",
        "for i in numbers :\n",
        "  len += 1\n",
        "  sum += i\n",
        "\n",
        "  mean = sum/len\n",
        "  mean = int(mean)\n",
        "  \n",
        "print(mean)"
      ],
      "metadata": {
        "colab": {
          "base_uri": "https://localhost:8080/"
        },
        "id": "oGbiLKdsGYvx",
        "outputId": "ed0722f5-8237-490a-9011-27d2304f17c9"
      },
      "execution_count": 5,
      "outputs": [
        {
          "output_type": "stream",
          "name": "stdout",
          "text": [
            "11\n"
          ]
        }
      ]
    },
    {
      "cell_type": "code",
      "source": [
        "# 06\n",
        "\n",
        "numbers = [0, 20, 100]\n",
        "\n",
        "max = 0\n",
        "\n",
        "for i in numbers :\n",
        "\n",
        "  if max < i :\n",
        "    max = i\n",
        "\n",
        "print(max)\n",
        "\n",
        "# 6 - 1\n",
        "\n",
        "numbers1 = [0, 20, 100, 50, -60, 50, 100] # 100\n",
        "numbers2 = [0, 1, 0] # 1\n",
        "numbers3 = [-10, -100, -30] # -10 \n",
        "\n",
        "max = -1000\n",
        "\n",
        "for i in numbers1 :\n",
        "\n",
        "  if max < i :\n",
        "    max = i\n",
        "\n",
        "print(max)\n",
        "\n",
        "# 6 - 2\n",
        "for i in numbers2 :\n",
        "\n",
        "  if max < i :\n",
        "    max = i\n",
        "\n",
        "print(max)\n",
        "\n",
        "# 6 - 3\n",
        "for i in numbers3 :\n",
        "\n",
        "  if max < i :\n",
        "    max = i\n",
        "\n",
        "print(max)"
      ],
      "metadata": {
        "colab": {
          "base_uri": "https://localhost:8080/"
        },
        "id": "xNjlBxObGkNJ",
        "outputId": "78542fe9-fcb6-4745-a105-c445bfb0e430"
      },
      "execution_count": 6,
      "outputs": [
        {
          "output_type": "stream",
          "name": "stdout",
          "text": [
            "100\n",
            "100\n",
            "100\n",
            "100\n"
          ]
        }
      ]
    },
    {
      "cell_type": "code",
      "source": [
        "# 07\n",
        "\n",
        "numbers = [0, 20, 100]\n",
        "\n",
        "min = 0\n",
        "\n",
        "for i in numbers :\n",
        "\n",
        "  if min > i :\n",
        "    min = i\n",
        "\n",
        "print(min)\n",
        "\n",
        "# 7 - 1\n",
        "\n",
        "numbers1 = [0, 20, 100, 50, -60, 50, 100] # 100\n",
        "numbers2 = [0, 1, 0] # 1\n",
        "numbers3 = [-10, -100, -30] # -10 \n",
        "\n",
        "min = 0\n",
        "\n",
        "for i in numbers1 :\n",
        "\n",
        "  if min > i :\n",
        "    min = i\n",
        "\n",
        "print(min)\n",
        "\n",
        "# 7 - 2\n",
        "for i in numbers2 :\n",
        "\n",
        "  if min > i :\n",
        "    min = i\n",
        "\n",
        "print(min)\n",
        "\n",
        "# 7 - 3\n",
        "for i in numbers3 :\n",
        "\n",
        "  if min > i :\n",
        "    min = i\n",
        "\n",
        "print(min)"
      ],
      "metadata": {
        "colab": {
          "base_uri": "https://localhost:8080/"
        },
        "id": "Et5dWS5BGugT",
        "outputId": "1d5dbe84-7625-4146-db9d-a9e9a13c920f"
      },
      "execution_count": 7,
      "outputs": [
        {
          "output_type": "stream",
          "name": "stdout",
          "text": [
            "0\n",
            "-60\n",
            "-60\n",
            "-100\n"
          ]
        }
      ]
    },
    {
      "cell_type": "code",
      "source": [
        "# 08\n",
        "\n",
        "numbers = [0, 20, 100]\n",
        "\n",
        "arr_num = sorted(numbers, reverse=True)\n",
        "max_2nd = arr_num[1]\n",
        "\n",
        "print(max_2nd)\n",
        "\n",
        "# 8 - 1\n",
        "\n",
        "numbers1 = [0, 20, 100, 50, -60, 50, 100] \n",
        "numbers2 = [0, 1, 0] \n",
        "numbers3 = [-10, -100, -30] \n",
        "\n",
        "arr_num1 = sorted(numbers1, reverse=True)\n",
        "max_2nd1 = arr_num1[1]\n",
        "\n",
        "print(max_2nd1)\n",
        "\n",
        "# 8 - 2\n",
        "arr_num2 = sorted(numbers2, reverse=True)\n",
        "max_2nd2 = arr_num2[1]\n",
        "\n",
        "print(max_2nd2)\n",
        "\n",
        "# 8 - 3\n",
        "arr_num3 = sorted(numbers3, reverse=True)\n",
        "max_2nd3 = arr_num3[1]\n",
        "\n",
        "print(max_2nd3)"
      ],
      "metadata": {
        "colab": {
          "base_uri": "https://localhost:8080/"
        },
        "id": "nuCvK9aIG6fl",
        "outputId": "9283e920-370d-40a2-d792-c9ad2b543721"
      },
      "execution_count": 8,
      "outputs": [
        {
          "output_type": "stream",
          "name": "stdout",
          "text": [
            "20\n",
            "100\n",
            "0\n",
            "-30\n"
          ]
        }
      ]
    },
    {
      "cell_type": "markdown",
      "source": [
        "## 정답 풀이"
      ],
      "metadata": {
        "id": "1FYKB7mrHFQ7"
      }
    },
    {
      "cell_type": "code",
      "source": [
        "# 08\n",
        "\n",
        "numbers = [0, 20, 100, 40]\n",
        "max_number = float(\"-inf\")\n",
        "second_number = float(\"-inf\")\n",
        "\n",
        "# 1. 전체 숫자를 반복\n",
        "for n in numbers:\n",
        "    # 만약에, n이 최대보다 크다면\n",
        "    if max_number < n:\n",
        "        # 최대값이었던 것이 두번째로 큰 수\n",
        "        second_number = max_number\n",
        "        max_number = n\n",
        "    # elif second_number < n < max_number:\n",
        "    elif second_number < n and n < max_number:\n",
        "        second_number = n\n",
        "        \n",
        "print(second_number)"
      ],
      "metadata": {
        "colab": {
          "base_uri": "https://localhost:8080/"
        },
        "id": "CxFFv0RYHHOV",
        "outputId": "1ebc8577-861f-4ea3-ef7f-c310b0973bb4"
      },
      "execution_count": 9,
      "outputs": [
        {
          "output_type": "stream",
          "name": "stdout",
          "text": [
            "40\n"
          ]
        }
      ]
    }
  ]
}