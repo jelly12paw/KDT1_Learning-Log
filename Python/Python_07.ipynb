{
  "nbformat": 4,
  "nbformat_minor": 0,
  "metadata": {
    "colab": {
      "name": "Python_07.ipynb",
      "provenance": [],
      "authorship_tag": "ABX9TyPibDosnZoLBErD3dNWEyk8",
      "include_colab_link": true
    },
    "kernelspec": {
      "name": "python3",
      "display_name": "Python 3"
    },
    "language_info": {
      "name": "python"
    }
  },
  "cells": [
    {
      "cell_type": "markdown",
      "metadata": {
        "id": "view-in-github",
        "colab_type": "text"
      },
      "source": [
        "<a href=\"https://colab.research.google.com/github/jelly12paw/TIL/blob/main/Python/Python_07.ipynb\" target=\"_parent\"><img src=\"https://colab.research.google.com/assets/colab-badge.svg\" alt=\"Open In Colab\"/></a>"
      ]
    },
    {
      "cell_type": "markdown",
      "source": [
        "# Python 기초"
      ],
      "metadata": {
        "id": "h_euuD5zJ8Kz"
      }
    },
    {
      "cell_type": "markdown",
      "source": [
        "### 인스턴스"
      ],
      "metadata": {
        "id": "XIeqHPYEJ_d1"
      }
    },
    {
      "cell_type": "code",
      "source": [
        "class Person :\n",
        "\n",
        "  type = '사람' # 클래스 변수(속성)\n",
        "\n",
        "  def greeting(self) : # 인스턴스 메서드\n",
        "    print('안녕하세요!')\n",
        "\n",
        "iu = Person()\n",
        "iu.greeting()\n",
        "\n",
        "print(Person.type)"
      ],
      "metadata": {
        "colab": {
          "base_uri": "https://localhost:8080/"
        },
        "id": "5RzY5MHAJ_Hu",
        "outputId": "ed52901e-90ae-4e52-d28b-6d6034ee9e86"
      },
      "execution_count": 1,
      "outputs": [
        {
          "output_type": "stream",
          "name": "stdout",
          "text": [
            "안녕하세요!\n",
            "사람\n"
          ]
        }
      ]
    },
    {
      "cell_type": "code",
      "execution_count": 4,
      "metadata": {
        "colab": {
          "base_uri": "https://localhost:8080/"
        },
        "id": "QaXg_tiGJ2E-",
        "outputId": "904556ec-0c42-47e9-ed39-3a9854dce35c"
      },
      "outputs": [
        {
          "output_type": "stream",
          "name": "stdout",
          "text": [
            "지민\n",
            "안녕하세요, 지민입니다.\n"
          ]
        }
      ],
      "source": [
        "class Person :\n",
        "  def __init__(self, name) : # 생성자 메서드\n",
        "\n",
        "    self.name = name\n",
        "\n",
        "\n",
        "  def greeting(self) :\n",
        "    print(f'안녕하세요, {self.name}입니다.')\n",
        "\n",
        "j = Person('지민')\n",
        "print(j.name)\n",
        "j.greeting()"
      ]
    },
    {
      "cell_type": "code",
      "source": [
        "class H :\n",
        "\n",
        "  def __init__(self) :\n",
        "    self.health = 100\n",
        "    self.energy = 0\n",
        "\n",
        "y = H()\n",
        "x = H()\n",
        "\n",
        "y.health = y.health - 20\n",
        "x.health = x.health\n",
        "\n",
        "print(y.health, x.health)"
      ],
      "metadata": {
        "colab": {
          "base_uri": "https://localhost:8080/"
        },
        "id": "4W4Min3yLjad",
        "outputId": "586c94b8-b472-4a36-abb1-165a957d15f4"
      },
      "execution_count": 10,
      "outputs": [
        {
          "output_type": "stream",
          "name": "stdout",
          "text": [
            "80 100\n"
          ]
        }
      ]
    },
    {
      "cell_type": "markdown",
      "source": [
        "### random"
      ],
      "metadata": {
        "id": "iRmcd-YlO_pp"
      }
    },
    {
      "cell_type": "code",
      "source": [
        "import random\n",
        "\n",
        "\n",
        "for i in range(5) :\n",
        "  num = range(1, 46)\n",
        "  result = random.sample(num, 6)\n",
        "  result.sort()\n",
        "\n",
        "  print(result)"
      ],
      "metadata": {
        "colab": {
          "base_uri": "https://localhost:8080/"
        },
        "id": "AIrvcGzxOoJV",
        "outputId": "73c9090e-3342-4040-cdac-92e2ef16398e"
      },
      "execution_count": 13,
      "outputs": [
        {
          "output_type": "stream",
          "name": "stdout",
          "text": [
            "[7, 9, 12, 25, 28, 43]\n",
            "[1, 14, 17, 21, 23, 27]\n",
            "[3, 4, 9, 10, 34, 38]\n",
            "[5, 8, 9, 21, 26, 39]\n",
            "[18, 25, 30, 33, 35, 36]\n"
          ]
        }
      ]
    },
    {
      "cell_type": "code",
      "source": [
        "import random\n",
        "\n",
        "def lotto(n) :\n",
        "  result = []\n",
        "\n",
        "  for i in range(n) :\n",
        "    num = range(1, 46)\n",
        "    pick = random.sample(num, 6)\n",
        "    pick.sort()\n",
        "    result.append(pick)\n",
        "\n",
        "  return result\n",
        "\n",
        "print(lotto(3))"
      ],
      "metadata": {
        "colab": {
          "base_uri": "https://localhost:8080/"
        },
        "id": "k6cbpflrPccE",
        "outputId": "28a0cb10-146c-40b1-d969-35a8d1b8bc62"
      },
      "execution_count": 23,
      "outputs": [
        {
          "output_type": "stream",
          "name": "stdout",
          "text": [
            "[[6, 9, 12, 22, 37, 41], [14, 25, 26, 30, 41, 45], [24, 26, 33, 34, 36, 42]]\n"
          ]
        }
      ]
    },
    {
      "cell_type": "code",
      "source": [
        "import random\n",
        "\n",
        "class Lotto :\n",
        "  def g_lotto(self) :\n",
        "    self.num = sorted(random.sample(range(1, 46), 6))\n",
        "\n",
        "  def money(self, real_num) :\n",
        "    print('당신의 숫자는', self.num)\n",
        "    print('당첨 숫자는', real_num)\n",
        "    \n",
        "    if self.num == real_num :\n",
        "      return 10000000000\n",
        "\n",
        "    else :\n",
        "      return 0\n",
        "\n",
        "lo = Lotto()\n",
        "lo.g_lotto()\n",
        "lo.money([5, 10, 11, 14, 19, 44])\n",
        "print(lo.num)"
      ],
      "metadata": {
        "colab": {
          "base_uri": "https://localhost:8080/"
        },
        "id": "3WGjVjGBQXGY",
        "outputId": "1af3a1b3-c8cf-4623-a41a-6fe684958092"
      },
      "execution_count": 28,
      "outputs": [
        {
          "output_type": "stream",
          "name": "stdout",
          "text": [
            "당신의 숫자는 [4, 11, 15, 20, 32, 43]\n",
            "당첨 숫자는 [5, 10, 11, 14, 19, 44]\n",
            "[4, 11, 15, 20, 32, 43]\n"
          ]
        }
      ]
    },
    {
      "cell_type": "markdown",
      "source": [
        "### method"
      ],
      "metadata": {
        "id": "HwAi0J-dudlV"
      }
    },
    {
      "cell_type": "markdown",
      "source": [
        "### 메소드 정리\n",
        "- 인스턴스 메소드 : 인스턴스를 의미하는 `self` 매개 변수를 통해 인스턴스 조작\n",
        "- 클래스 메소드 : 클래스를 의미하는 `cls` 매개 변수를 통해 클래스를 조작\n",
        "- 스태틱 메소드\n",
        "  - 인스턴스나 클래스를 의미하는 매개변수 사용하지 않음\n",
        "  - 일반 함수처럼 동작하지만 클래스의 이름공간에 귀속 (해당 클래스로 한정하는 용도)"
      ],
      "metadata": {
        "id": "yIdkdSwMxDXX"
      }
    },
    {
      "cell_type": "code",
      "source": [
        "class MyClass :\n",
        "  class_var = '클래스 변수'\n",
        "\n",
        "  def __init__(self) :\n",
        "    self.instan_var = '인스터스 변수'\n",
        "\n",
        "  def instan_met(self) :\n",
        "    return self, self.instan_var\n",
        "\n",
        "  @classmethod\n",
        "  def class_met(cls) :\n",
        "    return cls, cls.class_var\n",
        "\n",
        "  @staticmethod\n",
        "  def sta_met() :\n",
        "    return '스태틱'\n",
        "\n",
        "c1 = MyClass()\n",
        "print('인스턴스 변수 호출', c1.instan_var)\n",
        "print('인스턴스 메서드 호출', c1.instan_met)\n",
        "print('클래스 메서드 호출', c1.class_met())\n",
        "print('스태틱 메서드 호출', c1.sta_met())"
      ],
      "metadata": {
        "colab": {
          "base_uri": "https://localhost:8080/"
        },
        "id": "c7AtKFH5udYU",
        "outputId": "a4d4502b-e0e9-47ad-ffab-0d76cf855efd"
      },
      "execution_count": 2,
      "outputs": [
        {
          "output_type": "stream",
          "name": "stdout",
          "text": [
            "인스턴스 변수 호출 인스터스 변수\n",
            "인스턴스 메서드 호출 <bound method MyClass.instan_met of <__main__.MyClass object at 0x7f78903389d0>>\n",
            "클래스 메서드 호출 (<class '__main__.MyClass'>, '클래스 변수')\n",
            "스태틱 메서드 호출 스태틱\n"
          ]
        }
      ]
    },
    {
      "cell_type": "markdown",
      "source": [
        "### 상속"
      ],
      "metadata": {
        "id": "CtGdBNQ3yQiO"
      }
    },
    {
      "cell_type": "code",
      "source": [
        "class Animal :\n",
        "  def __init__(self, name) :\n",
        "    self.name = name\n",
        "\n",
        "  def Kind(self) :\n",
        "    print(f'안녕하세요. {self.name}입니다.')\n",
        "\n",
        "# 자식 클래스\n",
        "\n",
        "class Cat(Animal) :\n",
        "  def Kind(self) :\n",
        "    print(f'야옹~ 나는 {self.name}다옹!')\n",
        "\n",
        "# 자식 클래스\n",
        "class Dog(Animal) :\n",
        "  def Kind(self) :\n",
        "    super().Kind()\n",
        "    print(f'멍멍! 나는 {self.name}다멍!!')\n",
        "\n",
        "a = Cat('고양이')\n",
        "print(a.Kind())\n",
        "\n",
        "b = Dog('강아지')\n",
        "print(b.Kind())"
      ],
      "metadata": {
        "colab": {
          "base_uri": "https://localhost:8080/"
        },
        "id": "xoOTLvLkS6eY",
        "outputId": "4d1a65ee-f01b-44b9-b10f-c948dc48d957"
      },
      "execution_count": 7,
      "outputs": [
        {
          "output_type": "stream",
          "name": "stdout",
          "text": [
            "야옹~ 나는 고양이다옹!\n",
            "None\n",
            "안녕하세요. 강아지입니다.\n",
            "멍멍! 나는 강아지다멍!!\n",
            "None\n"
          ]
        }
      ]
    }
  ]
}