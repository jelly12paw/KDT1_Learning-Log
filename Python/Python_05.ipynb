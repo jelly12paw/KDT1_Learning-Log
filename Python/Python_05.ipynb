{
  "nbformat": 4,
  "nbformat_minor": 0,
  "metadata": {
    "colab": {
      "name": "Python 05.ipynb",
      "provenance": [],
      "authorship_tag": "ABX9TyMv4UL5Lkk7hWOPmThalfAo",
      "include_colab_link": true
    },
    "kernelspec": {
      "name": "python3",
      "display_name": "Python 3"
    },
    "language_info": {
      "name": "python"
    }
  },
  "cells": [
    {
      "cell_type": "markdown",
      "metadata": {
        "id": "view-in-github",
        "colab_type": "text"
      },
      "source": [
        "<a href=\"https://colab.research.google.com/github/jelly12paw/TIL/blob/main/Python/Python_05.ipynb\" target=\"_parent\"><img src=\"https://colab.research.google.com/assets/colab-badge.svg\" alt=\"Open In Colab\"/></a>"
      ]
    },
    {
      "cell_type": "markdown",
      "source": [
        "# Python 기초"
      ],
      "metadata": {
        "id": "tXMGct0dHFUQ"
      }
    },
    {
      "cell_type": "markdown",
      "source": [
        "### dictionary"
      ],
      "metadata": {
        "id": "vwtr9X5rePGc"
      }
    },
    {
      "cell_type": "code",
      "source": [
        "word = 'banana'\n",
        "\n",
        "result = {}\n",
        "\n",
        "for char in word :\n",
        "  if char not in result :\n",
        "    result['char'] = 1\n",
        "  \n",
        "  else :\n",
        "    result[char] = result[char] + 1\n",
        "\n",
        "print(result)\n",
        "\n",
        "# 키 - 값의 쌍 추가\n",
        "\n",
        "result['a'] = 0\n",
        "print(result)"
      ],
      "metadata": {
        "colab": {
          "base_uri": "https://localhost:8080/"
        },
        "id": "Ge2mPgkXeSoD",
        "outputId": "1a6d84c0-6e57-4d9f-f2f3-f9672ed1b91e"
      },
      "execution_count": 17,
      "outputs": [
        {
          "output_type": "stream",
          "name": "stdout",
          "text": [
            "{'char': 1}\n",
            "{'char': 1, 'a': 0}\n"
          ]
        }
      ]
    },
    {
      "cell_type": "markdown",
      "source": [
        "### 예외 처리"
      ],
      "metadata": {
        "id": "9zc1xGCLHI1U"
      }
    },
    {
      "cell_type": "code",
      "source": [
        "number = input() # str\n",
        "\n",
        "# print(100/int(number))\n",
        "\n",
        "try :\n",
        "  print(100/int(number))\n",
        "\n",
        "except ValueError :\n",
        "  print('오류입니다.')"
      ],
      "metadata": {
        "colab": {
          "base_uri": "https://localhost:8080/"
        },
        "id": "d0RwOC-9g2fP",
        "outputId": "0301f4a9-ce9c-4000-db5c-1787b1115ebe"
      },
      "execution_count": 22,
      "outputs": [
        {
          "output_type": "stream",
          "name": "stdout",
          "text": [
            "10\n",
            "10.0\n"
          ]
        }
      ]
    },
    {
      "cell_type": "code",
      "execution_count": 2,
      "metadata": {
        "colab": {
          "base_uri": "https://localhost:8080/"
        },
        "id": "qJnTPGXxG8u_",
        "outputId": "09cf555a-372f-4f05-fab6-12bbd7a9552b"
      },
      "outputs": [
        {
          "output_type": "stream",
          "name": "stdout",
          "text": [
            "아\n",
            "숫자 형식을 입력해주세요\n"
          ]
        }
      ],
      "source": [
        "number = input()\n",
        "\n",
        "try :\n",
        "  print(100/int(number))\n",
        "\n",
        "except ZeroDivisionError :\n",
        "  print('0으로 나눌 수는 없습니다.')\n",
        "\n",
        "except ValueError :\n",
        "  print('숫자 형식을 입력해주세요')\n",
        "\n",
        "except Exception :\n",
        "  print('오류')"
      ]
    },
    {
      "cell_type": "code",
      "source": [
        "try :\n",
        "  print(100/int(number))\n",
        "\n",
        "except ZeroDivisionError, ValueError :\n",
        "  print('입력 방식을 확인하세요')"
      ],
      "metadata": {
        "colab": {
          "base_uri": "https://localhost:8080/",
          "height": 131
        },
        "id": "irLkxd_CHlm7",
        "outputId": "95eb236e-9805-45ea-af21-b993f317481f"
      },
      "execution_count": 4,
      "outputs": [
        {
          "output_type": "error",
          "ename": "SyntaxError",
          "evalue": "ignored",
          "traceback": [
            "\u001b[0;36m  File \u001b[0;32m\"<ipython-input-4-7662839427b0>\"\u001b[0;36m, line \u001b[0;32m4\u001b[0m\n\u001b[0;31m    except ZeroDivisionError(), ValueError() :\u001b[0m\n\u001b[0m                              ^\u001b[0m\n\u001b[0;31mSyntaxError\u001b[0m\u001b[0;31m:\u001b[0m invalid syntax\n"
          ]
        }
      ]
    },
    {
      "cell_type": "code",
      "source": [
        "try :\n",
        "  f = open('a.txt')\n",
        "\n",
        "except FileNotFoundError :\n",
        "  print('해당 파일을 찾을 수 없습니다.')\n",
        "\n",
        "else :\n",
        "  print('파일을 읽는 중입니다.')\n",
        "  print(f.read())\n",
        "  print('파일을 모두 읽었습니다.')\n",
        "  f.close()\n",
        "\n",
        "finally :\n",
        "  ('파일 읽기를 종료합니다.')"
      ],
      "metadata": {
        "colab": {
          "base_uri": "https://localhost:8080/"
        },
        "id": "eQdL6PdOIUqd",
        "outputId": "13caf35d-cf3b-4c24-eb91-36dea19612a3"
      },
      "execution_count": 5,
      "outputs": [
        {
          "output_type": "stream",
          "name": "stdout",
          "text": [
            "해당 파일을 찾을 수 없습니다.\n"
          ]
        }
      ]
    },
    {
      "cell_type": "markdown",
      "source": [
        "### 예외 발생"
      ],
      "metadata": {
        "id": "pdGauPigJRnw"
      }
    },
    {
      "cell_type": "code",
      "source": [
        "# 일부러 에러를 일으킴\n",
        "\n",
        "raise"
      ],
      "metadata": {
        "colab": {
          "base_uri": "https://localhost:8080/",
          "height": 201
        },
        "id": "hZfEtwctJLEV",
        "outputId": "17e75ea0-5cfd-4162-dfb5-f2ddd407cf54"
      },
      "execution_count": 10,
      "outputs": [
        {
          "output_type": "error",
          "ename": "RuntimeError",
          "evalue": "ignored",
          "traceback": [
            "\u001b[0;31m---------------------------------------------------------------------------\u001b[0m",
            "\u001b[0;31mRuntimeError\u001b[0m                              Traceback (most recent call last)",
            "\u001b[0;32m<ipython-input-10-bce09fd54ee9>\u001b[0m in \u001b[0;36m<module>\u001b[0;34m()\u001b[0m\n\u001b[1;32m      1\u001b[0m \u001b[0;31m# 일부러 에러를 일으킴\u001b[0m\u001b[0;34m\u001b[0m\u001b[0;34m\u001b[0m\u001b[0;34m\u001b[0m\u001b[0m\n\u001b[1;32m      2\u001b[0m \u001b[0;34m\u001b[0m\u001b[0m\n\u001b[0;32m----> 3\u001b[0;31m \u001b[0;32mraise\u001b[0m\u001b[0;34m\u001b[0m\u001b[0;34m\u001b[0m\u001b[0m\n\u001b[0m",
            "\u001b[0;31mRuntimeError\u001b[0m: No active exception to reraise"
          ]
        }
      ]
    },
    {
      "cell_type": "code",
      "source": [
        "raise 0"
      ],
      "metadata": {
        "colab": {
          "base_uri": "https://localhost:8080/",
          "height": 166
        },
        "id": "ivY8r9LaJXNs",
        "outputId": "b7e18870-68b8-4b1d-9d44-6e2420762941"
      },
      "execution_count": 11,
      "outputs": [
        {
          "output_type": "error",
          "ename": "TypeError",
          "evalue": "ignored",
          "traceback": [
            "\u001b[0;31m---------------------------------------------------------------------------\u001b[0m",
            "\u001b[0;31mTypeError\u001b[0m                                 Traceback (most recent call last)",
            "\u001b[0;32m<ipython-input-11-ee6db965a784>\u001b[0m in \u001b[0;36m<module>\u001b[0;34m()\u001b[0m\n\u001b[0;32m----> 1\u001b[0;31m \u001b[0;32mraise\u001b[0m \u001b[0;36m0\u001b[0m\u001b[0;34m\u001b[0m\u001b[0;34m\u001b[0m\u001b[0m\n\u001b[0m",
            "\u001b[0;31mTypeError\u001b[0m: exceptions must derive from BaseException"
          ]
        }
      ]
    },
    {
      "cell_type": "code",
      "source": [
        "raise hi"
      ],
      "metadata": {
        "colab": {
          "base_uri": "https://localhost:8080/",
          "height": 166
        },
        "id": "EQrU72fuJpuL",
        "outputId": "5b5869f5-e7d9-47c1-bf1b-17d276846dce"
      },
      "execution_count": 12,
      "outputs": [
        {
          "output_type": "error",
          "ename": "NameError",
          "evalue": "ignored",
          "traceback": [
            "\u001b[0;31m---------------------------------------------------------------------------\u001b[0m",
            "\u001b[0;31mNameError\u001b[0m                                 Traceback (most recent call last)",
            "\u001b[0;32m<ipython-input-12-5d43896cb32a>\u001b[0m in \u001b[0;36m<module>\u001b[0;34m()\u001b[0m\n\u001b[0;32m----> 1\u001b[0;31m \u001b[0;32mraise\u001b[0m \u001b[0mhi\u001b[0m\u001b[0;34m\u001b[0m\u001b[0;34m\u001b[0m\u001b[0m\n\u001b[0m",
            "\u001b[0;31mNameError\u001b[0m: name 'hi' is not defined"
          ]
        }
      ]
    }
  ]
}