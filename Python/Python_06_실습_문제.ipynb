{
  "nbformat": 4,
  "nbformat_minor": 0,
  "metadata": {
    "colab": {
      "name": "Python 06 실습 문제.ipynb",
      "provenance": [],
      "authorship_tag": "ABX9TyOe/Trl9VXfZ2UxvlxqgC3s",
      "include_colab_link": true
    },
    "kernelspec": {
      "name": "python3",
      "display_name": "Python 3"
    },
    "language_info": {
      "name": "python"
    }
  },
  "cells": [
    {
      "cell_type": "markdown",
      "metadata": {
        "id": "view-in-github",
        "colab_type": "text"
      },
      "source": [
        "<a href=\"https://colab.research.google.com/github/jelly12paw/TIL/blob/main/Python/Python_06_%EC%8B%A4%EC%8A%B5_%EB%AC%B8%EC%A0%9C.ipynb\" target=\"_parent\"><img src=\"https://colab.research.google.com/assets/colab-badge.svg\" alt=\"Open In Colab\"/></a>"
      ]
    },
    {
      "cell_type": "code",
      "execution_count": 10,
      "metadata": {
        "colab": {
          "base_uri": "https://localhost:8080/"
        },
        "id": "k3y3GixA8AeZ",
        "outputId": "14f58bab-fb1a-44f1-81a4-eb4526e5e31a"
      },
      "outputs": [
        {
          "output_type": "stream",
          "name": "stdout",
          "text": [
            "123\n",
            "3 2 1\n",
            "6\n"
          ]
        }
      ],
      "source": [
        "# 20\n",
        "\n",
        "num = int(input())\n",
        "\n",
        "a = num % 10\n",
        "c = num // 100\n",
        "b = (num // 10) - (c * 10)\n",
        "\n",
        "# print(a, b, c)\n",
        "print(a + b + c)\n"
      ]
    },
    {
      "cell_type": "code",
      "source": [
        "# 21\n",
        "\n",
        "num = 1234\n",
        "\n",
        "a = num % 10 # 1의 자리\n",
        "c = num // 1000 # 4의 자리\n",
        "b = (num // 100) - (c * 10) # 3의 자리\n",
        "d = (num // 10) - (c * 100 + b * 10) # 2의 자리\n",
        "\n",
        "print(a, d, b, c, sep='')\n"
      ],
      "metadata": {
        "colab": {
          "base_uri": "https://localhost:8080/"
        },
        "id": "H5eAp-zn-U-_",
        "outputId": "b3c0cca5-1614-42b1-cc82-fdbcd993cbdc"
      },
      "execution_count": 18,
      "outputs": [
        {
          "output_type": "stream",
          "name": "stdout",
          "text": [
            "4321\n"
          ]
        }
      ]
    },
    {
      "cell_type": "markdown",
      "source": [
        "### 정답 풀이"
      ],
      "metadata": {
        "id": "Zbbh0RKiisoI"
      }
    },
    {
      "cell_type": "code",
      "source": [
        "# 20\n",
        "\n",
        "num = 123\n",
        "result = 0\n",
        "\n",
        "while num : # num == 0 일 때 멈춤\n",
        "  result += num % 10\n",
        "  num //= 10\n",
        "\n",
        "print(result)"
      ],
      "metadata": {
        "colab": {
          "base_uri": "https://localhost:8080/"
        },
        "id": "1B-sFjlsiuUm",
        "outputId": "4eb53a21-6b08-498f-a446-5b2b2d6b504c"
      },
      "execution_count": 2,
      "outputs": [
        {
          "output_type": "stream",
          "name": "stdout",
          "text": [
            "6\n"
          ]
        }
      ]
    },
    {
      "cell_type": "code",
      "source": [
        "while num :\n",
        "  num, remainder = divmod(num, 10)\n",
        "  result += remainder\n",
        "\n",
        "print(result)"
      ],
      "metadata": {
        "colab": {
          "base_uri": "https://localhost:8080/"
        },
        "id": "h_p2T0pQnCLz",
        "outputId": "18a235c3-07da-4142-8afb-542158835be8"
      },
      "execution_count": 4,
      "outputs": [
        {
          "output_type": "stream",
          "name": "stdout",
          "text": [
            "6\n"
          ]
        }
      ]
    },
    {
      "cell_type": "code",
      "source": [
        "# 21\n",
        "\n",
        "num = 1234\n",
        "\n",
        "print(int(str(num)[::-1]))"
      ],
      "metadata": {
        "colab": {
          "base_uri": "https://localhost:8080/"
        },
        "id": "kp4OJBq3lR1g",
        "outputId": "16997f7b-3c5d-495b-e067-8e31ccad37de"
      },
      "execution_count": 7,
      "outputs": [
        {
          "output_type": "stream",
          "name": "stdout",
          "text": [
            "4321\n"
          ]
        }
      ]
    },
    {
      "cell_type": "code",
      "source": [
        "result = 0\n",
        "\n",
        "while num :\n",
        "  result *= 10\n",
        "\n",
        "  result += num % 10\n",
        "  num //= 10\n",
        "\n",
        "print(result)"
      ],
      "metadata": {
        "colab": {
          "base_uri": "https://localhost:8080/"
        },
        "id": "6CuwFZpooUlZ",
        "outputId": "a0d286f1-305d-4b08-ec2f-58e5247706f6"
      },
      "execution_count": 8,
      "outputs": [
        {
          "output_type": "stream",
          "name": "stdout",
          "text": [
            "4321\n"
          ]
        }
      ]
    }
  ]
}