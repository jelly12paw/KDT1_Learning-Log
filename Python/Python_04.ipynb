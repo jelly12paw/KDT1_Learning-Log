{
  "nbformat": 4,
  "nbformat_minor": 0,
  "metadata": {
    "colab": {
      "name": "Python_04.ipynb",
      "provenance": [],
      "authorship_tag": "ABX9TyPf53hPNzo4pqVhWPEH88Ik",
      "include_colab_link": true
    },
    "kernelspec": {
      "name": "python3",
      "display_name": "Python 3"
    },
    "language_info": {
      "name": "python"
    }
  },
  "cells": [
    {
      "cell_type": "markdown",
      "metadata": {
        "id": "view-in-github",
        "colab_type": "text"
      },
      "source": [
        "<a href=\"https://colab.research.google.com/github/jelly12paw/TIL/blob/main/Python/Python_04.ipynb\" target=\"_parent\"><img src=\"https://colab.research.google.com/assets/colab-badge.svg\" alt=\"Open In Colab\"/></a>"
      ]
    },
    {
      "cell_type": "markdown",
      "source": [
        "## Python 기초"
      ],
      "metadata": {
        "id": "7BTSB3uGPmD5"
      }
    },
    {
      "cell_type": "markdown",
      "source": [
        "### 정렬 (sort / sorted)"
      ],
      "metadata": {
        "id": "2krXBtboPyw3"
      }
    },
    {
      "cell_type": "code",
      "execution_count": 3,
      "metadata": {
        "colab": {
          "base_uri": "https://localhost:8080/"
        },
        "id": "gXyA7kfQPeuo",
        "outputId": "74416553-5d82-403f-e3b7-b619149c2020"
      },
      "outputs": [
        {
          "output_type": "stream",
          "name": "stdout",
          "text": [
            "[1, 10, 100] None\n",
            "[10, 1, 100] [1, 10, 100]\n",
            "None\n",
            "[1, 10, 100]\n"
          ]
        }
      ],
      "source": [
        "# 정렬1 (sort)\n",
        "a = [10, 1, 100]\n",
        "\n",
        "new_a = a.sort()\n",
        "print(a, new_a)\n",
        "\n",
        "# 리스트 메서드를 활용하면, 그 메서드를 정렬된 상태로 변경(원본 변경) / return되는 것은 None\n",
        "\n",
        "# 정렬2 (sorted) \n",
        "b = [10, 1, 100]\n",
        "\n",
        "new_b = sorted(b)\n",
        "print(b, new_b)\n",
        "\n",
        "# sorted 함수를 활용하면, 원본을 변경하지 않음 return되는 것은 정렬된 리스트\n",
        "\n",
        "\n",
        "a = [10, 1, 100]\n",
        "print(a.sort())\n",
        "\n",
        "\n",
        "b = [10, 1, 100]\n",
        "b = sorted(b)\n",
        "print(b)"
      ]
    },
    {
      "cell_type": "markdown",
      "source": [
        "### join"
      ],
      "metadata": {
        "id": "yBjwd43yQl4t"
      }
    },
    {
      "cell_type": "code",
      "source": [
        "names = ','.join(['홍길동', '김철수'])\n",
        "print(names)\n",
        "\n",
        "\n",
        "# numbers = ' '.join([10, 20, 100]) TypeError 발생 코드\n",
        "numbers = ' '.join(map(str, [10, 20, 100]))\n",
        "\n",
        "print(numbers)"
      ],
      "metadata": {
        "colab": {
          "base_uri": "https://localhost:8080/"
        },
        "id": "-oNVh_hKQTkJ",
        "outputId": "66859220-f1b2-418c-fda4-002432441cf0"
      },
      "execution_count": 6,
      "outputs": [
        {
          "output_type": "stream",
          "name": "stdout",
          "text": [
            "홍길동,김철수\n",
            "10 20 100\n"
          ]
        }
      ]
    },
    {
      "cell_type": "markdown",
      "source": [
        "### extend"
      ],
      "metadata": {
        "id": "9CyXUMSLQ_ZA"
      }
    },
    {
      "cell_type": "code",
      "source": [
        "a = ['apple']\n",
        "a.extend(['banana', 'mango'])\n",
        "print(a)\n",
        "\n",
        "a.extend('banana') # 리스트 메서드를 활용하지 않으면 문자열 하나씩 저장\n",
        "print(a)"
      ],
      "metadata": {
        "colab": {
          "base_uri": "https://localhost:8080/"
        },
        "id": "bAUxNp3qQncp",
        "outputId": "e1fa008e-f622-4102-cd5b-f5f77f95029a"
      },
      "execution_count": 8,
      "outputs": [
        {
          "output_type": "stream",
          "name": "stdout",
          "text": [
            "['apple', 'banana', 'mango']\n",
            "['apple', 'banana', 'mango', 'b', 'a', 'n', 'a', 'n', 'a']\n"
          ]
        }
      ]
    },
    {
      "cell_type": "markdown",
      "source": [
        "### append"
      ],
      "metadata": {
        "id": "pqG0thHfRThD"
      }
    },
    {
      "cell_type": "code",
      "source": [
        "a = [1, 2, 3]\n",
        "a = a.append(4)\n",
        "\n",
        "# a.append(4)의 return 값을 a에 저장한다.\n",
        "# 리스트.append()의 메서드는 반환값이 None임!\n",
        "print(a)\n",
        "\n",
        "a = [1, 2, 3]\n",
        "a.append(4)\n",
        "print(a)\n",
        "\n",
        "\n",
        "a = [1, 2, 3]\n",
        "# sum 함수의 return 값을 변수 result에 할당\n",
        "result = sum(a)\n",
        "print(result)"
      ],
      "metadata": {
        "colab": {
          "base_uri": "https://localhost:8080/"
        },
        "id": "tT_6ddz0RWeg",
        "outputId": "b311e9f7-d196-4cd1-d407-eeead6914d40"
      },
      "execution_count": 10,
      "outputs": [
        {
          "output_type": "stream",
          "name": "stdout",
          "text": [
            "None\n",
            "[1, 2, 3, 4]\n",
            "6\n"
          ]
        }
      ]
    },
    {
      "cell_type": "markdown",
      "source": [
        "### mutable"
      ],
      "metadata": {
        "id": "GhBlq44rSTek"
      }
    },
    {
      "cell_type": "code",
      "source": [
        "# 리스트는 mutable\n",
        "a = [1, 2, 3]\n",
        "a[0] = 100\n",
        "print(a)"
      ],
      "metadata": {
        "colab": {
          "base_uri": "https://localhost:8080/"
        },
        "id": "moD444TxRDgH",
        "outputId": "c77186ab-b99d-4745-965a-977b61e5147a"
      },
      "execution_count": 12,
      "outputs": [
        {
          "output_type": "stream",
          "name": "stdout",
          "text": [
            "[100, 2, 3]\n"
          ]
        }
      ]
    },
    {
      "cell_type": "code",
      "source": [
        "# 문자열은 immutable\n",
        "a = 'hi'\n",
        "a[0] = 'c'\n",
        "print(a) # TypeError 발생"
      ],
      "metadata": {
        "colab": {
          "base_uri": "https://localhost:8080/",
          "height": 218
        },
        "id": "aB059FprSW0e",
        "outputId": "f1d4a623-9f50-4920-963f-8b8d3c34b4ef"
      },
      "execution_count": 13,
      "outputs": [
        {
          "output_type": "error",
          "ename": "TypeError",
          "evalue": "ignored",
          "traceback": [
            "\u001b[0;31m---------------------------------------------------------------------------\u001b[0m",
            "\u001b[0;31mTypeError\u001b[0m                                 Traceback (most recent call last)",
            "\u001b[0;32m<ipython-input-13-e73ed49eff10>\u001b[0m in \u001b[0;36m<module>\u001b[0;34m()\u001b[0m\n\u001b[1;32m      1\u001b[0m \u001b[0;31m# 문자열은 immutable\u001b[0m\u001b[0;34m\u001b[0m\u001b[0;34m\u001b[0m\u001b[0;34m\u001b[0m\u001b[0m\n\u001b[1;32m      2\u001b[0m \u001b[0ma\u001b[0m \u001b[0;34m=\u001b[0m \u001b[0;34m'hi'\u001b[0m\u001b[0;34m\u001b[0m\u001b[0;34m\u001b[0m\u001b[0m\n\u001b[0;32m----> 3\u001b[0;31m \u001b[0ma\u001b[0m\u001b[0;34m[\u001b[0m\u001b[0;36m0\u001b[0m\u001b[0;34m]\u001b[0m \u001b[0;34m=\u001b[0m \u001b[0;34m'c'\u001b[0m\u001b[0;34m\u001b[0m\u001b[0;34m\u001b[0m\u001b[0m\n\u001b[0m\u001b[1;32m      4\u001b[0m \u001b[0mprint\u001b[0m\u001b[0;34m(\u001b[0m\u001b[0ma\u001b[0m\u001b[0;34m)\u001b[0m \u001b[0;31m# TypeError 발생\u001b[0m\u001b[0;34m\u001b[0m\u001b[0;34m\u001b[0m\u001b[0m\n",
            "\u001b[0;31mTypeError\u001b[0m: 'str' object does not support item assignment"
          ]
        }
      ]
    },
    {
      "cell_type": "markdown",
      "source": [
        "### return"
      ],
      "metadata": {
        "id": "Zp4K8EOZSieC"
      }
    },
    {
      "cell_type": "code",
      "source": [
        "a = 1\n",
        "\n",
        "print(a + 2)\n",
        "print(a * 3)\n",
        "print(4 * 5)\n",
        "\n",
        "a = [1, 2, 3]\n",
        "# sum(a)의 결과(int, 합 계산 결과)를 result 할당\n",
        "result = sum(a)\n",
        "print(result)\n",
        "\n",
        "numbers = [1, 3, 2]\n",
        "# None이 반환되고, numbers는 바뀌어있고 result = numbers.reverse()\n",
        "\n",
        "print(numbers.reverse())"
      ],
      "metadata": {
        "colab": {
          "base_uri": "https://localhost:8080/"
        },
        "id": "aw57vXUOSe2M",
        "outputId": "0575cce8-e500-43e1-81d4-578f2842e643"
      },
      "execution_count": 17,
      "outputs": [
        {
          "output_type": "stream",
          "name": "stdout",
          "text": [
            "3\n",
            "3\n",
            "20\n",
            "6\n",
            "None\n"
          ]
        }
      ]
    },
    {
      "cell_type": "markdown",
      "source": [
        "### dictionary"
      ],
      "metadata": {
        "id": "hWd3FEpnTCvS"
      }
    },
    {
      "cell_type": "code",
      "source": [
        "# key가 기준이고, 직접 딕셔너리에 key로 접근하면 value를 얻을 수 있다!\n",
        "my_dict = {'apple': '사과', 'banana': '바나나'}\n",
        "\n",
        "for word in my_dict:\n",
        "    print(word, my_dict[word])"
      ],
      "metadata": {
        "colab": {
          "base_uri": "https://localhost:8080/"
        },
        "id": "fFZRxmu8SvJB",
        "outputId": "91c6d916-8f2a-42e7-e70c-48c6a3b3cf33"
      },
      "execution_count": 32,
      "outputs": [
        {
          "output_type": "stream",
          "name": "stdout",
          "text": [
            "apple 사과\n",
            "banana 바나나\n"
          ]
        }
      ]
    },
    {
      "cell_type": "code",
      "source": [
        "# 다양한 방법 => 일종의 리스트!\n",
        "print(my_dict.keys(), type(my_dict.keys()))\n",
        "\n",
        "print(my_dict.values())\n",
        "\n",
        "\n",
        "for value in my_dict.values():\n",
        "    print(value)"
      ],
      "metadata": {
        "colab": {
          "base_uri": "https://localhost:8080/"
        },
        "id": "f3-VuJOUTZl_",
        "outputId": "22343fb6-b5f0-4119-9112-e06e8eb93e76"
      },
      "execution_count": 20,
      "outputs": [
        {
          "output_type": "stream",
          "name": "stdout",
          "text": [
            "dict_keys(['apple', 'banana']) <class 'dict_keys'>\n",
            "dict_values(['사과', '바나나'])\n",
            "사과\n",
            "바나나\n"
          ]
        }
      ]
    },
    {
      "cell_type": "code",
      "source": [
        "print(my_dict.items())\n",
        "\n",
        "\n",
        "for k, v in my_dict.items():\n",
        "    print(k, v)\n",
        "# 일종의 리스트안에, tuple!"
      ],
      "metadata": {
        "colab": {
          "base_uri": "https://localhost:8080/"
        },
        "id": "n8UPwqqRTtCu",
        "outputId": "e8624f0a-21e3-4547-fe5f-7d5bc252094a"
      },
      "execution_count": 21,
      "outputs": [
        {
          "output_type": "stream",
          "name": "stdout",
          "text": [
            "dict_items([('apple', '사과'), ('banana', '바나나')])\n",
            "apple 사과\n",
            "banana 바나나\n"
          ]
        }
      ]
    },
    {
      "cell_type": "code",
      "source": [
        "my_dict_2 = {}\n",
        "my_dict_2['a'] = 'airplane'\n",
        "\n",
        "print(my_dict_2)\n",
        "\n",
        "my_dict_3 = {'a': 0}\n",
        "print(my_dict_3)\n",
        "# a += 1 \n",
        "# a = a + 1\n",
        "\n",
        "my_dict_3['a'] = my_dict_3['a'] + 1\n",
        "# my_dict_3['a'] += 1\n",
        "print(my_dict_3)"
      ],
      "metadata": {
        "colab": {
          "base_uri": "https://localhost:8080/"
        },
        "id": "XzhW5HP1T2iJ",
        "outputId": "11966973-f278-4f29-c0d1-e1fc435e25f7"
      },
      "execution_count": 30,
      "outputs": [
        {
          "output_type": "stream",
          "name": "stdout",
          "text": [
            "{'a': 'airplane'}\n",
            "{'a': 0}\n",
            "{'a': 1}\n"
          ]
        }
      ]
    },
    {
      "cell_type": "code",
      "source": [
        "my_list = [10, 11, 12]\n",
        "print(my_list)\n",
        "\n",
        "my_list[0] = my_list[0] + 1\n",
        "print(my_list)"
      ],
      "metadata": {
        "colab": {
          "base_uri": "https://localhost:8080/"
        },
        "id": "CxgktUFNT_J9",
        "outputId": "48ddb3d1-5ddc-4122-843c-f3cff7e60b12"
      },
      "execution_count": 31,
      "outputs": [
        {
          "output_type": "stream",
          "name": "stdout",
          "text": [
            "[10, 11, 12]\n",
            "[11, 11, 12]\n"
          ]
        }
      ]
    },
    {
      "cell_type": "code",
      "source": [
        "my_dict = {'apple': '사과', 'banana': '바나나'}\n",
        "print(my_dict['apple']) \n",
        "\n",
        "for word in my_dict: \n",
        "    print(my_dict[word])"
      ],
      "metadata": {
        "colab": {
          "base_uri": "https://localhost:8080/"
        },
        "id": "ZnK2-cARUPLt",
        "outputId": "3b2305f0-98f4-4cb8-e432-580e49d54520"
      },
      "execution_count": 33,
      "outputs": [
        {
          "output_type": "stream",
          "name": "stdout",
          "text": [
            "사과\n",
            "사과\n",
            "바나나\n"
          ]
        }
      ]
    }
  ]
}