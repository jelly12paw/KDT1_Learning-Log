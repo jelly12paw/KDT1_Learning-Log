{
  "nbformat": 4,
  "nbformat_minor": 0,
  "metadata": {
    "colab": {
      "name": "Python_09.ipynb",
      "provenance": [],
      "authorship_tag": "ABX9TyNW9va9HW6MEH6k8O5CBX+1",
      "include_colab_link": true
    },
    "kernelspec": {
      "name": "python3",
      "display_name": "Python 3"
    },
    "language_info": {
      "name": "python"
    }
  },
  "cells": [
    {
      "cell_type": "markdown",
      "metadata": {
        "id": "view-in-github",
        "colab_type": "text"
      },
      "source": [
        "<a href=\"https://colab.research.google.com/github/jelly12paw/TIL/blob/main/Python/Python_09.ipynb\" target=\"_parent\"><img src=\"https://colab.research.google.com/assets/colab-badge.svg\" alt=\"Open In Colab\"/></a>"
      ]
    },
    {
      "cell_type": "markdown",
      "source": [
        "# Python 기초"
      ],
      "metadata": {
        "id": "kh6UTuZpXQIr"
      }
    },
    {
      "cell_type": "markdown",
      "source": [
        "### API\n",
        "> Application Programming Interface\n",
        "\n",
        "- 컴퓨터나 컴퓨터 프로그램 사이를 연결\n",
        "- 일종의 소프트웨어 인터페이스이며 다른 종류의 소프트웨어에 서비스를 제공"
      ],
      "metadata": {
        "id": "_e9dJPceXKBz"
      }
    },
    {
      "cell_type": "markdown",
      "source": [
        "### requests"
      ],
      "metadata": {
        "id": "9zkwQfOqdRt5"
      }
    },
    {
      "cell_type": "code",
      "execution_count": 5,
      "metadata": {
        "colab": {
          "base_uri": "https://localhost:8080/"
        },
        "id": "fEUlJ1TEW9eW",
        "outputId": "dd948529-5618-46e6-ff67-a89b79b3c6dd"
      },
      "outputs": [
        {
          "output_type": "stream",
          "name": "stdout",
          "text": [
            "200\n",
            "<Response [200]> <class 'str'>\n",
            "{'status': '0000', 'data': {'opening_price': '29813000', 'closing_price': '30523000', 'min_price': '29738000', 'max_price': '30680000', 'units_traded': '2572.92932366', 'acc_trade_value': '78046745534.654', 'prev_closing_price': '29812000', 'units_traded_24H': '6445.16604943', 'acc_trade_value_24H': '194666090527.9947', 'fluctate_24H': '-187000', 'fluctate_rate_24H': '-0.61', 'date': '1658453222540'}} <class 'dict'>\n",
            "===============================================================\n",
            "30523000\n"
          ]
        }
      ],
      "source": [
        "import requests\n",
        "\n",
        "# URL로 요청을 보내기\n",
        "order_curr = 'BTC'\n",
        "payment_curr = 'KRW'\n",
        "url = f'https://api.bithumb.com/public/ticker/{order_curr}_{payment_curr}'\n",
        "\n",
        "response = requests.get(url)\n",
        "\n",
        "# 속성(인스턴스)\n",
        "print(response.status_code)\n",
        "print(response, type(response.text)) # 문자열\n",
        "\n",
        "# 메서드\n",
        "print(response.json(), type(response.json())) # 딕셔너리\n",
        "\n",
        "print('===============================================================')\n",
        "\n",
        "data = response.json()\n",
        "print(data.get('data').get('closing_price'))"
      ]
    },
    {
      "cell_type": "code",
      "source": [
        "order_curr = 'ALL'\n",
        "payment_curr = 'KRW'\n",
        "url = f'https://api.bithumb.com/public/ticker/{order_curr}_{payment_curr}'\n",
        "\n",
        "response = requests.get(url).json()\n",
        "coins = response.get('data')\n",
        "\n",
        "# coins : 딕셔너리\n",
        "# key : coin name\n",
        "# value : 코인의 정보\n",
        "\n",
        "for coin in coins :\n",
        "  if coin == 'date' :\n",
        "    continue\n",
        "  \n",
        "  print(coin, coins.get(coin).get('closing_price'))"
      ],
      "metadata": {
        "colab": {
          "base_uri": "https://localhost:8080/"
        },
        "id": "qZOGcptbd-D6",
        "outputId": "d000d846-46db-4cc8-986b-b6e14f77a0e4"
      },
      "execution_count": 10,
      "outputs": [
        {
          "output_type": "stream",
          "name": "stdout",
          "text": [
            "BTC 30480000\n",
            "ETH 2077000\n",
            "ETC 34710\n",
            "XRP 480.4\n",
            "BCH 164700\n",
            "QTUM 4114\n",
            "BTG 28850\n",
            "EOS 1384\n",
            "ICX 384.8\n",
            "TRX 90\n",
            "ELF 235.9\n",
            "OMG 2579\n",
            "KNC 1930\n",
            "GLM 329.3\n",
            "ZIL 54.76\n",
            "WAXP 135.6\n",
            "POWR 319.9\n",
            "LRC 567.3\n",
            "STEEM 327.2\n",
            "STRAX 943.9\n",
            "ZRX 423.6\n",
            "REP 11030\n",
            "SNT 40.53\n",
            "ADA 656\n",
            "CTXC 189.1\n",
            "BAT 538.8\n",
            "THETA 1670\n",
            "LOOM 66.21\n",
            "WAVES 7580\n",
            "LINK 9280\n",
            "ENJ 815.8\n",
            "VET 33.61\n",
            "MTL 1922\n",
            "IOST 18.26\n",
            "QKC 14.22\n",
            "ATOLO 23.4\n",
            "AMO 1.751\n",
            "BSV 77600\n",
            "ORBS 56.38\n",
            "TFUEL 77.03\n",
            "VALOR 429.3\n",
            "CON 14.64\n",
            "ANKR 39.45\n",
            "MIX 5.6\n",
            "CRO 177.4\n",
            "FX 358.5\n",
            "CHR 262.8\n",
            "MBL 6.783\n",
            "MXC 102.2\n",
            "FCT2 79.59\n",
            "TRV 9.945\n",
            "DAD 72.02\n",
            "WOM 66.69\n",
            "SOC 7.414\n",
            "BOA 66.97\n",
            "MEV 20.7\n",
            "SXP 534.3\n",
            "COS 9.518\n",
            "EL 4.234\n",
            "BASIC 2.73\n",
            "HIVE 616.3\n",
            "XPR 4.04\n",
            "VRA 7.359\n",
            "FIT 1.378\n",
            "EGG 13.08\n",
            "BORA 426\n",
            "ARPA 49.07\n",
            "CTC 499.7\n",
            "APM 21.91\n",
            "CKB 5.563\n",
            "AERGO 176.1\n",
            "ANW 15.23\n",
            "CENNZ 59.1\n",
            "EVZ 42.3\n",
            "CYCLUB 8.357\n",
            "SRM 1350\n",
            "QTCON 2.212\n",
            "UNI 9520\n",
            "YFI 8795000\n",
            "UMA 3567\n",
            "AAVE 124500\n",
            "COMP 76300\n",
            "REN 200.2\n",
            "BAL 7465\n",
            "RSR 8.64\n",
            "NMR 25960\n",
            "RLC 1255\n",
            "UOS 452.4\n",
            "SAND 1854\n",
            "GOM2 19.31\n",
            "BEL 1008\n",
            "OBSR 2.601\n",
            "ORC 165.7\n",
            "POLA 53.07\n",
            "AWO 9.78\n",
            "ADP 21.77\n",
            "DVI 104.4\n",
            "GHX 24.87\n",
            "MVC 8.192\n",
            "BLY 11.76\n",
            "WOZX 129.8\n",
            "ANV 882.8\n",
            "GRT 143\n",
            "MM 52.81\n",
            "BIOT 9.578\n",
            "XNO 37.71\n",
            "SNX 4399\n",
            "SOFI 112.5\n",
            "COLA 105.7\n",
            "OXT 159.5\n",
            "LINA 12.28\n",
            "MAP 13.13\n",
            "AQT 1786\n",
            "PLA 503.5\n",
            "WIKEN 12.25\n",
            "CTSI 218.9\n",
            "MANA 1259\n",
            "LPT 12220\n",
            "MKR 1290000\n",
            "SUSHI 1858\n",
            "ASM 28.02\n",
            "PUNDIX 543.2\n",
            "CELR 23.69\n",
            "ARW 405.2\n",
            "FRONT 344.6\n",
            "RLY 56.12\n",
            "OCEAN 244\n",
            "BFC 83.9\n",
            "ALICE 3350\n",
            "OGN 285.9\n",
            "COTI 142.5\n",
            "CAKE 4468\n",
            "BNT 677\n",
            "XVS 7170\n",
            "SWAP 305.7\n",
            "CHZ 145.7\n",
            "AXS 21030\n",
            "DAO 2094\n",
            "SIX 91.3\n",
            "DAI 1317\n",
            "MATIC 1209\n",
            "WOO 255\n",
            "ACH 21.06\n",
            "VELO 27.09\n",
            "XLM 149.4\n",
            "WICC 89.89\n",
            "ONT 327.1\n",
            "META 48.87\n",
            "KLAY 336.2\n",
            "ONG 527.8\n",
            "ALGO 462.3\n",
            "JST 40.06\n",
            "XTZ 2209\n",
            "MLK 522.3\n",
            "WEMIX 3239\n",
            "DOT 9935\n",
            "ATOM 14410\n",
            "SSX 31.14\n",
            "TEMCO 3.15\n",
            "HIBS 1.159\n",
            "DOGE 92.15\n",
            "KSM 81400\n",
            "CTK 1043\n",
            "XYM 70.5\n",
            "BNB 349500\n",
            "NFT 0.0008\n",
            "SUN 7.862\n",
            "XEC 0.0554\n",
            "PCI 424.8\n",
            "SOL 56550\n",
            "EGLD 73950\n",
            "GO 11.99\n",
            "DFA 207\n",
            "C98 661.6\n",
            "MED 29.36\n",
            "1INCH 906.7\n",
            "BOBA 615.3\n",
            "GALA 72.66\n",
            "BTT 0.0012\n",
            "EFI 240.4\n",
            "JASMY 12.17\n",
            "TITAN 1551\n",
            "REQ 161\n",
            "CSPR 41.04\n",
            "AVAX 32900\n",
            "TDROP 8.219\n",
            "SPRT 558.9\n",
            "NPT 2178\n",
            "REI 59.27\n",
            "T 48.69\n",
            "MBX 10590\n",
            "GMT 1337\n",
            "TAVA 2464\n"
          ]
        }
      ]
    },
    {
      "cell_type": "markdown",
      "source": [
        "#### url 주소에 `?`가 있을 때 요청하는 법"
      ],
      "metadata": {
        "id": "eN54f1rdmYcg"
      }
    },
    {
      "cell_type": "code",
      "source": [
        "# https://api.agify.io?name=michael\n",
        "\n",
        "url = 'https://api.agify.io'\n",
        "params = {\n",
        "    'name' : 'samantha'\n",
        "}\n",
        "\n",
        "response = requests.get(url, params=params).json()\n",
        "print(response)"
      ],
      "metadata": {
        "colab": {
          "base_uri": "https://localhost:8080/"
        },
        "id": "P-PxAO-PidDv",
        "outputId": "c1ca6a2d-4c6f-4ae9-fae2-8e8231ffdc0e"
      },
      "execution_count": 14,
      "outputs": [
        {
          "output_type": "stream",
          "name": "stdout",
          "text": [
            "{'name': 'samantha', 'age': 28, 'count': 29924}\n"
          ]
        }
      ]
    },
    {
      "cell_type": "markdown",
      "source": [
        "#### 랜덤으로 나이를 추출하는 코드"
      ],
      "metadata": {
        "id": "UcE7gMq7mlTQ"
      }
    },
    {
      "cell_type": "code",
      "source": [
        "import random\n",
        "\n",
        "print('============ 나이를 알려드립니다! ============')\n",
        "name = input('이름을 입력하세요 : ')\n",
        "\n",
        "random.seed(sum(map(ord, name))) # 고정된 난수 생성\n",
        "print(f'{random.choice(range(10, 90))}살 입니다.') # 숫자 하나 고르기"
      ],
      "metadata": {
        "colab": {
          "base_uri": "https://localhost:8080/"
        },
        "id": "Kyk4U-Xwl--C",
        "outputId": "5a317d2e-ae87-400f-b95d-093384021ea2"
      },
      "execution_count": 15,
      "outputs": [
        {
          "output_type": "stream",
          "name": "stdout",
          "text": [
            "============ 나이를 알려드립니다! ============\n",
            "이름을 입력하세요 : 길동\n",
            "79살 입니다.\n"
          ]
        }
      ]
    },
    {
      "cell_type": "markdown",
      "source": [
        "#### themoivedb 사이트에서 활용하기"
      ],
      "metadata": {
        "id": "5Sz8LBQ_uO0y"
      }
    },
    {
      "cell_type": "code",
      "source": [
        "# 09a613146a968647b2f3039070613000\n",
        "\n",
        "url = 'https://api.themoviedb.org/3'\n",
        "path = '/movie/now_playing'\n",
        "params = {\n",
        "    'api_key' : '09a613146a968647b2f3039070613000',\n",
        "    'language' : 'ko-KR'\n",
        "}\n",
        "\n",
        "response = requests.get(url + path, params=params).json()\n",
        "print(response)"
      ],
      "metadata": {
        "colab": {
          "base_uri": "https://localhost:8080/"
        },
        "id": "fVq8kp4enZOd",
        "outputId": "35d42aa2-9053-476f-c5ef-3f59cf4f7b8d"
      },
      "execution_count": 21,
      "outputs": [
        {
          "output_type": "stream",
          "name": "stdout",
          "text": [
            "{'dates': {'maximum': '2022-07-27', 'minimum': '2022-06-09'}, 'page': 1, 'results': [{'adult': False, 'backdrop_path': '/393mh1AJ0GYWVD7Hsq5KkFaTAoT.jpg', 'genre_ids': [12, 28, 878], 'id': 507086, 'original_language': 'en', 'original_title': 'Jurassic World Dominion', 'overview': '공룡들의 터전이었던 이슬라 누블라 섬이 파괴된 후,  마침내 공룡들은 섬을 벗어나 세상 밖으로 출몰한다. 지상에 함께 존재해선 안 될 위협적 생명체인 공룡의 등장으로 인류 역사상 겪어보지 못한 사상 최악의 위기를 맞이한 인간들. 지구의 최상위 포식자 자리를 걸고 인간과 공룡의 최후의 사투가 펼쳐진다.', 'popularity': 11579.18, 'poster_path': '/odxdUZWZ7fBfy3ZRj063wuJnZvo.jpg', 'release_date': '2022-06-01', 'title': '쥬라기 월드: 도미니언', 'video': False, 'vote_average': 7, 'vote_count': 1794}, {'adult': False, 'backdrop_path': '/qTkJ6kbTeSjqfHCFCmWnfWZJOtm.jpg', 'genre_ids': [10751, 16, 12, 35, 14], 'id': 438148, 'original_language': 'en', 'original_title': 'Minions: The Rise of Gru', 'overview': '세계 최고의 슈퍼 악당을 꿈꾸는 미니보스 ‘그루’와 그를 따라다니는 미니언들.\\r 어느 날 그루는 최고의 악당 조직 ‘빌런6’의 마법 스톤을 훔치는 데 성공하지만\\r 뉴페이스 미니언 ‘오토’의 실수로 스톤을 잃어버리고 빌런6에게 납치까지 당한다.\\r 미니보스를 구하기 위해 잃어버린 스톤을 되찾아야 하는 ‘오토’, 그리고 쿵푸를 마스터해야 하는 ‘케빈’, ‘스튜어트’, ‘밥’!\\r 올여름 극장가를 점령할 MCU(미니언즈 시네마틱 유니버스)가 돌아온다!', 'popularity': 8681.312, 'poster_path': '/1heBUD8o0sgdqLWyeXkylR2POKb.jpg', 'release_date': '2022-06-29', 'title': '미니언즈 2', 'video': False, 'vote_average': 7.5, 'vote_count': 425}, {'adult': False, 'backdrop_path': '/odJ4hx6g6vBt4lBWKFD1tI8WS4x.jpg', 'genre_ids': [28, 18], 'id': 361743, 'original_language': 'en', 'original_title': 'Top Gun: Maverick', 'overview': '최고의 파일럿이자 전설적인 인물 매버릭은 자신이 졸업한 훈련학교 교관으로 발탁된다. 그의 명성을 모르던 팀원들은 매버릭의 지시를 무시하지만 실전을 방불케 하는 상공 훈련에서 눈으로 봐도 믿기 힘든 전설적인 조종 실력에 모두가 압도된다. 매버릭의 지휘 아래 견고한 팀워크를 쌓아가던 팀원들에게 국경을 뛰어넘는 위험한 임무가 주어지자 매버릭은 자신이 가르친 동료들과 함께 마지막이 될지 모를 하늘 위 비행에 나서는데…', 'popularity': 8058.252, 'poster_path': '/jMLiTgCo0vXJuwMzZGoNOUPfuj7.jpg', 'release_date': '2022-05-24', 'title': '탑건: 매버릭', 'video': False, 'vote_average': 8.4, 'vote_count': 1620}, {'adult': False, 'backdrop_path': '/nW5fUbldp1DYf2uQ3zJTUdachOu.jpg', 'genre_ids': [16, 878, 12, 28, 10751], 'id': 718789, 'original_language': 'en', 'original_title': 'Lightyear', 'overview': '나, 버즈 라이트이어. 인류 구원에 필요한 자원을 감지하고 현재 수많은 과학자들과 미지의 행성으로 향하고 있다. 이번 미션은 인류의 역사를 새롭게 쓸 것이라 확신한다. 잘못된 신호였다. 이곳은 삭막하고 거대한 외계 생물만이 살고 있는 폐허의 땅이다. 나의 실수로 모두가 이곳에 고립되고 말았다. 모두를 구하기 위해서 모든 것을 제자리에 돌려 놔야 한다. 실수를 바로잡기 위한 탈출 미션을 위해 1년의 준비를 마쳤다. 어쩌다 한 팀이 된 정예 부대와 이 미션을 수행할 예정이다. 우주를 집어삼킬 저그 황제와 대규모 로봇 군사의 위협이 계속되지만 나는 절대 포기할 수 없다. 그런데... 여긴 또 어디지? 시간 속에 갇힌 건가?', 'popularity': 5815.77, 'poster_path': '/KJjJSbdThql8dMtwswseCvPF4h.jpg', 'release_date': '2022-06-15', 'title': '버즈 라이트이어', 'video': False, 'vote_average': 7.2, 'vote_count': 808}, {'adult': False, 'backdrop_path': '/AfvIjhDu9p64jKcmohS4hsPG95Q.jpg', 'genre_ids': [27, 53], 'id': 756999, 'original_language': 'en', 'original_title': 'The Black Phone', 'overview': '1978년 덴버 작은 마을, 아동연쇄납치살인범에게 납치된 소년이 초자연적인 현상을 겪으며 탈출을 위한 사투를 벌인다는 내용의 영화', 'popularity': 5159.089, 'poster_path': '/p9ZUzCyy9wRTDuuQexkQ78R2BgF.jpg', 'release_date': '2022-06-22', 'title': '블랙폰', 'video': False, 'vote_average': 7.9, 'vote_count': 856}, {'adult': False, 'backdrop_path': '/wcKFYIiVDvRURrzglV9kGu7fpfY.jpg', 'genre_ids': [14, 28, 12], 'id': 453395, 'original_language': 'en', 'original_title': 'Doctor Strange in the Multiverse of Madness', 'overview': '아메리카는 어느 날 멀티버스 사이를 오갈 수 있는 힘에 눈을 뜨지만 완전히 제어하지 못한다. 정체불명의 악마가 아메리카를 죽이려 하자 다른 우주의 스트레인지가 이를 막아보지만 결국 살해당한다. 우여곡절 끝에 우리가 알고 있는 우주로 넘어온 아메리카는 어벤져스 멤버인 닥터 스트레인지의 도움과 보호를 받는다. 닥터 스트레인지는 웨스트뷰 사건 이후 잠적한 완다에게 도움을 청하지만 곧바로 그녀가 사건의 진정한 흑막, 스칼렛 위치임이 드러난다. 스칼렛 위치는 자신의 원하는 멀티버스로 가기 위해 아메리카의 힘을 흡수하려 한다. 닥터 스트레인지와 아메리카는 압도적인 힘을 지닌 스칼렛 위치를 피해 또 한번 다른 멀티버스로 도망치지만 그의 끈질긴 추격을 받는다.', 'popularity': 3885.945, 'poster_path': '/vL5ktZauR0fZMDOHKjakb1idhuU.jpg', 'release_date': '2022-05-04', 'title': '닥터 스트레인지: 대혼돈의 멀티버스', 'video': False, 'vote_average': 7.5, 'vote_count': 4614}, {'adult': False, 'backdrop_path': '/p1F51Lvj3sMopG948F5HsBbl43C.jpg', 'genre_ids': [28, 12, 14], 'id': 616037, 'original_language': 'en', 'original_title': 'Thor: Love and Thunder', 'overview': '이너피스를 위해 자아 찾기 여정을 떠난 천둥의 신 토르. 그러나, 우주의 모든 신들을 몰살하려는 신 도살자 고르의 등장으로 토르의 안식년 계획은 산산조각 나버린다. 토르는새로운 위협에 맞서기 위해, 킹 발키리, 코르그, 그리고 전 여자친구 제인과 재회하게 되는데. 그녀가 묠니르를 휘두르는 마이티 토르가 되어 나타나 모두를 놀라게 한다. 이제, 팀 토르는 고르의 복수에 얽힌 미스터리를 밝히고 더 큰 전쟁을 막기 위한 전 우주적 스케일의 모험을 시작하는데...', 'popularity': 3246.159, 'poster_path': '/bZLrpWM065h5bu1msUcPmLFsHBe.jpg', 'release_date': '2022-07-08', 'title': '토르: 러브 앤 썬더', 'video': False, 'vote_average': 6.7, 'vote_count': 1147}, {'adult': False, 'backdrop_path': '/3EaCqZdbY2uAMhhw9rQwmHjYC0Y.jpg', 'genre_ids': [28, 53], 'id': 961484, 'original_language': 'en', 'original_title': 'Last Seen Alive', 'overview': '', 'popularity': 2060.232, 'poster_path': '/qvqyDj34Uivokf4qIvK4bH0m0qF.jpg', 'release_date': '2022-05-19', 'title': '라스트 씬 얼라이브', 'video': False, 'vote_average': 6.7, 'vote_count': 138}, {'adult': False, 'backdrop_path': '/jazlkwXfw4KdF6fVTRsolOvRCmu.jpg', 'genre_ids': [53], 'id': 924482, 'original_language': 'en', 'original_title': 'The Ledge', 'overview': '친구와 함께 암벽등반을 간 켈리는  그곳에서 만난 남성들에게 친구가 살해당하는 것을 목격하고 카메라로 찍는데…  쫓아오는 그들을 피할 곳은 눈앞의 거대한 암벽뿐...', 'popularity': 2025.338, 'poster_path': '/qXU3lr4YmyT8y6kaX1CcpRiqia2.jpg', 'release_date': '2022-02-18', 'title': '더 렛지', 'video': False, 'vote_average': 6.2, 'vote_count': 62}, {'adult': False, 'backdrop_path': '/wUwizGzbTk5CTiKBnE4Pq1MONwD.jpg', 'genre_ids': [16, 12, 10751, 14], 'id': 560057, 'original_language': 'en', 'original_title': 'The Sea Beast', 'overview': '전설적인 바다 괴물 사냥꾼의 배에 여자아이가 몰래 숨어든다. 이제 한배에 탄 둘은 미지의 바다를 향해 대장정의 항해를 떠나는데. 이들은 어떤 역사를 쓰게 될까.', 'popularity': 1725.051, 'poster_path': '/axtQ6KM40hpwhcEJy0UNZ9rXOLV.jpg', 'release_date': '2022-06-24', 'title': '씨 비스트', 'video': False, 'vote_average': 7.6, 'vote_count': 354}, {'adult': False, 'backdrop_path': '/33qGtN2GpGEb94pn25PDPeWQZLk.jpg', 'genre_ids': [28, 80, 53], 'id': 894169, 'original_language': 'en', 'original_title': 'Vendetta', 'overview': '', 'popularity': 1556.072, 'poster_path': '/7InGE2Sux0o9WGbbn0bl7nZzqEc.jpg', 'release_date': '2022-05-17', 'title': '벤데타', 'video': False, 'vote_average': 6.7, 'vote_count': 46}, {'adult': False, 'backdrop_path': '/egoyMDLqCxzjnSrWOz50uLlJWmD.jpg', 'genre_ids': [28, 12, 10751, 35], 'id': 675353, 'original_language': 'en', 'original_title': 'Sonic the Hedgehog 2', 'overview': '강력한 파워의 ‘너클즈’와 함께 돌아온 천재 과학자 ‘닥터 로보트닉’에 맞서 지구를 구하기 위해 ‘소닉’과 새로운 파트너 ‘테일즈’가 전 세계를 누비는 스피드 액션 블록버스터.', 'popularity': 1596.318, 'poster_path': '/8dzKn3RtPWUJRG9ymSpi423eMNV.jpg', 'release_date': '2022-03-30', 'title': '수퍼 소닉 2', 'video': False, 'vote_average': 7.7, 'vote_count': 2530}, {'adult': False, 'backdrop_path': '/mTupUmnuwwAyA0CNqpwaZn5mqjk.jpg', 'genre_ids': [28, 27, 53, 10752, 14], 'id': 697799, 'original_language': 'en', 'original_title': 'WarHunt', 'overview': '추락한 항공기를 수습하기 위해 파견된 미군 분대원들이 숲 속에서 기이하고 공포스러운 일을 겪는 내용의 전쟁 호러 영화', 'popularity': 1479.467, 'poster_path': '/cNnhQdaq4Rs1aVRRslBP691kyNa.jpg', 'release_date': '2022-01-21', 'title': '워헌트', 'video': False, 'vote_average': 5.4, 'vote_count': 41}, {'adult': False, 'backdrop_path': '/t9K8ycUBCplWiICDOKRNRYcEH9e.jpg', 'genre_ids': [16, 28, 14], 'id': 810693, 'original_language': 'ja', 'original_title': '劇場版 呪術廻戦 0', 'overview': '어린 시절, 소꿉친구인 오리모토 리카를 교통사고로 눈앞에서 잃은 옷코츠 유타. “약속해. 리카와 유타는 어른이 되면 결혼하기로.” 옷코츠는 원령으로 변한 리카의 저주에 괴로워한 나머지, 자신도 죽기를 바라지만최강의 주술사인 고죠 사토루에 의해 주술고전에 들어가게 된다. 그리고 동급생인 젠인 마키, 이누마키 토게, 판다를 만나면서 굳은 결심을 한다. “살아도 된다는 자신감이 필요해.” “나는 주술고전에서 리카의 저주를 풀겠습니다.” 한편, 옷코츠와 친구들 앞에 과거에 일반인을 대량으로 학살해서 고전에서 추방된최악의 주저사인 게토 스구루가 나타난다. “12월 24일, 우리는 백귀야행을 간다.” 주술사만의 낙원을 만들려는 게토는 비술사를 섬멸하겠다면서, 신주쿠와 교토에 천의 저주를 내리는데… 과연 옷코츠는 게토를 막을 수 있을까? 그리고 리카의 저주를 풀 수 있을까?', 'popularity': 1475.873, 'poster_path': '/gHcga1wgDD4MAeApoOM7yDn9BOq.jpg', 'release_date': '2021-12-24', 'title': '극장판 주술회전 0', 'video': False, 'vote_average': 7.9, 'vote_count': 225}, {'adult': False, 'backdrop_path': '/g3pG27i0v6eKWDKLf4GQsKZxmZX.jpg', 'genre_ids': [53, 28], 'id': 888195, 'original_language': 'en', 'original_title': 'Hot Seat', 'overview': '', 'popularity': 1480.811, 'poster_path': '/TUmSO5EPIZAfRSOEjmbrgbTw8i.jpg', 'release_date': '2022-07-01', 'title': '핫 시트', 'video': False, 'vote_average': 6.8, 'vote_count': 17}, {'adult': False, 'backdrop_path': '/qBu6blwnOA75Hz61QHrNe8unUNw.jpg', 'genre_ids': [53, 80, 18], 'id': 975714, 'original_language': 'en', 'original_title': 'Collision', 'overview': '어느 불길한 운명의 날, 부패한 사업가와 사교계 명사인 그의 아내가 악명 높은 범죄 조직의 보스에게서 딸을 구하기 위해 정신없이 움직인다.', 'popularity': 1076.45, 'poster_path': '/4zsihgkxMZ7MrflNCjkD3ySFJtc.jpg', 'release_date': '2022-06-16', 'title': '컬리전', 'video': False, 'vote_average': 5.9, 'vote_count': 88}, {'adult': False, 'backdrop_path': '/uR0FopHrAjDlG5q6PZB07a1JOva.jpg', 'genre_ids': [16, 878, 28], 'id': 610150, 'original_language': 'ja', 'original_title': 'ドラゴンボール超：スーパーヒーロー', 'overview': '2018년에 개봉한 에 이은  시리즈의 두 번째 영화', 'popularity': 1097.86, 'poster_path': '/dZylKAF4MPNISDlEdZFopF91Nyu.jpg', 'release_date': '2022-06-11', 'title': '드래곤볼 슈퍼: 슈퍼 히어로', 'video': False, 'vote_average': 8, 'vote_count': 78}, {'adult': False, 'backdrop_path': '/1Ds7xy7ILo8u2WWxdnkJth1jQVT.jpg', 'genre_ids': [28, 12, 35], 'id': 752623, 'original_language': 'en', 'original_title': 'The Lost City', 'overview': '전설의 트레저를 차지하기 위해 재벌 페어팩스(다니엘 래드클리프)는  유일한 단서를 알고 있는 베스트셀러 작가 로레타(산드라 블록)를 납치하게 된다.  어쩔 수 없는 비지니스 관계로 사라진 그녀를 찾아야만 하는 책 커버모델 앨런(채닝 테이텀)은  의문의 파트너(브래드 피트)와 함께 위험한 섬에서 그녀를 구하고 무사히 탈출해야만 하는데…  적과 자연의 위험이 도사리는 일촉즉발 화산섬.', 'popularity': 1049.409, 'poster_path': '/8kZapNBZYGJu7AUbJVBDMmQgO1D.jpg', 'release_date': '2022-03-24', 'title': '로스트 시티', 'video': False, 'vote_average': 6.8, 'vote_count': 1537}, {'adult': False, 'backdrop_path': '/vjnLXptqdxnpNJer5fWgj2OIGhL.jpg', 'genre_ids': [28, 53, 80], 'id': 818397, 'original_language': 'en', 'original_title': 'Memory', 'overview': '단 한번의 실패도 실수도 용납할 수 없는 킬러 ‘알렉스’(리암 니슨)\\r 어느 날, 그에게 새로운 의뢰가 들어온다.  오직 자신의 신념에 따라 움직인 그는\\r 이 사건에 한 소녀가 연관되어 있음을 알게 되고 단칼에 거절한다.  의뢰를 거절했다는 이유로, 모두의 표적이 되어버린 그는\\r 오래된 병으로 인해 희미해져 가는 기억을 붙잡고,\\r 소녀와 자신을 지키기 위해 의뢰에 연관된 모든 것들을 응징하기로 한다.  한편, 멕시코 국경에서 사건을 맹렬히 쫓던\\r FBI 요원 ‘빈센트’(가이 피어스)는 ‘알렉스’를 만나게 되고,\\r 두 사람은 이 사건의 거대한 비밀과 마주하게 되는데···  사라지는 기억, 더욱 선명해지는 정의!\\r 마지막 응징이 시작된다!', 'popularity': 968.256, 'poster_path': '/fWkFnlCQLtfIBGnhMKVw2dttEDk.jpg', 'release_date': '2022-04-28', 'title': '메모리', 'video': False, 'vote_average': 7.2, 'vote_count': 535}, {'adult': False, 'backdrop_path': '/o31kGDH9GbAZjVLwPYno8XvQGV2.jpg', 'genre_ids': [28, 53], 'id': 777831, 'original_language': 'en', 'original_title': '9 Bullets', 'overview': '벌레스크 댄서는 전 애인으로부터  생명의 위협을 받고 있는 이웃 소년을 구하기 위해 도망쳐야 합니다.', 'popularity': 999.643, 'poster_path': '/cuFPxoFopAjFUz4oIMUzpzeTA8I.jpg', 'release_date': '2022-04-14', 'title': '9 불리츠', 'video': False, 'vote_average': 5.7, 'vote_count': 41}], 'total_pages': 69, 'total_results': 1364}\n"
          ]
        }
      ]
    }
  ]
}