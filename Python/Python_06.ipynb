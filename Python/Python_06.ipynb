{
  "nbformat": 4,
  "nbformat_minor": 0,
  "metadata": {
    "colab": {
      "name": "Python 06.ipynb",
      "provenance": [],
      "authorship_tag": "ABX9TyPlBjP26QZ8jJdP54MVjGGM",
      "include_colab_link": true
    },
    "kernelspec": {
      "name": "python3",
      "display_name": "Python 3"
    },
    "language_info": {
      "name": "python"
    }
  },
  "cells": [
    {
      "cell_type": "markdown",
      "metadata": {
        "id": "view-in-github",
        "colab_type": "text"
      },
      "source": [
        "<a href=\"https://colab.research.google.com/github/jelly12paw/TIL/blob/main/Python/Python_06.ipynb\" target=\"_parent\"><img src=\"https://colab.research.google.com/assets/colab-badge.svg\" alt=\"Open In Colab\"/></a>"
      ]
    },
    {
      "cell_type": "markdown",
      "source": [
        "# Python 기초"
      ],
      "metadata": {
        "id": "q00hM2Tb_ooZ"
      }
    },
    {
      "cell_type": "markdown",
      "source": [
        "### class"
      ],
      "metadata": {
        "id": "6YXtHvA3_sp6"
      }
    },
    {
      "cell_type": "code",
      "execution_count": 4,
      "metadata": {
        "colab": {
          "base_uri": "https://localhost:8080/"
        },
        "id": "l68_48Gq_j-w",
        "outputId": "e1a17356-de63-4250-ce86-6bf4aece3c07"
      },
      "outputs": [
        {
          "output_type": "stream",
          "name": "stdout",
          "text": [
            "[1, 2, 3] <class 'list'>\n",
            "1 <class 'int'>\n",
            "2 <class 'str'>\n"
          ]
        }
      ],
      "source": [
        "a = [1, 2, 3]\n",
        "print(a, type(a))\n",
        "\n",
        "b = 1\n",
        "print(b, type(b))\n",
        "\n",
        "c = '2'\n",
        "print(c, type(c))"
      ]
    },
    {
      "cell_type": "markdown",
      "source": [
        "### 객체지향 프로그램\n",
        "- 데이터와 메소드가 분리, 추상화된 구조(인터페이스)"
      ],
      "metadata": {
        "id": "uW8q7H5bB9J3"
      }
    },
    {
      "cell_type": "code",
      "source": [
        "# 절차지향 프로그래밍\n",
        "\n",
        "name = '홍길동'\n",
        "age = 100\n",
        "gender = 'M'\n",
        "\n",
        "name1 = '고길동'\n",
        "age1 = 40\n",
        "gender = 'M'\n",
        "\n",
        "# 딕셔너리\n",
        "hong = {\n",
        "    'name' : '홍길동',\n",
        "    'age' : 100,\n",
        "    'gender' : 'M'  \n",
        "  }"
      ],
      "metadata": {
        "id": "_9pkc1tP_zFS"
      },
      "execution_count": 5,
      "outputs": []
    },
    {
      "cell_type": "code",
      "source": [
        "class Person :\n",
        "\n",
        "  def __init__(self, name, age, gender) :\n",
        "    self.name = name\n",
        "    self.age = age\n",
        "    self.gender = gender\n",
        "\n",
        "  def info(self) :\n",
        "    return (self.name, self.age, self.gender)\n",
        "\n",
        "hong = Person('홍길동', 100, 'M')\n",
        "go = Person('고길동', 40, 'M')\n",
        "\n",
        "print(hong.info())\n",
        "print(go.info())"
      ],
      "metadata": {
        "colab": {
          "base_uri": "https://localhost:8080/"
        },
        "id": "3n7wPS2wCxhz",
        "outputId": "7fe23024-2d25-4d50-9880-522adb07d2ab"
      },
      "execution_count": 7,
      "outputs": [
        {
          "output_type": "stream",
          "name": "stdout",
          "text": [
            "('홍길동', 100, 'M')\n",
            "('고길동', 40, 'M')\n"
          ]
        }
      ]
    },
    {
      "cell_type": "code",
      "source": [
        "class Rectangle :  \n",
        "\n",
        "    def __init__(self, x, y) :\n",
        "      self.x = x\n",
        "      self.y = y\n",
        "\n",
        "    def area(self) :\n",
        "      return self.x * self.y\n",
        "\n",
        "    def circum(self) :\n",
        "      return 2 * (self.x + self.y)\n",
        "\n",
        "\n",
        "r1 = Rectangle(10, 30)\n",
        "print(r1.area())\n",
        "print(r1.circum())"
      ],
      "metadata": {
        "colab": {
          "base_uri": "https://localhost:8080/"
        },
        "id": "w9vsHU4yDsC_",
        "outputId": "68d5c9a9-8ee7-4582-add1-7a942cdfe359"
      },
      "execution_count": 11,
      "outputs": [
        {
          "output_type": "stream",
          "name": "stdout",
          "text": [
            "300\n",
            "80\n"
          ]
        }
      ]
    },
    {
      "cell_type": "markdown",
      "source": [
        "### type"
      ],
      "metadata": {
        "id": "OTfiqTSaV29F"
      }
    },
    {
      "cell_type": "code",
      "source": [
        "print(sum, type(sum))\n",
        "print(len, type(len))\n",
        "print([1, 2, 3], type([1, 2, 3]))\n",
        "print([], type([]))"
      ],
      "metadata": {
        "colab": {
          "base_uri": "https://localhost:8080/"
        },
        "id": "P-4uGkNYEvi8",
        "outputId": "4b30960c-9a89-460a-b991-494191a8a83a"
      },
      "execution_count": 13,
      "outputs": [
        {
          "output_type": "stream",
          "name": "stdout",
          "text": [
            "<built-in function sum> <class 'builtin_function_or_method'>\n",
            "<built-in function len> <class 'builtin_function_or_method'>\n",
            "[1, 2, 3] <class 'list'>\n",
            "[] <class 'list'>\n"
          ]
        }
      ]
    },
    {
      "cell_type": "code",
      "source": [
        "a = [2, 3, 1]\n",
        "print(a.sort()) # 리스트의 데이터를 직접 정렬\n",
        "\n",
        "print(sorted(a))"
      ],
      "metadata": {
        "colab": {
          "base_uri": "https://localhost:8080/"
        },
        "id": "IoE3WyuRHAq4",
        "outputId": "6807f519-1bf7-4f34-bdf0-35dddd0f613c"
      },
      "execution_count": 17,
      "outputs": [
        {
          "output_type": "stream",
          "name": "stdout",
          "text": [
            "None\n",
            "[1, 2, 3]\n"
          ]
        }
      ]
    },
    {
      "cell_type": "code",
      "source": [
        "a = 1\n",
        "b = 1\n",
        "c = 2\n",
        "d = [1, 2, 3]\n",
        "\n",
        "print(a is b)\n",
        "print(a is c)\n",
        "print(a is not d)"
      ],
      "metadata": {
        "colab": {
          "base_uri": "https://localhost:8080/"
        },
        "id": "lqTG3m4bRnNd",
        "outputId": "9eb4e962-afe6-4e89-9f29-eab3209497c3"
      },
      "execution_count": 26,
      "outputs": [
        {
          "output_type": "stream",
          "name": "stdout",
          "text": [
            "True\n",
            "False\n",
            "True\n"
          ]
        }
      ]
    },
    {
      "cell_type": "code",
      "source": [
        "a = [1, 2, 3]\n",
        "\n",
        "b = a\n",
        "\n",
        "b[0] = 'hi'\n",
        "\n",
        "print(a)\n",
        "print(b)"
      ],
      "metadata": {
        "colab": {
          "base_uri": "https://localhost:8080/"
        },
        "id": "O-0_jRA6IKgi",
        "outputId": "52111702-8d86-497f-8741-f872c05742c3"
      },
      "execution_count": 19,
      "outputs": [
        {
          "output_type": "stream",
          "name": "stdout",
          "text": [
            "['hi', 2, 3]\n",
            "['hi', 2, 3]\n"
          ]
        }
      ]
    },
    {
      "cell_type": "markdown",
      "source": [
        "### copy"
      ],
      "metadata": {
        "id": "anyo8IOkUyja"
      }
    },
    {
      "cell_type": "code",
      "source": [
        "a = [1, 2, 3]\n",
        "b = [1, 2, 3]\n",
        "c = a\n",
        "\n",
        "print(a == b, a is b) # 주소가 다르다!\n",
        "print(a == c, a is c)"
      ],
      "metadata": {
        "colab": {
          "base_uri": "https://localhost:8080/"
        },
        "id": "I0xmaqj1UQG6",
        "outputId": "9f93be14-4dcc-4639-e229-b6ef27cdfeee"
      },
      "execution_count": 30,
      "outputs": [
        {
          "output_type": "stream",
          "name": "stdout",
          "text": [
            "True False\n",
            "True True\n"
          ]
        }
      ]
    },
    {
      "cell_type": "code",
      "source": [
        "# 얕은 복사\n",
        "\n",
        "a = [[1, 2], 2, 3]\n",
        "b = list(a)\n",
        "b[0][0] = 'hi'\n",
        "\n",
        "print(a)\n",
        "print(b)\n",
        "\n",
        "# 깊은 복사\n",
        "\n",
        "import copy\n",
        "\n",
        "a = [[1, 2], 1, 2]\n",
        "b = copy.deepcopy(c)\n",
        "\n",
        "a[0][0] = 'hi'\n",
        "\n",
        "print(a)\n",
        "print(b)"
      ],
      "metadata": {
        "colab": {
          "base_uri": "https://localhost:8080/"
        },
        "id": "TE2BTgGoRdh7",
        "outputId": "34beabfa-4150-486f-b2e0-96065f4ff572"
      },
      "execution_count": 29,
      "outputs": [
        {
          "output_type": "stream",
          "name": "stdout",
          "text": [
            "[['hi', 2], 2, 3]\n",
            "[['hi', 2], 2, 3]\n",
            "[['hi', 2], 1, 2]\n",
            "[[1, 2], 1, 2]\n"
          ]
        }
      ]
    },
    {
      "cell_type": "markdown",
      "source": [
        "### self"
      ],
      "metadata": {
        "id": "DzOe8VWSV_UZ"
      }
    },
    {
      "cell_type": "code",
      "source": [
        "# __init__ : 생성자\n",
        "\n",
        "class Cat :\n",
        "\n",
        "  def __init__(self) :\n",
        "    print('야옹!')\n",
        "\n",
        "\n",
        "a = Cat()"
      ],
      "metadata": {
        "colab": {
          "base_uri": "https://localhost:8080/"
        },
        "id": "kgzqRCOGVF4u",
        "outputId": "9394e18d-8834-4dae-cb56-af591782eeb6"
      },
      "execution_count": 33,
      "outputs": [
        {
          "output_type": "stream",
          "name": "stdout",
          "text": [
            "야옹!\n"
          ]
        }
      ]
    },
    {
      "cell_type": "code",
      "source": [
        "class Kitty :\n",
        "\n",
        "  def __init__(self, name) :\n",
        "    \n",
        "    self.name = name\n",
        "    \n",
        "\n",
        "cat = Kitty('네로')\n",
        "print(cat.name)"
      ],
      "metadata": {
        "colab": {
          "base_uri": "https://localhost:8080/"
        },
        "id": "xg_wYAvBWJ4d",
        "outputId": "fdcb3455-4639-4b8d-c06f-cbc4c2ce7803"
      },
      "execution_count": 44,
      "outputs": [
        {
          "output_type": "stream",
          "name": "stdout",
          "text": [
            "네로\n"
          ]
        }
      ]
    },
    {
      "cell_type": "code",
      "source": [
        "class A :\n",
        "\n",
        "  def __str__(self) :\n",
        "    return f'<{self.name}>'\n",
        "\n",
        "a = A()\n",
        "a.name = '안녕!'\n",
        "\n",
        "print(a.name)"
      ],
      "metadata": {
        "colab": {
          "base_uri": "https://localhost:8080/"
        },
        "id": "dHQV-Ei4Wvm1",
        "outputId": "b0f859d0-0510-4e94-a95d-07caf08efe15"
      },
      "execution_count": 45,
      "outputs": [
        {
          "output_type": "stream",
          "name": "stdout",
          "text": [
            "안녕!\n"
          ]
        }
      ]
    },
    {
      "cell_type": "code",
      "source": [
        "# __del__ 소멸자\n",
        "\n",
        "class A :\n",
        "  def __del__(self) :"
      ],
      "metadata": {
        "colab": {
          "base_uri": "https://localhost:8080/",
          "height": 131
        },
        "id": "WgEBvyxlZm35",
        "outputId": "ba5f2964-d63e-4bcc-cb25-4cc18d79b128"
      },
      "execution_count": 48,
      "outputs": [
        {
          "output_type": "error",
          "ename": "SyntaxError",
          "evalue": "ignored",
          "traceback": [
            "\u001b[0;36m  File \u001b[0;32m\"<ipython-input-48-4b89d02f2b6b>\"\u001b[0;36m, line \u001b[0;32m4\u001b[0m\n\u001b[0;31m    def __del__(self) :\u001b[0m\n\u001b[0m                       ^\u001b[0m\n\u001b[0;31mSyntaxError\u001b[0m\u001b[0;31m:\u001b[0m unexpected EOF while parsing\n"
          ]
        }
      ]
    }
  ]
}