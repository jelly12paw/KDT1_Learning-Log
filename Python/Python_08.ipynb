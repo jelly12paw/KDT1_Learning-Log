{
  "nbformat": 4,
  "nbformat_minor": 0,
  "metadata": {
    "colab": {
      "name": "Python_08.ipynb",
      "provenance": [],
      "authorship_tag": "ABX9TyMRv9nhh34H5SB939ZRRlqc",
      "include_colab_link": true
    },
    "kernelspec": {
      "name": "python3",
      "display_name": "Python 3"
    },
    "language_info": {
      "name": "python"
    }
  },
  "cells": [
    {
      "cell_type": "markdown",
      "metadata": {
        "id": "view-in-github",
        "colab_type": "text"
      },
      "source": [
        "<a href=\"https://colab.research.google.com/github/jelly12paw/TIL/blob/main/Python/Python_08.ipynb\" target=\"_parent\"><img src=\"https://colab.research.google.com/assets/colab-badge.svg\" alt=\"Open In Colab\"/></a>"
      ]
    },
    {
      "cell_type": "markdown",
      "source": [
        "# Python 기초"
      ],
      "metadata": {
        "id": "yP-1L_D-J_jO"
      }
    },
    {
      "cell_type": "markdown",
      "source": [
        "### List Comperhension"
      ],
      "metadata": {
        "id": "R0BNkhsnKDZK"
      }
    },
    {
      "cell_type": "code",
      "execution_count": 1,
      "metadata": {
        "colab": {
          "base_uri": "https://localhost:8080/"
        },
        "id": "HaIrGOipJ7mK",
        "outputId": "13b5e9de-0114-4e19-9a73-36d94c483d2e"
      },
      "outputs": [
        {
          "output_type": "stream",
          "name": "stdout",
          "text": [
            "[1, 8, 27]\n"
          ]
        }
      ],
      "source": [
        "# 1 ~ 3의 세제곱의 결과가 담긴 리스트를 만드시오\n",
        "\n",
        "a = []\n",
        "for i in range(1, 4) :\n",
        "  a.append(i ** 3)\n",
        "\n",
        "print(a)\n",
        "\n",
        "# List Comprehension : 특정한 원소로 구성된 리스트 만들 때\n",
        "b = [i ** 3 for i in range(1, 4)]\n",
        "\n",
        "print(b)"
      ]
    },
    {
      "cell_type": "code",
      "source": [
        "even = [i ** 2 for i in range(10) if i % 2 == 0]\n",
        "\n",
        "print(even)\n",
        "\n",
        "sum = sum([i ** 2 for i in range(10) if i % 2 == 0])\n",
        "print(sum)"
      ],
      "metadata": {
        "colab": {
          "base_uri": "https://localhost:8080/"
        },
        "id": "yzxF2_swSxRc",
        "outputId": "0ac5b650-fa11-4721-a76e-262772ee3029"
      },
      "execution_count": 5,
      "outputs": [
        {
          "output_type": "stream",
          "name": "stdout",
          "text": [
            "[0, 4, 16, 36, 64]\n",
            "120\n"
          ]
        }
      ]
    },
    {
      "cell_type": "markdown",
      "source": [
        "### Dictionary Comprehension"
      ],
      "metadata": {
        "id": "JmCvBjwmUJww"
      }
    },
    {
      "cell_type": "code",
      "source": [
        "a = {}\n",
        "for i in range(1, 4) :\n",
        "  a[i] = i ** 3\n",
        "\n",
        "print(a)\n",
        "\n",
        "# Dictionary Comprehension\n",
        "b = {i : i ** 3 for i in range(1, 4)}\n",
        "print(b)"
      ],
      "metadata": {
        "colab": {
          "base_uri": "https://localhost:8080/"
        },
        "id": "3FTCn2C4T6nu",
        "outputId": "f3e9150f-f5c5-4757-ed91-1cce73a7a698"
      },
      "execution_count": 7,
      "outputs": [
        {
          "output_type": "stream",
          "name": "stdout",
          "text": [
            "{1: 1, 2: 8, 3: 27}\n",
            "{1: 1, 2: 8, 3: 27}\n"
          ]
        }
      ]
    },
    {
      "cell_type": "markdown",
      "source": [
        "### Lambda"
      ],
      "metadata": {
        "id": "BETCM3EEVWYt"
      }
    },
    {
      "cell_type": "code",
      "source": [
        "# map() : 반복가능한 모든 요소에 함수를 적용 시켜 map object로 반환\n",
        "\n",
        "num = [1, 2, 5, 10, 3, 9, 12]\n",
        "result = []\n",
        "\n",
        "for i in num :\n",
        "  # if i % 3 == 0 :\n",
        "    result.append(i * 3)\n",
        "\n",
        "print(result)\n",
        "\n",
        "# 함수\n",
        "def mul3 (i) :\n",
        "  return i * 3\n",
        "\n",
        "print(list(map(mul3, num)))\n",
        "\n",
        "# Lambda\n",
        "print(list(map(lambda n : n * 3, num)))"
      ],
      "metadata": {
        "colab": {
          "base_uri": "https://localhost:8080/"
        },
        "id": "bvPgbH2uUbKF",
        "outputId": "dd997c58-e897-459b-cb0d-8eff8f183716"
      },
      "execution_count": 11,
      "outputs": [
        {
          "output_type": "stream",
          "name": "stdout",
          "text": [
            "[3, 6, 15, 30, 9, 27, 36]\n",
            "[3, 6, 15, 30, 9, 27, 36]\n",
            "[3, 6, 15, 30, 9, 27, 36]\n"
          ]
        }
      ]
    },
    {
      "cell_type": "markdown",
      "source": [
        "### filter : True인 요소만 반환"
      ],
      "metadata": {
        "id": "OIxp5vPxY5zk"
      }
    },
    {
      "cell_type": "code",
      "source": [
        "num = [1, 2, 5, 10, 3, 9, 12]\n",
        "result = []\n",
        "\n",
        "for i in num :\n",
        "  if i % 3 == 0 :\n",
        "    result.append(i)\n",
        "\n",
        "print(result)\n",
        "\n",
        "# filter\n",
        "print(list(filter(lambda n : n % 3 == 0, num)))\n",
        "\n",
        "# 함수\n",
        "\n",
        "def is3 (n) :\n",
        "  return n % 3 == 0\n",
        "\n",
        "print(list(filter(is3, num)))\n",
        "\n",
        "def is31 (n) :\n",
        "  if n % 3 == 0 :\n",
        "    return True\n",
        "\n",
        "  else :\n",
        "    return False"
      ],
      "metadata": {
        "colab": {
          "base_uri": "https://localhost:8080/"
        },
        "id": "0oTbXf5KXCtM",
        "outputId": "7f62846b-bdeb-44dd-96d3-8b4821146cbe"
      },
      "execution_count": 13,
      "outputs": [
        {
          "output_type": "stream",
          "name": "stdout",
          "text": [
            "[3, 9, 12]\n",
            "[3, 9, 12]\n",
            "[3, 9, 12]\n"
          ]
        }
      ]
    },
    {
      "cell_type": "markdown",
      "source": [
        "### Annotation"
      ],
      "metadata": {
        "id": "47W6l5Q0cye8"
      }
    },
    {
      "cell_type": "code",
      "source": [
        "a : int = 3\n",
        "print(a)"
      ],
      "metadata": {
        "colab": {
          "base_uri": "https://localhost:8080/"
        },
        "id": "B584YVN-ZF3T",
        "outputId": "08068b01-e948-4dd0-88d1-67bcf0ebbfb5"
      },
      "execution_count": 14,
      "outputs": [
        {
          "output_type": "stream",
          "name": "stdout",
          "text": [
            "3\n"
          ]
        }
      ]
    },
    {
      "cell_type": "code",
      "source": [
        "# 함수 어노테이션\n",
        "\n",
        "def add(x : int, y : int) -> int :\n",
        "  return x + y\n",
        "\n",
        "print(add(7, 4))\n",
        "print(add('hi', 'hello'))\n",
        "\n",
        "def add2(x, y) :\n",
        "  return x + y\n",
        "\n",
        "print(add2(7, 4))"
      ],
      "metadata": {
        "colab": {
          "base_uri": "https://localhost:8080/"
        },
        "id": "gARijvMqc6BK",
        "outputId": "5ff5b4d1-5611-45a1-c494-4eb161138598"
      },
      "execution_count": 15,
      "outputs": [
        {
          "output_type": "stream",
          "name": "stdout",
          "text": [
            "11\n",
            "hihello\n",
            "11\n"
          ]
        }
      ]
    },
    {
      "cell_type": "markdown",
      "source": [
        "### requests"
      ],
      "metadata": {
        "id": "ak-zWDqkpBW7"
      }
    },
    {
      "cell_type": "markdown",
      "source": [
        "1. url로 요청을 보내기\n",
        "2. 응답(HTML)을 받기\n",
        "3. 조작"
      ],
      "metadata": {
        "id": "nLlQ7IaNqs1F"
      }
    },
    {
      "cell_type": "code",
      "source": [
        "import requests\n",
        "\n",
        "url = 'https://m.stock.naver.com/api/stocks/marketValue/KOSPI?page=1&pageSize=20'\n",
        "\n",
        "response = requests.get(url).json()\n",
        "print(response.get('stocks')[0].get('closePrice'))"
      ],
      "metadata": {
        "colab": {
          "base_uri": "https://localhost:8080/"
        },
        "id": "ULQm2k2SdRZu",
        "outputId": "eb745bad-9fa4-40e8-817d-7a7c56376a53"
      },
      "execution_count": 21,
      "outputs": [
        {
          "output_type": "stream",
          "name": "stdout",
          "text": [
            "61,200\n"
          ]
        }
      ]
    }
  ]
}