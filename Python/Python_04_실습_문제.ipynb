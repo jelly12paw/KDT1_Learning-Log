{
  "nbformat": 4,
  "nbformat_minor": 0,
  "metadata": {
    "colab": {
      "name": "Python 04 실습 문제.ipynb",
      "provenance": [],
      "authorship_tag": "ABX9TyMowf9YSy7gh76UaLh+SCLy",
      "include_colab_link": true
    },
    "kernelspec": {
      "name": "python3",
      "display_name": "Python 3"
    },
    "language_info": {
      "name": "python"
    }
  },
  "cells": [
    {
      "cell_type": "markdown",
      "metadata": {
        "id": "view-in-github",
        "colab_type": "text"
      },
      "source": [
        "<a href=\"https://colab.research.google.com/github/jelly12paw/TIL/blob/main/Python/Python_04_%EC%8B%A4%EC%8A%B5_%EB%AC%B8%EC%A0%9C.ipynb\" target=\"_parent\"><img src=\"https://colab.research.google.com/assets/colab-badge.svg\" alt=\"Open In Colab\"/></a>"
      ]
    },
    {
      "cell_type": "code",
      "execution_count": 1,
      "metadata": {
        "colab": {
          "base_uri": "https://localhost:8080/"
        },
        "id": "SkOYDnI2c3jw",
        "outputId": "3e1f906d-12ef-4951-a16c-ccc46583cf1b"
      },
      "outputs": [
        {
          "output_type": "stream",
          "name": "stdout",
          "text": [
            "apple\n",
            "1\n"
          ]
        }
      ],
      "source": [
        "# 14\n",
        "\n",
        "word = input()\n",
        "a = 0\n",
        "\n",
        "for i in word :\n",
        "\n",
        "  if i == 'a' :\n",
        "    \n",
        "    a += int(len(i))\n",
        "\n",
        "print(a)"
      ]
    },
    {
      "cell_type": "code",
      "source": [
        "# 15\n",
        "\n",
        "word = input()\n",
        "a = 0\n",
        "\n",
        "for i in word :\n",
        "\n",
        "  if i == 'a' :\n",
        "    print(a)\n",
        "    break\n",
        "\n",
        "  else :\n",
        "    a += 1\n",
        "  \n",
        "if 'a' not in word :\n",
        "  print(-1)"
      ],
      "metadata": {
        "id": "WQNQmmJlc-Dh",
        "colab": {
          "base_uri": "https://localhost:8080/"
        },
        "outputId": "16139220-3669-4455-d912-ae5133506068"
      },
      "execution_count": 12,
      "outputs": [
        {
          "output_type": "stream",
          "name": "stdout",
          "text": [
            "kiwi\n",
            "-1\n"
          ]
        }
      ]
    },
    {
      "cell_type": "code",
      "source": [
        "# 15 - 1\n",
        "\n",
        "word = input()\n",
        "a = 0\n",
        "\n",
        "for i in word :\n",
        "\n",
        "  if i == 'a' :\n",
        "    print(a, end=' ')\n",
        "    a += 1\n",
        "\n",
        "  else :\n",
        "    a += 1\n",
        "  \n",
        "if 'a' not in word :\n",
        "  print('')"
      ],
      "metadata": {
        "colab": {
          "base_uri": "https://localhost:8080/"
        },
        "id": "LQIRd9ZDiPZT",
        "outputId": "9ba21cb2-e3b4-4fb0-f016-0c1b860951f4"
      },
      "execution_count": 7,
      "outputs": [
        {
          "output_type": "stream",
          "name": "stdout",
          "text": [
            "banana\n",
            "1 3 5 "
          ]
        }
      ]
    },
    {
      "cell_type": "code",
      "source": [
        "# 16\n",
        "\n",
        "word = input()\n",
        "aeiou = ['a', 'e', 'i', 'o', 'u']\n",
        "a = 0\n",
        "\n",
        "for i in word :\n",
        "\n",
        "  if i in aeiou :\n",
        "    \n",
        "    a += int(len(i))\n",
        "\n",
        "print(a)"
      ],
      "metadata": {
        "colab": {
          "base_uri": "https://localhost:8080/"
        },
        "id": "-ahReZqKCCwL",
        "outputId": "4da75ece-3b8b-4bc6-976d-fd64c870b117"
      },
      "execution_count": 8,
      "outputs": [
        {
          "output_type": "stream",
          "name": "stdout",
          "text": [
            "apple\n",
            "2\n"
          ]
        }
      ]
    },
    {
      "cell_type": "code",
      "source": [
        "# 17\n",
        "\n",
        "word = input()\n",
        "upper = ''\n",
        "\n",
        "for i in word :\n",
        "\n",
        "  i = chr(ord(i) - 32)\n",
        "  upper += i\n",
        "\n",
        "print(upper)"
      ],
      "metadata": {
        "colab": {
          "base_uri": "https://localhost:8080/"
        },
        "id": "GTFoORjaCKzU",
        "outputId": "8847dd20-47a8-49f6-a2be-5af5d8ca6799"
      },
      "execution_count": 9,
      "outputs": [
        {
          "output_type": "stream",
          "name": "stdout",
          "text": [
            "banana\n",
            "BANANA\n"
          ]
        }
      ]
    },
    {
      "cell_type": "code",
      "source": [
        "# 18\n",
        "\n",
        "word = input()\n",
        "alpa_count = {}\n",
        "\n",
        "for i in word :\n",
        "  \n",
        "  if i in alpa_count :\n",
        "\n",
        "    alpa_count[i] += 1\n",
        "\n",
        "  else :\n",
        "    alpa_count[i] = 1\n",
        "\n",
        "for k, v in alpa_count.items() :\n",
        "  print('{} {}'.format(k, v))"
      ],
      "metadata": {
        "colab": {
          "base_uri": "https://localhost:8080/"
        },
        "id": "CjsG58cBCPBL",
        "outputId": "52720a0e-3766-4201-db8c-54efe80a9939"
      },
      "execution_count": 10,
      "outputs": [
        {
          "output_type": "stream",
          "name": "stdout",
          "text": [
            "banana\n",
            "b 1\n",
            "a 3\n",
            "n 2\n"
          ]
        }
      ]
    },
    {
      "cell_type": "markdown",
      "source": [
        "### 정답 풀이"
      ],
      "metadata": {
        "id": "kv6OvBgsVe8f"
      }
    },
    {
      "cell_type": "code",
      "source": [
        "# 15. 문자의 위치 구하기 (처음으로)\n",
        "# 없으면 -1\n",
        "word = 'bbbbbbbb'\n",
        "\n",
        "# 1. for - else\n",
        "\n",
        "# 문자로 순회하는 것이 아니라! \n",
        "# 인덱스로 접근해서 쓰자.\n",
        "# 원하는 숫자? 0, 1, 2, 3, 4, 5\n",
        "# 얻는 방법은? range(len(word)) => range(6) => 0 ~ 5\n",
        "for idx in range(len(word)):\n",
        "    # print(idx, word[idx])\n",
        "    # 알파벳이 a일때 \n",
        "    if word[idx] == 'a':\n",
        "        print(idx)\n",
        "        break\n",
        "# for문을 다 돌았다는 뜻은\n",
        "# 한번도 break에 안걸렸다.\n",
        "# 즉, a는 없었다.\n",
        "else:\n",
        "    print(-1)\n",
        "\n",
        "# 2. for - else\n",
        "# a가 있었냐? 없었냐? (boolean)\n",
        "is_a = False\n",
        "for idx in range(len(word)):\n",
        "    if word[idx] == 'a':\n",
        "        print(idx)\n",
        "        is_a = True\n",
        "        break\n",
        "\n",
        "if not is_a:\n",
        "    print(-1)"
      ],
      "metadata": {
        "colab": {
          "base_uri": "https://localhost:8080/"
        },
        "id": "cgj7OvgHVgby",
        "outputId": "2f743dd4-d206-4257-d151-16fe9071e02f"
      },
      "execution_count": 11,
      "outputs": [
        {
          "output_type": "stream",
          "name": "stdout",
          "text": [
            "-1\n",
            "-1\n"
          ]
        }
      ]
    },
    {
      "cell_type": "code",
      "source": [
        "# 15-1\n",
        "\n",
        "# 1. 리스트에 담는다!\n",
        "word = 'banana'\n",
        "result = []\n",
        "for idx in range(len(word)):\n",
        "    if word[idx] == 'a':\n",
        "        # 리스트에 추가해줘\n",
        "        result.append(idx)\n",
        "print(result)\n",
        "\n",
        "# 2. 그때 그때 출력\n",
        "word = 'banana'\n",
        "result = []\n",
        "for idx in range(len(word)):\n",
        "    if word[idx] == 'a':\n",
        "        print(idx, end=' ')"
      ],
      "metadata": {
        "colab": {
          "base_uri": "https://localhost:8080/"
        },
        "id": "yIpNVrJlVnsY",
        "outputId": "5e3f7d01-dfe6-4659-b8fb-1b62d76eb8e7"
      },
      "execution_count": 13,
      "outputs": [
        {
          "output_type": "stream",
          "name": "stdout",
          "text": [
            "[1, 3, 5]\n",
            "1 3 5 "
          ]
        }
      ]
    },
    {
      "cell_type": "code",
      "source": [
        "word = 'banana'\n",
        "\n",
        "# 1. 풀이\n",
        "result = {}\n",
        "for char in word:\n",
        "    # 딕셔너리에 키가 없으면?\n",
        "    if not char in result:\n",
        "        # 키랑 값을 1으로 초기화한다.\n",
        "        result[char] = 1\n",
        "    # 딕셔너리에 키가 있으면?\n",
        "    else:\n",
        "        result[char] = result[char] + 1\n",
        "print(result)\n",
        "\n",
        "\n",
        "result = {}\n",
        "for char in word:\n",
        "    # result['a'] 없으면 KeyError\n",
        "    # result.get('a') 기본값이 None\n",
        "    # result.get('a', 0) 기본값이 0\n",
        "    result[char] = result.get(char, 0) + 1\n",
        "print(result)\n",
        "\n",
        "# 출력부분\n",
        "for key in result:\n",
        "    print(key, result[key])"
      ],
      "metadata": {
        "colab": {
          "base_uri": "https://localhost:8080/"
        },
        "id": "yOV97UXCVw0l",
        "outputId": "25008e52-7a65-4dec-fc21-b0551467706f"
      },
      "execution_count": 14,
      "outputs": [
        {
          "output_type": "stream",
          "name": "stdout",
          "text": [
            "{'b': 1, 'a': 3, 'n': 2}\n",
            "{'b': 1, 'a': 3, 'n': 2}\n",
            "b 1\n",
            "a 3\n",
            "n 2\n"
          ]
        }
      ]
    }
  ]
}