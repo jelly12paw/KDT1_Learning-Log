{
  "nbformat": 4,
  "nbformat_minor": 0,
  "metadata": {
    "colab": {
      "name": "Python 03 실습 문제.ipynb",
      "provenance": [],
      "authorship_tag": "ABX9TyMBoNSEZ0+7Wcqz9hZqzPVS",
      "include_colab_link": true
    },
    "kernelspec": {
      "name": "python3",
      "display_name": "Python 3"
    },
    "language_info": {
      "name": "python"
    }
  },
  "cells": [
    {
      "cell_type": "markdown",
      "metadata": {
        "id": "view-in-github",
        "colab_type": "text"
      },
      "source": [
        "<a href=\"https://colab.research.google.com/github/jelly12paw/TIL/blob/main/Python/Python_03_%EC%8B%A4%EC%8A%B5_%EB%AC%B8%EC%A0%9C.ipynb\" target=\"_parent\"><img src=\"https://colab.research.google.com/assets/colab-badge.svg\" alt=\"Open In Colab\"/></a>"
      ]
    },
    {
      "cell_type": "code",
      "execution_count": 1,
      "metadata": {
        "colab": {
          "base_uri": "https://localhost:8080/"
        },
        "id": "VSGW6YteNfg_",
        "outputId": "3aa885d2-15a3-49a5-f5bf-f468f8bbb735"
      },
      "outputs": [
        {
          "output_type": "execute_result",
          "data": {
            "text/plain": [
              "4"
            ]
          },
          "metadata": {},
          "execution_count": 1
        }
      ],
      "source": [
        "# 09\n",
        "\n",
        "students = ['이영희', '김철수', '이영희', '조민지', \n",
        "            '김철수', '조민지', '이영희', '이영희']\n",
        "\n",
        "students.count('이영희')"
      ]
    },
    {
      "cell_type": "code",
      "source": [
        "# 10\n",
        "\n",
        "numbers = [7, 17, 10, 5, 4, 3, 17, 5, 2, 5]\n",
        "\n",
        "numbers.count(5)"
      ],
      "metadata": {
        "colab": {
          "base_uri": "https://localhost:8080/"
        },
        "id": "1J7fw3lXN4DT",
        "outputId": "06ca78b8-7eb6-4baa-f61e-4d6ff7e2119a"
      },
      "execution_count": 2,
      "outputs": [
        {
          "output_type": "execute_result",
          "data": {
            "text/plain": [
              "3"
            ]
          },
          "metadata": {},
          "execution_count": 2
        }
      ]
    },
    {
      "cell_type": "code",
      "source": [
        "# 11\n",
        "\n",
        "for i in range (2, 10) :\n",
        "  \n",
        "  print(f'{i}단')\n",
        "  \n",
        "  for o in range(2, 10) :\n",
        "\n",
        "    print(f'{i} X {o} = {i * o}')"
      ],
      "metadata": {
        "colab": {
          "base_uri": "https://localhost:8080/"
        },
        "id": "DEH27WsQN85N",
        "outputId": "8f1a775c-91c2-414c-e967-8fc86e1c1dd4"
      },
      "execution_count": 4,
      "outputs": [
        {
          "output_type": "stream",
          "name": "stdout",
          "text": [
            "2단\n",
            "2 X 2 = 4\n",
            "2 X 3 = 6\n",
            "2 X 4 = 8\n",
            "2 X 5 = 10\n",
            "2 X 6 = 12\n",
            "2 X 7 = 14\n",
            "2 X 8 = 16\n",
            "2 X 9 = 18\n",
            "3단\n",
            "3 X 2 = 6\n",
            "3 X 3 = 9\n",
            "3 X 4 = 12\n",
            "3 X 5 = 15\n",
            "3 X 6 = 18\n",
            "3 X 7 = 21\n",
            "3 X 8 = 24\n",
            "3 X 9 = 27\n",
            "4단\n",
            "4 X 2 = 8\n",
            "4 X 3 = 12\n",
            "4 X 4 = 16\n",
            "4 X 5 = 20\n",
            "4 X 6 = 24\n",
            "4 X 7 = 28\n",
            "4 X 8 = 32\n",
            "4 X 9 = 36\n",
            "5단\n",
            "5 X 2 = 10\n",
            "5 X 3 = 15\n",
            "5 X 4 = 20\n",
            "5 X 5 = 25\n",
            "5 X 6 = 30\n",
            "5 X 7 = 35\n",
            "5 X 8 = 40\n",
            "5 X 9 = 45\n",
            "6단\n",
            "6 X 2 = 12\n",
            "6 X 3 = 18\n",
            "6 X 4 = 24\n",
            "6 X 5 = 30\n",
            "6 X 6 = 36\n",
            "6 X 7 = 42\n",
            "6 X 8 = 48\n",
            "6 X 9 = 54\n",
            "7단\n",
            "7 X 2 = 14\n",
            "7 X 3 = 21\n",
            "7 X 4 = 28\n",
            "7 X 5 = 35\n",
            "7 X 6 = 42\n",
            "7 X 7 = 49\n",
            "7 X 8 = 56\n",
            "7 X 9 = 63\n",
            "8단\n",
            "8 X 2 = 16\n",
            "8 X 3 = 24\n",
            "8 X 4 = 32\n",
            "8 X 5 = 40\n",
            "8 X 6 = 48\n",
            "8 X 7 = 56\n",
            "8 X 8 = 64\n",
            "8 X 9 = 72\n",
            "9단\n",
            "9 X 2 = 18\n",
            "9 X 3 = 27\n",
            "9 X 4 = 36\n",
            "9 X 5 = 45\n",
            "9 X 6 = 54\n",
            "9 X 7 = 63\n",
            "9 X 8 = 72\n",
            "9 X 9 = 81\n"
          ]
        }
      ]
    },
    {
      "cell_type": "code",
      "source": [
        "# 12\n",
        "\n",
        "word = 'apple'\n",
        "\n",
        "word.replace('a', '')"
      ],
      "metadata": {
        "colab": {
          "base_uri": "https://localhost:8080/",
          "height": 36
        },
        "id": "UGyZw5wlOBCv",
        "outputId": "bd68ec2b-33e3-4469-8f11-745654694f7f"
      },
      "execution_count": 5,
      "outputs": [
        {
          "output_type": "execute_result",
          "data": {
            "text/plain": [
              "'pple'"
            ],
            "application/vnd.google.colaboratory.intrinsic+json": {
              "type": "string"
            }
          },
          "metadata": {},
          "execution_count": 5
        }
      ]
    },
    {
      "cell_type": "code",
      "source": [
        "# 13\n",
        "\n",
        "word = 'apple'\n",
        "\n",
        "word[ : : -1]"
      ],
      "metadata": {
        "colab": {
          "base_uri": "https://localhost:8080/",
          "height": 36
        },
        "id": "Ln8VyU7kONS_",
        "outputId": "c84560ce-b976-4a61-9503-8e16776ac497"
      },
      "execution_count": 6,
      "outputs": [
        {
          "output_type": "execute_result",
          "data": {
            "text/plain": [
              "'elppa'"
            ],
            "application/vnd.google.colaboratory.intrinsic+json": {
              "type": "string"
            }
          },
          "metadata": {},
          "execution_count": 6
        }
      ]
    },
    {
      "cell_type": "code",
      "source": [
        "# 예제 01\n",
        "\n",
        "def cube (a) :\n",
        "  \n",
        "  return a*a*a\n",
        "\n",
        "print(cube(12))\n",
        "\n",
        "def cube1 (b) :\n",
        "\n",
        "  return b**3\n",
        "\n",
        "print(cube1(12))"
      ],
      "metadata": {
        "colab": {
          "base_uri": "https://localhost:8080/"
        },
        "id": "R1xpu-AVORuU",
        "outputId": "60a27c1c-47ce-42e3-db8d-1b987352cb4b"
      },
      "execution_count": 9,
      "outputs": [
        {
          "output_type": "stream",
          "name": "stdout",
          "text": [
            "1728\n",
            "1728\n"
          ]
        }
      ]
    },
    {
      "cell_type": "code",
      "source": [
        "# 예제 02\n",
        "\n",
        "def rectangle (a, b) :\n",
        "\n",
        "  return a * b, (a + b) * 2\n",
        "\n",
        "rectangle(20, 30)"
      ],
      "metadata": {
        "colab": {
          "base_uri": "https://localhost:8080/"
        },
        "id": "sdJb3zEMOa-k",
        "outputId": "d45671cb-3850-4757-b47f-e2e26e8da574"
      },
      "execution_count": 10,
      "outputs": [
        {
          "output_type": "execute_result",
          "data": {
            "text/plain": [
              "(600, 100)"
            ]
          },
          "metadata": {},
          "execution_count": 10
        }
      ]
    },
    {
      "cell_type": "markdown",
      "source": [
        "## 정답 풀이"
      ],
      "metadata": {
        "id": "IBqRu2J-Owwk"
      }
    },
    {
      "cell_type": "code",
      "source": [
        "# 12\n",
        "\n",
        "word = 'apple'\n",
        "result = ''\n",
        "# 반복! for\n",
        "for char in 'apple':\n",
        "    # 만약 a가 아닐 때\n",
        "    if char != 'a':\n",
        "        result = result + char\n",
        "print(result)"
      ],
      "metadata": {
        "colab": {
          "base_uri": "https://localhost:8080/"
        },
        "id": "eB9-c-s4OvRq",
        "outputId": "05ff1dc0-5bed-455d-c9de-b71ed543afcb"
      },
      "execution_count": 11,
      "outputs": [
        {
          "output_type": "stream",
          "name": "stdout",
          "text": [
            "pple\n"
          ]
        }
      ]
    },
    {
      "cell_type": "code",
      "source": [
        "word = 'apple'\n",
        "\n",
        "for i in range(len(word)):\n",
        "    print(word[len(word)-i-1], end='')"
      ],
      "metadata": {
        "colab": {
          "base_uri": "https://localhost:8080/"
        },
        "id": "-XXXc-qtPBDy",
        "outputId": "24905ca3-e276-4bbe-a4ee-afa7b9acb3b6"
      },
      "execution_count": 12,
      "outputs": [
        {
          "output_type": "stream",
          "name": "stdout",
          "text": [
            "elppa"
          ]
        }
      ]
    }
  ]
}