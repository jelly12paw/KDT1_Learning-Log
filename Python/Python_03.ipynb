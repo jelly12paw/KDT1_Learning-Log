{
  "nbformat": 4,
  "nbformat_minor": 0,
  "metadata": {
    "colab": {
      "name": "Python_03.ipynb",
      "provenance": [],
      "authorship_tag": "ABX9TyNFRfi5FTcGCY/2uS6HuYQ6",
      "include_colab_link": true
    },
    "kernelspec": {
      "name": "python3",
      "display_name": "Python 3"
    },
    "language_info": {
      "name": "python"
    }
  },
  "cells": [
    {
      "cell_type": "markdown",
      "metadata": {
        "id": "view-in-github",
        "colab_type": "text"
      },
      "source": [
        "<a href=\"https://colab.research.google.com/github/jelly12paw/TIL/blob/main/Python/Python_03.ipynb\" target=\"_parent\"><img src=\"https://colab.research.google.com/assets/colab-badge.svg\" alt=\"Open In Colab\"/></a>"
      ]
    },
    {
      "cell_type": "markdown",
      "source": [
        "## Python 기초"
      ],
      "metadata": {
        "id": "t4Rx1J_PJKhW"
      }
    },
    {
      "cell_type": "markdown",
      "source": [
        "#### for 문 / index"
      ],
      "metadata": {
        "id": "Df0mDytCJZRa"
      }
    },
    {
      "cell_type": "code",
      "execution_count": 2,
      "metadata": {
        "colab": {
          "base_uri": "https://localhost:8080/"
        },
        "id": "SAs4UP9uEBS1",
        "outputId": "1cc787f9-1507-4ad7-8002-7eb61189b6d0"
      },
      "outputs": [
        {
          "output_type": "stream",
          "name": "stdout",
          "text": [
            "h\n",
            "e\n",
            "l\n",
            "l\n",
            "o\n",
            "!\n",
            "----\n",
            "h\n",
            "e\n",
            "l\n",
            "l\n",
            "o\n",
            "!\n"
          ]
        }
      ],
      "source": [
        "word = 'hello!'\n",
        "\n",
        "for char in word :\n",
        "\n",
        "    print(char)\n",
        "\n",
        "print('----')\n",
        "\n",
        "word = 'hello!'\n",
        "\n",
        "char = word[0]\n",
        "print(char)\n",
        "\n",
        "char = word[1] \n",
        "print(char)\n",
        "\n",
        "char = word[2]\n",
        "print(char)\n",
        "\n",
        "char = word[3]\n",
        "print(char)\n",
        "\n",
        "char = word[4]\n",
        "print(char)\n",
        "\n",
        "char = word[5]\n",
        "print(char)"
      ]
    },
    {
      "cell_type": "markdown",
      "source": [
        "#### function"
      ],
      "metadata": {
        "id": "_KYCkOpZJ6mq"
      }
    },
    {
      "cell_type": "code",
      "source": [
        "# 정의\n",
        "# 1. def \n",
        "# 2. 함수 이름 : add\n",
        "# 3. Input : a, b\n",
        "\n",
        "def add(a, b):\n",
        "    # 4. return : 값을 반환\n",
        "    return a + b\n",
        "\n",
        "def minus(a, b):\n",
        "    return a - b\n",
        "\n",
        "# 호출\n",
        "print(add(5, 10))\n",
        "print(minus(10, 5))\n",
        "\n",
        "# 내장 함수 호출\n",
        "print(sum([1, 2, 3]))"
      ],
      "metadata": {
        "colab": {
          "base_uri": "https://localhost:8080/"
        },
        "id": "m7p61zQXJugG",
        "outputId": "4235b8d6-cfac-4181-bd4f-7ba53ce62f47"
      },
      "execution_count": 3,
      "outputs": [
        {
          "output_type": "stream",
          "name": "stdout",
          "text": [
            "15\n",
            "5\n",
            "6\n"
          ]
        }
      ]
    },
    {
      "cell_type": "code",
      "source": [
        "def foo():\n",
        "    return 1, 2\n",
        "\n",
        "result = foo()\n",
        "print(result, type(result))\n",
        "\n",
        "def no():\n",
        "    a = 1\n",
        "\n",
        "result = no() \n",
        "print(result, type(result))\n",
        "\n",
        "\n",
        "# print 함수는 출력을 해주고, return 값은 없습니다. (None)\n",
        "\n",
        "a = print('hi')\n",
        "print(a, type(a)) \n",
        "\n",
        "a = 'hi'\n",
        "print(a)"
      ],
      "metadata": {
        "colab": {
          "base_uri": "https://localhost:8080/"
        },
        "id": "CQswk0UGKHX2",
        "outputId": "3fd773fe-dba9-46f9-8e5c-d28bf513686c"
      },
      "execution_count": 5,
      "outputs": [
        {
          "output_type": "stream",
          "name": "stdout",
          "text": [
            "(1, 2) <class 'tuple'>\n",
            "None <class 'NoneType'>\n",
            "hi\n",
            "None <class 'NoneType'>\n",
            "hi\n"
          ]
        }
      ]
    },
    {
      "cell_type": "code",
      "source": [
        "# 기본값이 sep는 ' '으로 정의가 되어 있음.\n",
        "print('hi', 'hello') # hi hello\n",
        "\n",
        "# 키워드로 sep를 바꿔서 호출할 수 있음\n",
        "print('hi', 'hello', sep='-') \n",
        "print(1, 2, 3, 4, 5, 6, 7, 8)\n",
        "\n",
        "# 정해지지 않은 갯수의 인자\n",
        "def my_add(*numbers):\n",
        "    # 내부적으로 numbers가 tuple\n",
        "    return numbers \n",
        "\n",
        "result = my_add(1, 2, 3)\n",
        "print(result, type(result)) \n",
        "\n",
        "def my_func(**kwargs):\n",
        "    return kwargs\n",
        "\n",
        "result = my_func(name='홍길동', age='100', gender='M')\n",
        "print(result, type(result)) "
      ],
      "metadata": {
        "colab": {
          "base_uri": "https://localhost:8080/"
        },
        "id": "W0aQBX4xKOH3",
        "outputId": "d3e5f7da-d3c9-43a5-f650-83a12d4d219f"
      },
      "execution_count": 6,
      "outputs": [
        {
          "output_type": "stream",
          "name": "stdout",
          "text": [
            "hi hello\n",
            "hi-hello\n",
            "1 2 3 4 5 6 7 8\n",
            "(1, 2, 3) <class 'tuple'>\n",
            "{'name': '홍길동', 'age': '100', 'gender': 'M'} <class 'dict'>\n"
          ]
        }
      ]
    },
    {
      "cell_type": "markdown",
      "source": [
        "#### 타입 변환"
      ],
      "metadata": {
        "id": "hHte9phdLbZ6"
      }
    },
    {
      "cell_type": "code",
      "source": [
        "# TypeError 발생 코드\n",
        "\n",
        "sum = 5\n",
        "print(sum([1, 2, 3]))"
      ],
      "metadata": {
        "colab": {
          "base_uri": "https://localhost:8080/",
          "height": 183
        },
        "id": "VT0GiubWKuuQ",
        "outputId": "ffec2a11-3987-44e7-94d4-a5c0c7eeb7d6"
      },
      "execution_count": 9,
      "outputs": [
        {
          "output_type": "error",
          "ename": "TypeError",
          "evalue": "ignored",
          "traceback": [
            "\u001b[0;31m---------------------------------------------------------------------------\u001b[0m",
            "\u001b[0;31mTypeError\u001b[0m                                 Traceback (most recent call last)",
            "\u001b[0;32m<ipython-input-9-9595f0262de6>\u001b[0m in \u001b[0;36m<module>\u001b[0;34m()\u001b[0m\n\u001b[1;32m      1\u001b[0m \u001b[0msum\u001b[0m \u001b[0;34m=\u001b[0m \u001b[0;36m5\u001b[0m\u001b[0;34m\u001b[0m\u001b[0;34m\u001b[0m\u001b[0m\n\u001b[0;32m----> 2\u001b[0;31m \u001b[0mprint\u001b[0m\u001b[0;34m(\u001b[0m\u001b[0msum\u001b[0m\u001b[0;34m(\u001b[0m\u001b[0;34m[\u001b[0m\u001b[0;36m1\u001b[0m\u001b[0;34m,\u001b[0m \u001b[0;36m2\u001b[0m\u001b[0;34m,\u001b[0m \u001b[0;36m3\u001b[0m\u001b[0;34m]\u001b[0m\u001b[0;34m)\u001b[0m\u001b[0;34m)\u001b[0m\u001b[0;34m\u001b[0m\u001b[0;34m\u001b[0m\u001b[0m\n\u001b[0m",
            "\u001b[0;31mTypeError\u001b[0m: 'int' object is not callable"
          ]
        }
      ]
    },
    {
      "cell_type": "code",
      "source": [
        "numbers = ['1', '2', '3']\n",
        "\n",
        "# 문자형을 숫자형으로 변환하기\n",
        "# 단, 리스트를 숫자로 형 변환은 불가능합니다.\n",
        "\n",
        "a = int(numbers[0])\n",
        "b = int(numbers[1])\n",
        "c = int(numbers[2])\n",
        "\n",
        "new_numbers = [a, b, c]\n",
        "\n",
        "# 반복문\n",
        "numbers = ['1', '2', '3']\n",
        "print(numbers)\n",
        "\n",
        "new_numbers = []\n",
        "for number in numbers :\n",
        "    \n",
        "    new_numbers.append(int(number))\n",
        "\n",
        "print(new_numbers)\n",
        "\n",
        "# map\n",
        "numbers = ['1', '2', '3']\n",
        "new_numbers_2 = map(int, numbers)\n",
        "\n",
        "print(new_numbers_2, type(new_numbers_2)) \n",
        "print(list(new_numbers_2)) "
      ],
      "metadata": {
        "colab": {
          "base_uri": "https://localhost:8080/"
        },
        "id": "O6pZErk2K2GH",
        "outputId": "3c8291a1-7e73-4314-c697-987dea38e44c"
      },
      "execution_count": 10,
      "outputs": [
        {
          "output_type": "stream",
          "name": "stdout",
          "text": [
            "['1', '2', '3']\n",
            "[1, 2, 3]\n",
            "<map object at 0x7ff3885cfa10> <class 'map'>\n",
            "[1, 2, 3]\n"
          ]
        }
      ]
    },
    {
      "cell_type": "markdown",
      "source": [
        "#### map"
      ],
      "metadata": {
        "id": "thD2QCndMOTi"
      }
    },
    {
      "cell_type": "code",
      "source": [
        "# 직사각형의 넓이를 구하시오.\n",
        "# 직사각형 세로는 n 가로는 m\n",
        "# Input 예시\n",
        "# 10 20\n",
        "\n",
        "n, m = map(int, input().split())\n",
        "print(n * m)\n",
        "\n",
        "# 내장함수를 10을 다 더해주는 함수가 있어요.\n",
        "def plus10(n):\n",
        "    return n + 10\n",
        "\n",
        "numbers = [10, 20, 30]\n",
        "new_numbers = list(map(plus10, numbers))\n",
        "print(new_numbers)"
      ],
      "metadata": {
        "colab": {
          "base_uri": "https://localhost:8080/"
        },
        "id": "bLNu_7-_MEa6",
        "outputId": "ce523050-a1d8-41fc-a5e1-477d13eebc1e"
      },
      "execution_count": 11,
      "outputs": [
        {
          "output_type": "stream",
          "name": "stdout",
          "text": [
            "10 20\n",
            "200\n",
            "[20, 30, 40]\n"
          ]
        }
      ]
    },
    {
      "cell_type": "markdown",
      "source": [
        "#### print end"
      ],
      "metadata": {
        "id": "eXZ80Ea5MfSy"
      }
    },
    {
      "cell_type": "code",
      "source": [
        "# sep (' ') : 여러개를 동시에 출력할 때 사이에 구분값\n",
        "# end ('\\n') : print 출력이 된 이후 뒤에 뭐를 붙일지!\n",
        "\n",
        "print(1, end='')\n",
        "print(2, end='')\n",
        "print(3)\n",
        "\n",
        "print('---')\n",
        "\n",
        "print(1, end='\\n')\n",
        "print(2, end='\\n')\n",
        "print(3)"
      ],
      "metadata": {
        "colab": {
          "base_uri": "https://localhost:8080/"
        },
        "id": "Do6REYadMVSo",
        "outputId": "b84b897e-cec2-4aae-fb77-96ec04db1950"
      },
      "execution_count": 13,
      "outputs": [
        {
          "output_type": "stream",
          "name": "stdout",
          "text": [
            "123\n",
            "---\n",
            "1\n",
            "2\n",
            "3\n"
          ]
        }
      ]
    }
  ]
}